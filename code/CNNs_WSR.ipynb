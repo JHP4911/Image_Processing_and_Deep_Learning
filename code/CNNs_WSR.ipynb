{
  "nbformat": 4,
  "nbformat_minor": 0,
  "metadata": {
    "colab": {
      "name": "CNNs_WSR.ipynb",
      "provenance": [],
      "collapsed_sections": [],
      "toc_visible": true,
      "authorship_tag": "ABX9TyO4IZlfHWfTAxXK2f9VmjYF",
      "include_colab_link": true
    },
    "kernelspec": {
      "display_name": "Python 3",
      "name": "python3"
    }
  },
  "cells": [
    {
      "cell_type": "markdown",
      "metadata": {
        "id": "view-in-github",
        "colab_type": "text"
      },
      "source": [
        "<a href=\"https://colab.research.google.com/github/wanwanliang/Image_Processing_and_Deep_Learning/blob/master/code/CNNs_WSR.ipynb\" target=\"_parent\"><img src=\"https://colab.research.google.com/assets/colab-badge.svg\" alt=\"Open In Colab\"/></a>"
      ]
    },
    {
      "cell_type": "markdown",
      "metadata": {
        "id": "iyl3CltvCfs2"
      },
      "source": [
        " # Prepare data"
      ]
    },
    {
      "cell_type": "markdown",
      "metadata": {
        "id": "JSdCgBoYMLLQ"
      },
      "source": [
        "## install and load packages"
      ]
    },
    {
      "cell_type": "code",
      "metadata": {
        "id": "5WG8EjJGMOsY"
      },
      "source": [
        "!pip install geopandas\r\n",
        "!pip install rasterio"
      ],
      "execution_count": null,
      "outputs": []
    },
    {
      "cell_type": "code",
      "metadata": {
        "id": "S9TQTCuTZUUp"
      },
      "source": [
        "import rasterio as rio\r\n",
        "import geopandas as gpd\r\n",
        "import pandas as pd\r\n",
        "import numpy as np\r\n",
        "import os\r\n",
        "import sklearn\r\n",
        "import tensorflow as tf\r\n",
        "%matplotlib inline\r\n",
        "import matplotlib.pyplot as plt\r\n",
        "import google.colab\r\n",
        "from google.colab import drive\r\n",
        "import glob"
      ],
      "execution_count": null,
      "outputs": []
    },
    {
      "cell_type": "code",
      "metadata": {
        "colab": {
          "base_uri": "https://localhost:8080/"
        },
        "id": "l22oxr9Ob9jr",
        "outputId": "632efad9-2462-4524-87fc-995fccd3d1bc"
      },
      "source": [
        "drive.mount('/content/drive')"
      ],
      "execution_count": null,
      "outputs": [
        {
          "output_type": "stream",
          "text": [
            "Mounted at /content/drive\n"
          ],
          "name": "stdout"
        }
      ]
    },
    {
      "cell_type": "code",
      "metadata": {
        "id": "cHN7tNPAcQ48"
      },
      "source": [
        "os.chdir(\"/content/drive/My Drive/UMN_Research/Data/wsr/image_200_bb45\")"
      ],
      "execution_count": null,
      "outputs": []
    },
    {
      "cell_type": "code",
      "metadata": {
        "id": "SwLA-kmZVjX9"
      },
      "source": [
        "from keras.layers import Input, Conv2D, Activation, BatchNormalization, GlobalAveragePooling2D, Dense, Dropout, AveragePooling2D, Flatten, ZeroPadding2D, MaxPooling2D, Add\r\n",
        "from keras.activations import relu, softmax\r\n",
        "from keras.models import Model\r\n",
        "from keras import regularizers, initializers"
      ],
      "execution_count": null,
      "outputs": []
    },
    {
      "cell_type": "code",
      "metadata": {
        "id": "tD2REYQNbMD1"
      },
      "source": [
        "from sklearn.preprocessing import OneHotEncoder\r\n",
        "from sklearn.model_selection import train_test_split"
      ],
      "execution_count": null,
      "outputs": []
    },
    {
      "cell_type": "markdown",
      "metadata": {
        "id": "SxAHVhc3D-f-"
      },
      "source": [
        "# Design Resnet"
      ]
    },
    {
      "cell_type": "markdown",
      "metadata": {
        "id": "SPxsT_w6EJGd"
      },
      "source": [
        "### Define identity block"
      ]
    },
    {
      "cell_type": "code",
      "metadata": {
        "id": "DlAj9gLpb47d"
      },
      "source": [
        "def identity_block(X,f,filters, stage, block):\r\n",
        "\r\n",
        "  # defining name basis\r\n",
        "  conv_name_base = 'res' + str(stage) + block + \"_branch\"\r\n",
        "  bn_name_base = 'bn' + str(stage) + block + \"_branch\"\r\n",
        "\r\n",
        "  F1, F2, F3 = filters\r\n",
        "\r\n",
        "  X_shortcut = X\r\n",
        "\r\n",
        "  # first component of main path\r\n",
        "  X = Conv2D(filters=F1, kernel_size=(1,1), strides=(1,1), padding='valid', name = conv_name_base + '2a', kernel_initializer=initializers.glorot_uniform(seed=0))(X)\r\n",
        "  X = BatchNormalization(axis=3, name=bn_name_base + '2a')(X)\r\n",
        "  X = Activation('relu')(X)\r\n",
        "\r\n",
        "  # second component of main path\r\n",
        "  X = Conv2D(filters=F2, kernel_size=(f,f), strides=(1,1), padding='same', name=conv_name_base + '2b', kernel_initializer=initializers.glorot_uniform(seed=0))(X)\r\n",
        "  X = BatchNormalization(axis = 3, name=bn_name_base + '2b')(X)\r\n",
        "  X =  Activation('relu')(X)\r\n",
        "\r\n",
        "  # third component of main path\r\n",
        "  X = Conv2D(filters = F3, kernel_size = (1, 1), strides = (1,1), padding = 'valid', name = conv_name_base + '2c', kernel_initializer = initializers.glorot_uniform(seed=0))(X)\r\n",
        "  X = BatchNormalization(axis = 3, name = bn_name_base + '2c')(X)\r\n",
        "\r\n",
        "  # final step\r\n",
        "  X = Add()([X, X_shortcut])\r\n",
        "  X = Activation('relu')(X)\r\n",
        "\r\n",
        "  return X"
      ],
      "execution_count": null,
      "outputs": []
    },
    {
      "cell_type": "markdown",
      "metadata": {
        "id": "wYDorHqQEOp8"
      },
      "source": [
        "### Define convolutional block"
      ]
    },
    {
      "cell_type": "code",
      "metadata": {
        "id": "ZATMgxPM5v7F"
      },
      "source": [
        "def convolutional_block(X, f, filters, stage, block, s=2):\r\n",
        "\r\n",
        "  # defining name basis\r\n",
        "  conv_name_base = 'res' + str(stage) + block + \"_branch\"\r\n",
        "  bn_name_base = 'bn' + str(stage) + block + \"_branch\"\r\n",
        "\r\n",
        "  # Retrieve Filters\r\n",
        "  F1, F2, F3 = filters\r\n",
        "\r\n",
        "  X_shortcut = X\r\n",
        "\r\n",
        "  # First component of main path \r\n",
        "  X = Conv2D(F1, (1,1), strides = (s,s), name= conv_name_base + \"2a\", kernel_initializer= initializers.glorot_uniform(seed=0))(X)\r\n",
        "  X = BatchNormalization(axis=3, name=bn_name_base + '2a')(X)\r\n",
        "  X = Activation('relu')(X)\r\n",
        "\r\n",
        "  # Second component of main path \r\n",
        "  X = Conv2D(filters= F2, kernel_size=(f,f), strides=(1,1), padding='same', name=conv_name_base + '2b', kernel_initializer= initializers.glorot_uniform(seed=0))(X)\r\n",
        "  X = BatchNormalization(axis=3, name=bn_name_base + '2b')(X)\r\n",
        "  X = Activation('relu')(X)\r\n",
        "\r\n",
        "  # Third component of main path \r\n",
        "  X = Conv2D(filters = F3, kernel_size=(1,1), strides=(1,1), padding='valid', name=conv_name_base + '2c', kernel_initializer=initializers.glorot_uniform(seed=0))(X)\r\n",
        "  X = BatchNormalization(axis = 3, name = bn_name_base + '2c')(X)\r\n",
        "\r\n",
        "  ##### SHORTCUT PATH #### \r\n",
        "  X_shortcut =  Conv2D(F3, (1, 1), strides = (s,s), name = conv_name_base + '1', kernel_initializer = initializers.glorot_uniform(seed=0))(X_shortcut)\r\n",
        "  X_shortcut = BatchNormalization(axis = 3, name = bn_name_base + '1')(X_shortcut)\r\n",
        "\r\n",
        "  # Final step: Add shortcut value to main path, and pass it through a RELU activation \r\n",
        "  X = Add()([X, X_shortcut])\r\n",
        "  X = Activation('relu')(X)\r\n",
        "\r\n",
        "  return X"
      ],
      "execution_count": null,
      "outputs": []
    },
    {
      "cell_type": "markdown",
      "metadata": {
        "id": "mLviL6aoEUel"
      },
      "source": [
        "### ResNet50"
      ]
    },
    {
      "cell_type": "code",
      "metadata": {
        "id": "Q05vttJGLof1"
      },
      "source": [
        "def ResNet50(input_shape = (64, 64, 5), classes=2):\r\n",
        "\r\n",
        "  X_input = Input(input_shape)\r\n",
        "\r\n",
        "  X = ZeroPadding2D((3,3))(X_input)\r\n",
        "\r\n",
        "  # stage 1 \r\n",
        "  X = Conv2D(64, (3,3), strides=(2,2), name='conv1', kernel_initializer=initializers.glorot_uniform(seed=0))(X)\r\n",
        "  X = BatchNormalization(axis=3, name='bn_conv1')(X)\r\n",
        "  X = Activation('relu')(X)\r\n",
        "  X = MaxPooling2D((3,3), strides=(2,2), padding='same')(X)\r\n",
        "  \r\n",
        "  # stage 2\r\n",
        "  X = convolutional_block(X, f=3, filters=[64, 64, 256], stage=2, block='a', s=1)\r\n",
        "  X = identity_block(X, 3, [64,64,256], stage=2, block='b')\r\n",
        "  X = identity_block(X, 3, [64,64,256], stage=2, block='c')\r\n",
        "\r\n",
        "  # stage 3\r\n",
        "  X = convolutional_block(X, f=3, filters=[128, 128, 512], stage=3, block='a', s=2)\r\n",
        "  X = identity_block(X, 3, [128, 128, 512], stage=3, block='b')\r\n",
        "  X = identity_block(X, 3, [128,128,512], stage=3, block='c')\r\n",
        "  X = identity_block(X, 3, [128,128,512], stage=3, block='d')\r\n",
        "\r\n",
        "  # stage 4\r\n",
        "  X = convolutional_block(X, f=3, filters=[256,256,1024], stage=4, block='a', s=2)\r\n",
        "  X = identity_block(X, 3, [256, 256, 1024], stage=4, block='b')\r\n",
        "  X = identity_block(X, 3, [256, 256, 1024], stage=4, block='c')\r\n",
        "  X = identity_block(X, 3, [256, 256, 1024], stage=4, block='d')\r\n",
        "  X = identity_block(X, 3, [256, 256, 1024], stage=4, block='e')\r\n",
        "  X = identity_block(X, 3, [256, 256, 1024], stage=4, block='f')\r\n",
        "\r\n",
        "  # stage 5\r\n",
        "  X = convolutional_block(X, f = 3, filters = [512, 512, 2048], stage = 5, block='a', s = 2)\r\n",
        "  X = identity_block(X, 3, [512,512, 2048], stage=5, block='b')\r\n",
        "  X = identity_block(X, 3, [512, 512, 2048], stage=5, block='c')\r\n",
        "\r\n",
        "  # averge pooling\r\n",
        "  X = AveragePooling2D(name='avg_pool', padding='same')(X)\r\n",
        "\r\n",
        "  # output layer\r\n",
        "  X = Flatten()(X)\r\n",
        "  X = Dense(classes, activation='softmax', name='fc' + str(classes), kernel_initializer= initializers.glorot_uniform(seed=0))(X)\r\n",
        "\r\n",
        "  # create model\r\n",
        "  model = Model(inputs = X_input, outputs= X, name='ResNet50')\r\n",
        "\r\n",
        "  return model"
      ],
      "execution_count": null,
      "outputs": []
    },
    {
      "cell_type": "markdown",
      "metadata": {
        "id": "3m8GfuU1VfZm"
      },
      "source": [
        "### ResNet18"
      ]
    },
    {
      "cell_type": "code",
      "metadata": {
        "id": "Ja22fMMOUxNV"
      },
      "source": [
        "def ResNet18(input_shape = (64, 64, 5), classes=2):\r\n",
        "\r\n",
        "  X_input = Input(input_shape)\r\n",
        "\r\n",
        "  X = ZeroPadding2D((3,3))(X_input)\r\n",
        "\r\n",
        "  # stage 1 \r\n",
        "  X = Conv2D(64, (3,3), strides=(2,2), name='conv1', kernel_initializer=initializers.glorot_uniform(seed=0))(X)\r\n",
        "  X = BatchNormalization(axis=3, name='bn_conv1')(X)\r\n",
        "  X = Activation('relu')(X)\r\n",
        "  X = MaxPooling2D((3,3), strides=(1,1), padding='same')(X)\r\n",
        "  \r\n",
        "  # stage 2\r\n",
        "  X = convolutional_block(X, f=3, filters=[64, 64, 256], stage=2, block='a', s=1)\r\n",
        "  X = identity_block(X, 3, [64,64,256], stage=2, block='b')\r\n",
        "\r\n",
        "\r\n",
        "  # stage 3\r\n",
        "  X = convolutional_block(X, f=3, filters=[128, 128, 512], stage=3, block='a', s=2)\r\n",
        "  X = identity_block(X, 3, [128, 128, 512], stage=3, block='b')\r\n",
        "\r\n",
        "\r\n",
        "  # stage 4\r\n",
        "  X = convolutional_block(X, f=3, filters=[256,256,1024], stage=4, block='a', s=2)\r\n",
        "  X = identity_block(X, 3, [256, 256, 1024], stage=4, block='b')\r\n",
        "\r\n",
        "\r\n",
        "  # stage 5\r\n",
        "  X = convolutional_block(X, f = 3, filters = [512, 512, 2048], stage = 5, block='a', s = 2)\r\n",
        "  X = identity_block(X, 3, [512,512, 2048], stage=5, block='b')\r\n",
        "\r\n",
        "\r\n",
        "  # averge pooling\r\n",
        "  X = AveragePooling2D(name='avg_pool', padding='same')(X)\r\n",
        "\r\n",
        "  # output layer\r\n",
        "  X = Flatten()(X)\r\n",
        "  X = Dense(classes, activation='softmax', name='fc' + str(classes), kernel_initializer= initializers.glorot_uniform(seed=0))(X)\r\n",
        "\r\n",
        "  # create model\r\n",
        "  model = Model(inputs = X_input, outputs= X, name='ResNet50')\r\n",
        "\r\n",
        "  return model"
      ],
      "execution_count": null,
      "outputs": []
    },
    {
      "cell_type": "markdown",
      "metadata": {
        "id": "eLiZcXpqEoLP"
      },
      "source": [
        "# Load and prepare data"
      ]
    },
    {
      "cell_type": "code",
      "metadata": {
        "id": "YwhEVYRtwX22"
      },
      "source": [
        "os.chdir('/content/drive/Shared drives/WSR_data/Drone200ft/Multispectral_LargerPlotSize')"
      ],
      "execution_count": null,
      "outputs": []
    },
    {
      "cell_type": "markdown",
      "metadata": {
        "id": "dAuj4axFP4DW"
      },
      "source": [
        "### list and order files"
      ]
    },
    {
      "cell_type": "code",
      "metadata": {
        "colab": {
          "base_uri": "https://localhost:8080/"
        },
        "id": "6TU7jkQk7w82",
        "outputId": "669848d6-1a6b-471e-e6ca-7a9efc214e1d"
      },
      "source": [
        "import glob\r\n",
        "t = glob.glob(\"*.tif\")\r\n",
        "# t2 = sorted(t)\r\n",
        "# os.remove('plot621 (1).tif')\r\n",
        "print(len(t))\r\n",
        "t[:10]"
      ],
      "execution_count": null,
      "outputs": [
        {
          "output_type": "stream",
          "text": [
            "960\n"
          ],
          "name": "stdout"
        },
        {
          "output_type": "execute_result",
          "data": {
            "text/plain": [
              "['plot598.tif',\n",
              " 'plot482.tif',\n",
              " 'plot624.tif',\n",
              " 'plot574.tif',\n",
              " 'plot520.tif',\n",
              " 'plot560.tif',\n",
              " 'plot636.tif',\n",
              " 'plot501.tif',\n",
              " 'plot541.tif',\n",
              " 'plot587.tif']"
            ]
          },
          "metadata": {
            "tags": []
          },
          "execution_count": 40
        }
      ]
    },
    {
      "cell_type": "code",
      "metadata": {
        "colab": {
          "base_uri": "https://localhost:8080/"
        },
        "id": "QDYiFUcgCW3K",
        "outputId": "3f44b11d-b387-48b8-a18f-77838617deee"
      },
      "source": [
        "nbs = []\r\n",
        "[nbs.append(int((td.split('plot')[1]).split('.')[0])) for td in t]\r\n",
        "nbs[:10]"
      ],
      "execution_count": null,
      "outputs": [
        {
          "output_type": "execute_result",
          "data": {
            "text/plain": [
              "[598, 482, 624, 574, 520, 560, 636, 501, 541, 587]"
            ]
          },
          "metadata": {
            "tags": []
          },
          "execution_count": 41
        }
      ]
    },
    {
      "cell_type": "code",
      "metadata": {
        "id": "3lY8_rifFTOz"
      },
      "source": [
        "all = zip(nbs, t)\r\n",
        "sorted_all = sorted(all)"
      ],
      "execution_count": null,
      "outputs": []
    },
    {
      "cell_type": "code",
      "metadata": {
        "id": "lx-ZDCxzHkmj"
      },
      "source": [
        "t_sorted = [x for y, x in sorted_all]"
      ],
      "execution_count": null,
      "outputs": []
    },
    {
      "cell_type": "code",
      "metadata": {
        "colab": {
          "base_uri": "https://localhost:8080/"
        },
        "id": "2dX6l1XNPcd3",
        "outputId": "61bed62a-fa38-4490-e7b9-69f651aae1bb"
      },
      "source": [
        "t_sorted[:10]"
      ],
      "execution_count": null,
      "outputs": [
        {
          "output_type": "execute_result",
          "data": {
            "text/plain": [
              "['plot1.tif',\n",
              " 'plot2.tif',\n",
              " 'plot3.tif',\n",
              " 'plot4.tif',\n",
              " 'plot5.tif',\n",
              " 'plot6.tif',\n",
              " 'plot7.tif',\n",
              " 'plot8.tif',\n",
              " 'plot9.tif',\n",
              " 'plot10.tif']"
            ]
          },
          "metadata": {
            "tags": []
          },
          "execution_count": 44
        }
      ]
    },
    {
      "cell_type": "markdown",
      "metadata": {
        "id": "9_wz-8zmPxt6"
      },
      "source": [
        "### load all images in one numpy array"
      ]
    },
    {
      "cell_type": "code",
      "metadata": {
        "id": "V3ul1tvPSb4e"
      },
      "source": [
        "def tif2ary(tif):\r\n",
        "\r\n",
        "  raA = rio.open(tif)\r\n",
        "  arys = raA.read()\r\n",
        "\r\n",
        "  arys= arys.astype('float32')\r\n",
        "  arys =np.moveaxis(arys, 0, -1)\r\n",
        "\r\n",
        "  \r\n",
        "  return(arys)"
      ],
      "execution_count": null,
      "outputs": []
    },
    {
      "cell_type": "code",
      "metadata": {
        "id": "xoAk0qKjTFgT"
      },
      "source": [
        "dt = None\r\n",
        "\r\n",
        "for tif in t_sorted:\r\n",
        "\r\n",
        "  ary = tif2ary(tif)\r\n",
        "  ary = ary[1:33, 1:33:,]\r\n",
        "\r\n",
        "  # resize image array to 64*64\r\n",
        "  ary = np.repeat(ary, 2, axis=1)\r\n",
        "  ary = np.repeat(ary, 2, axis=0)\r\n",
        "\r\n",
        "  ary = ary.reshape((1, 64, 64,5))\r\n",
        "\r\n",
        "  if dt is None:\r\n",
        "    dt = ary\r\n",
        "  else:\r\n",
        "    dt = np.concatenate((dt, ary), axis=0)"
      ],
      "execution_count": null,
      "outputs": []
    },
    {
      "cell_type": "code",
      "metadata": {
        "colab": {
          "base_uri": "https://localhost:8080/"
        },
        "id": "VyCIN_OrVBfY",
        "outputId": "0ceeab6d-275a-4b30-c400-7e85a5ba1f09"
      },
      "source": [
        "dt.shape"
      ],
      "execution_count": null,
      "outputs": [
        {
          "output_type": "execute_result",
          "data": {
            "text/plain": [
              "(960, 64, 64, 5)"
            ]
          },
          "metadata": {
            "tags": []
          },
          "execution_count": 47
        }
      ]
    },
    {
      "cell_type": "code",
      "metadata": {
        "id": "HISi6_FaRv1G",
        "colab": {
          "base_uri": "https://localhost:8080/"
        },
        "outputId": "afb812e6-2b31-4899-a4cb-2726617a993a"
      },
      "source": [
        "min_val = [np.min(dt[:,:,:,i]) for i in range(5)]\r\n",
        "print(min_val)"
      ],
      "execution_count": null,
      "outputs": [
        {
          "output_type": "stream",
          "text": [
            "[3707.8135, 3668.7615, 2762.414, 12326.874, 3777.8079]\n"
          ],
          "name": "stdout"
        }
      ]
    },
    {
      "cell_type": "code",
      "metadata": {
        "colab": {
          "base_uri": "https://localhost:8080/"
        },
        "id": "cO8ZmvhXON4A",
        "outputId": "077c7f14-2dc8-4aa8-f095-f405e1e3ecf8"
      },
      "source": [
        "max_val = [np.max(dt[:,:,:,i]) for i in range(5)]\r\n",
        "print(max_val)\r\n",
        "dt = dt/max_val\r\n",
        "print([np.max(dt[:,:,:,i]) for i in range(5)])"
      ],
      "execution_count": null,
      "outputs": [
        {
          "output_type": "stream",
          "text": [
            "[64268.277, 60118.1, 35737.86, 236070.98, 52668.152]\n",
            "[1.0, 1.0, 1.0, 1.0, 1.0]\n"
          ],
          "name": "stdout"
        }
      ]
    },
    {
      "cell_type": "code",
      "metadata": {
        "colab": {
          "base_uri": "https://localhost:8080/",
          "height": 221
        },
        "id": "tvcVCNHBVuT-",
        "outputId": "82ffca3b-e143-430b-afba-6612e8364a1b"
      },
      "source": [
        "y = pd.read_csv(\"../labels.csv\")\r\n",
        "print(y.shape)\r\n",
        "y[:5]"
      ],
      "execution_count": null,
      "outputs": [
        {
          "output_type": "stream",
          "text": [
            "(960, 8)\n"
          ],
          "name": "stdout"
        },
        {
          "output_type": "execute_result",
          "data": {
            "text/html": [
              "<div>\n",
              "<style scoped>\n",
              "    .dataframe tbody tr th:only-of-type {\n",
              "        vertical-align: middle;\n",
              "    }\n",
              "\n",
              "    .dataframe tbody tr th {\n",
              "        vertical-align: top;\n",
              "    }\n",
              "\n",
              "    .dataframe thead th {\n",
              "        text-align: right;\n",
              "    }\n",
              "</style>\n",
              "<table border=\"1\" class=\"dataframe\">\n",
              "  <thead>\n",
              "    <tr style=\"text-align: right;\">\n",
              "      <th></th>\n",
              "      <th>plot_ID</th>\n",
              "      <th>binary_1</th>\n",
              "      <th>score</th>\n",
              "      <th>resistance</th>\n",
              "      <th>resistance_class_4</th>\n",
              "      <th>binary_2</th>\n",
              "      <th>block</th>\n",
              "      <th>variety</th>\n",
              "    </tr>\n",
              "  </thead>\n",
              "  <tbody>\n",
              "    <tr>\n",
              "      <th>0</th>\n",
              "      <td>1</td>\n",
              "      <td>1</td>\n",
              "      <td>50.0</td>\n",
              "      <td>S</td>\n",
              "      <td>S</td>\n",
              "      <td>S</td>\n",
              "      <td>2</td>\n",
              "      <td>DH058</td>\n",
              "    </tr>\n",
              "    <tr>\n",
              "      <th>1</th>\n",
              "      <td>2</td>\n",
              "      <td>1</td>\n",
              "      <td>5.0</td>\n",
              "      <td>RMR</td>\n",
              "      <td>MR</td>\n",
              "      <td>R</td>\n",
              "      <td>2</td>\n",
              "      <td>Faller</td>\n",
              "    </tr>\n",
              "    <tr>\n",
              "      <th>2</th>\n",
              "      <td>3</td>\n",
              "      <td>1</td>\n",
              "      <td>25.0</td>\n",
              "      <td>MSS</td>\n",
              "      <td>S</td>\n",
              "      <td>S</td>\n",
              "      <td>2</td>\n",
              "      <td>DH121</td>\n",
              "    </tr>\n",
              "    <tr>\n",
              "      <th>3</th>\n",
              "      <td>4</td>\n",
              "      <td>1</td>\n",
              "      <td>40.0</td>\n",
              "      <td>MSS</td>\n",
              "      <td>S</td>\n",
              "      <td>S</td>\n",
              "      <td>2</td>\n",
              "      <td>DH80</td>\n",
              "    </tr>\n",
              "    <tr>\n",
              "      <th>4</th>\n",
              "      <td>5</td>\n",
              "      <td>1</td>\n",
              "      <td>25.0</td>\n",
              "      <td>MSS</td>\n",
              "      <td>S</td>\n",
              "      <td>S</td>\n",
              "      <td>2</td>\n",
              "      <td>ROB</td>\n",
              "    </tr>\n",
              "  </tbody>\n",
              "</table>\n",
              "</div>"
            ],
            "text/plain": [
              "   plot_ID  binary_1  score  ... binary_2 block variety\n",
              "0        1         1   50.0  ...        S     2   DH058\n",
              "1        2         1    5.0  ...        R     2  Faller\n",
              "2        3         1   25.0  ...        S     2   DH121\n",
              "3        4         1   40.0  ...        S     2    DH80\n",
              "4        5         1   25.0  ...        S     2     ROB\n",
              "\n",
              "[5 rows x 8 columns]"
            ]
          },
          "metadata": {
            "tags": []
          },
          "execution_count": 50
        }
      ]
    },
    {
      "cell_type": "code",
      "metadata": {
        "colab": {
          "base_uri": "https://localhost:8080/"
        },
        "id": "7tDxObuWZc_A",
        "outputId": "e4423bc2-2dd0-48b1-a457-cfae27d1aee3"
      },
      "source": [
        "y.binary_1.value_counts()"
      ],
      "execution_count": null,
      "outputs": [
        {
          "output_type": "execute_result",
          "data": {
            "text/plain": [
              "0    483\n",
              "1    477\n",
              "Name: binary_1, dtype: int64"
            ]
          },
          "metadata": {
            "tags": []
          },
          "execution_count": 51
        }
      ]
    },
    {
      "cell_type": "code",
      "metadata": {
        "colab": {
          "base_uri": "https://localhost:8080/"
        },
        "id": "vUE0Uw6TZlti",
        "outputId": "b1024be5-d081-4ad5-f49f-84b440c14d7d"
      },
      "source": [
        "y = y['binary_1']\r\n",
        "y = np.asarray(y).reshape((-1,1))\r\n",
        "y.shape"
      ],
      "execution_count": null,
      "outputs": [
        {
          "output_type": "execute_result",
          "data": {
            "text/plain": [
              "(960, 1)"
            ]
          },
          "metadata": {
            "tags": []
          },
          "execution_count": 52
        }
      ]
    },
    {
      "cell_type": "code",
      "metadata": {
        "colab": {
          "base_uri": "https://localhost:8080/"
        },
        "id": "3cBzX4vrSy1c",
        "outputId": "eaa22ae4-cf54-4127-d3ed-78b9d455d0e8"
      },
      "source": [
        "from sklearn.preprocessing import LabelEncoder\r\n",
        "encoder = LabelEncoder()\r\n",
        "encoder.fit(y)\r\n",
        "y = encoder.transform(y)\r\n",
        "y.shape"
      ],
      "execution_count": null,
      "outputs": [
        {
          "output_type": "stream",
          "text": [
            "/usr/local/lib/python3.6/dist-packages/sklearn/preprocessing/_label.py:235: DataConversionWarning: A column-vector y was passed when a 1d array was expected. Please change the shape of y to (n_samples, ), for example using ravel().\n",
            "  y = column_or_1d(y, warn=True)\n",
            "/usr/local/lib/python3.6/dist-packages/sklearn/preprocessing/_label.py:268: DataConversionWarning: A column-vector y was passed when a 1d array was expected. Please change the shape of y to (n_samples, ), for example using ravel().\n",
            "  y = column_or_1d(y, warn=True)\n"
          ],
          "name": "stderr"
        },
        {
          "output_type": "execute_result",
          "data": {
            "text/plain": [
              "(960,)"
            ]
          },
          "metadata": {
            "tags": []
          },
          "execution_count": 53
        }
      ]
    },
    {
      "cell_type": "code",
      "metadata": {
        "colab": {
          "base_uri": "https://localhost:8080/"
        },
        "id": "XYNyvWr_ZpNG",
        "outputId": "36fc8a15-1562-49db-fcb3-dc0ffe381729"
      },
      "source": [
        "x_train, x_test, y_train, y_test = train_test_split(dt, y, random_state=16, shuffle=True, test_size=0.1)\r\n",
        "x_train, x_val, y_train, y_val = train_test_split(x_train, y_train, random_state=16, test_size=0.15)\r\n",
        "\r\n",
        "print(\"Train size is: {}\".format(x_train.shape[0]))\r\n",
        "print(\"Test size is: {}\".format(x_test.shape[0]))\r\n",
        "print(\"Validation size is: {}\".format(x_val.shape[0]))"
      ],
      "execution_count": null,
      "outputs": [
        {
          "output_type": "stream",
          "text": [
            "Train size is: 734\n",
            "Test size is: 96\n",
            "Validation size is: 130\n"
          ],
          "name": "stdout"
        }
      ]
    },
    {
      "cell_type": "markdown",
      "metadata": {
        "id": "cEi63zxwTMqX"
      },
      "source": [
        ""
      ]
    },
    {
      "cell_type": "code",
      "metadata": {
        "colab": {
          "base_uri": "https://localhost:8080/"
        },
        "id": "wN4PiyYvOWIj",
        "outputId": "a41f9611-3edd-4c90-9f90-805b1922559b"
      },
      "source": [
        "x_train.shape"
      ],
      "execution_count": null,
      "outputs": [
        {
          "output_type": "execute_result",
          "data": {
            "text/plain": [
              "(734, 64, 64, 5)"
            ]
          },
          "metadata": {
            "tags": []
          },
          "execution_count": 55
        }
      ]
    },
    {
      "cell_type": "code",
      "metadata": {
        "colab": {
          "base_uri": "https://localhost:8080/"
        },
        "id": "xHo6ahSfOdHJ",
        "outputId": "9c8dff1a-ea26-45d9-c927-98cca77f68fb"
      },
      "source": [
        "ts = x_train[0]\r\n",
        "print(np.min(ts))\r\n",
        "print(np.max(ts))"
      ],
      "execution_count": null,
      "outputs": [
        {
          "output_type": "stream",
          "text": [
            "0.118229024\n",
            "0.72910243\n"
          ],
          "name": "stdout"
        }
      ]
    },
    {
      "cell_type": "markdown",
      "metadata": {
        "id": "CdkxLraRVVf_"
      },
      "source": [
        "\r\n",
        "# DL Model Training"
      ]
    },
    {
      "cell_type": "code",
      "metadata": {
        "id": "rOFPNNRlTB4X"
      },
      "source": [
        "#model = ResNet50(input_shape=(64, 64, 5), classes=2)\r\n",
        "model = ResNet18(input_shape=(64, 64, 5), classes=2)"
      ],
      "execution_count": null,
      "outputs": []
    },
    {
      "cell_type": "code",
      "metadata": {
        "id": "fl-SjJtZRIqR"
      },
      "source": [
        "model.compile(optimizer= tf.keras.optimizers.Adam(lr=0.005),loss='sparse_categorical_crossentropy', metrics=['accuracy'])"
      ],
      "execution_count": null,
      "outputs": []
    },
    {
      "cell_type": "code",
      "metadata": {
        "id": "_cPOQHvhZgr7"
      },
      "source": [
        "earlyStopping = EarlyStopping(monitor='val_loss', patience=50, verbose=0, mode='min')\r\n",
        "mcp_save = ModelCheckpoint('.mdl_wts.hdf5', save_best_only=True, monitor='val_loss', mode='min')\r\n",
        "reduce_lr_loss = ReduceLROnPlateau(monitor='val_loss', factor=0.2, patience=20, verbose=1, epsilon=1e-4, min_lr = 0.0001, mode='auto')"
      ],
      "execution_count": null,
      "outputs": []
    },
    {
      "cell_type": "code",
      "metadata": {
        "colab": {
          "base_uri": "https://localhost:8080/"
        },
        "id": "19sRiZXKZ2lp",
        "outputId": "9a938027-1cf1-47dc-946e-7f34ec70f16a"
      },
      "source": [
        "model.fit(x_train, y_train, epochs=200, batch_size=16, validation_data=(x_val, y_val), callbacks=[earlyStopping, mcp_save, reduce_lr_loss])"
      ],
      "execution_count": null,
      "outputs": [
        {
          "output_type": "stream",
          "text": [
            "Epoch 1/200\n",
            "46/46 [==============================] - 128s 3s/step - loss: 9.8398 - accuracy: 0.5391 - val_loss: 3218.0862 - val_accuracy: 0.5000\n",
            "Epoch 2/200\n",
            "46/46 [==============================] - 125s 3s/step - loss: 5.7842 - accuracy: 0.5441 - val_loss: 739.0918 - val_accuracy: 0.4846\n",
            "Epoch 3/200\n",
            "46/46 [==============================] - 125s 3s/step - loss: 4.7011 - accuracy: 0.5254 - val_loss: 169.0479 - val_accuracy: 0.4385\n",
            "Epoch 4/200\n",
            "46/46 [==============================] - 124s 3s/step - loss: 1.9325 - accuracy: 0.5897 - val_loss: 0.7299 - val_accuracy: 0.5077\n",
            "Epoch 5/200\n",
            "46/46 [==============================] - 124s 3s/step - loss: 1.9342 - accuracy: 0.5680 - val_loss: 1.1383 - val_accuracy: 0.6385\n",
            "Epoch 6/200\n",
            "46/46 [==============================] - 124s 3s/step - loss: 1.7007 - accuracy: 0.6061 - val_loss: 0.7961 - val_accuracy: 0.5769\n",
            "Epoch 7/200\n",
            "46/46 [==============================] - 125s 3s/step - loss: 1.0855 - accuracy: 0.6228 - val_loss: 1.2085 - val_accuracy: 0.6077\n",
            "Epoch 8/200\n",
            "46/46 [==============================] - 124s 3s/step - loss: 0.8061 - accuracy: 0.6265 - val_loss: 1.0187 - val_accuracy: 0.5385\n",
            "Epoch 9/200\n",
            "46/46 [==============================] - 124s 3s/step - loss: 0.8467 - accuracy: 0.6161 - val_loss: 0.6369 - val_accuracy: 0.6308\n",
            "Epoch 10/200\n",
            "46/46 [==============================] - 124s 3s/step - loss: 0.6411 - accuracy: 0.6958 - val_loss: 0.6983 - val_accuracy: 0.7077\n",
            "Epoch 11/200\n",
            " 7/46 [===>..........................] - ETA: 1:41 - loss: 0.7781 - accuracy: 0.5991"
          ],
          "name": "stdout"
        }
      ]
    },
    {
      "cell_type": "markdown",
      "metadata": {
        "id": "KA8rJrdqLBxi"
      },
      "source": [
        "## Model evaluation"
      ]
    },
    {
      "cell_type": "code",
      "metadata": {
        "id": "eYQTh6C9KIuY"
      },
      "source": [
        "y_test_pred = model.predict_classes(x_test)\r\n",
        "print('Testing accuracy is {}'.format(accuracy_ssocre(y_test, y_test_pred)))"
      ],
      "execution_count": null,
      "outputs": []
    },
    {
      "cell_type": "code",
      "metadata": {
        "id": "OQRHzkVmL-lr"
      },
      "source": [
        "print ('Confusion matrix:')\r\n",
        "print(confusion_matrix(y_test, y_test_pred))"
      ],
      "execution_count": null,
      "outputs": []
    },
    {
      "cell_type": "markdown",
      "metadata": {
        "id": "NohaMANrQlya"
      },
      "source": [
        "# ML Models"
      ]
    },
    {
      "cell_type": "markdown",
      "metadata": {
        "id": "HrO0XSFBQoSt"
      },
      "source": [
        "## Read data"
      ]
    },
    {
      "cell_type": "code",
      "metadata": {
        "id": "3Idx3eGCQrc5"
      },
      "source": [
        "os.chdir(\"/content/drive/My Drive/UMN_Research/Data/wsr\")\r\n",
        "dt = pd.read_csv('data.csv')"
      ],
      "execution_count": null,
      "outputs": []
    },
    {
      "cell_type": "code",
      "metadata": {
        "colab": {
          "base_uri": "https://localhost:8080/",
          "height": 326
        },
        "id": "r6hxcdh-RysQ",
        "outputId": "924604a1-9bed-46e7-d070-6ce2cec651ec"
      },
      "source": [
        "dt2=dt\r\n",
        "dt2 = dt2.drop(['plotID'],axis=1)\r\n",
        "dt2.shape\r\n",
        "\r\n",
        "dt2['class2']=0\r\n",
        "dt2['class2'].iloc[(dt2.block==2)|(dt2.block==3)|(dt2.block==6)]=1\r\n",
        "\r\n",
        "dt2['class2'].value_counts()\r\n",
        "dt3 = dt2\r\n",
        "dt3 = dt3.drop(['score','resistance_class_4','binary_2','block'],axis=1)\r\n",
        "print(dt3.shape)\r\n",
        "dt3.head(5)"
      ],
      "execution_count": null,
      "outputs": [
        {
          "output_type": "stream",
          "text": [
            "(960, 27)\n"
          ],
          "name": "stdout"
        },
        {
          "output_type": "stream",
          "text": [
            "/usr/local/lib/python3.6/dist-packages/pandas/core/indexing.py:670: SettingWithCopyWarning: \n",
            "A value is trying to be set on a copy of a slice from a DataFrame\n",
            "\n",
            "See the caveats in the documentation: https://pandas.pydata.org/pandas-docs/stable/user_guide/indexing.html#returning-a-view-versus-a-copy\n",
            "  iloc._setitem_with_indexer(indexer, value)\n"
          ],
          "name": "stderr"
        },
        {
          "output_type": "execute_result",
          "data": {
            "text/html": [
              "<div>\n",
              "<style scoped>\n",
              "    .dataframe tbody tr th:only-of-type {\n",
              "        vertical-align: middle;\n",
              "    }\n",
              "\n",
              "    .dataframe tbody tr th {\n",
              "        vertical-align: top;\n",
              "    }\n",
              "\n",
              "    .dataframe thead th {\n",
              "        text-align: right;\n",
              "    }\n",
              "</style>\n",
              "<table border=\"1\" class=\"dataframe\">\n",
              "  <thead>\n",
              "    <tr style=\"text-align: right;\">\n",
              "      <th></th>\n",
              "      <th>X0</th>\n",
              "      <th>X1</th>\n",
              "      <th>X2</th>\n",
              "      <th>X3</th>\n",
              "      <th>X4</th>\n",
              "      <th>X5</th>\n",
              "      <th>X6</th>\n",
              "      <th>X7</th>\n",
              "      <th>X8</th>\n",
              "      <th>X9</th>\n",
              "      <th>X10</th>\n",
              "      <th>X11</th>\n",
              "      <th>X12</th>\n",
              "      <th>X13</th>\n",
              "      <th>X14</th>\n",
              "      <th>X15</th>\n",
              "      <th>X0.1</th>\n",
              "      <th>X1.1</th>\n",
              "      <th>X2.1</th>\n",
              "      <th>X3.1</th>\n",
              "      <th>X4.1</th>\n",
              "      <th>X5.1</th>\n",
              "      <th>X6.1</th>\n",
              "      <th>X7.1</th>\n",
              "      <th>X8.1</th>\n",
              "      <th>X9.1</th>\n",
              "      <th>class2</th>\n",
              "    </tr>\n",
              "  </thead>\n",
              "  <tbody>\n",
              "    <tr>\n",
              "      <th>0</th>\n",
              "      <td>26054.19412</td>\n",
              "      <td>52866618.51</td>\n",
              "      <td>27137.44510</td>\n",
              "      <td>80548746.36</td>\n",
              "      <td>14667.25294</td>\n",
              "      <td>1.589171e+07</td>\n",
              "      <td>2433.612745</td>\n",
              "      <td>557978.0798</td>\n",
              "      <td>1257.693382</td>\n",
              "      <td>158689.7290</td>\n",
              "      <td>1456.209804</td>\n",
              "      <td>143218.4589</td>\n",
              "      <td>112914.0471</td>\n",
              "      <td>1.421580e+09</td>\n",
              "      <td>27501.67451</td>\n",
              "      <td>75384230.79</td>\n",
              "      <td>0.615409</td>\n",
              "      <td>0.002284</td>\n",
              "      <td>4.283037</td>\n",
              "      <td>0.453224</td>\n",
              "      <td>0.713874</td>\n",
              "      <td>0.003074</td>\n",
              "      <td>1.024282</td>\n",
              "      <td>0.014584</td>\n",
              "      <td>0.008424</td>\n",
              "      <td>0.003617</td>\n",
              "      <td>1</td>\n",
              "    </tr>\n",
              "    <tr>\n",
              "      <th>1</th>\n",
              "      <td>25070.41186</td>\n",
              "      <td>37842286.10</td>\n",
              "      <td>31685.62109</td>\n",
              "      <td>84783325.68</td>\n",
              "      <td>15492.49259</td>\n",
              "      <td>1.676155e+07</td>\n",
              "      <td>2612.958608</td>\n",
              "      <td>526833.6568</td>\n",
              "      <td>1406.612026</td>\n",
              "      <td>170621.2991</td>\n",
              "      <td>1565.959638</td>\n",
              "      <td>171643.2074</td>\n",
              "      <td>146421.5091</td>\n",
              "      <td>1.453161e+09</td>\n",
              "      <td>31807.99012</td>\n",
              "      <td>65577156.25</td>\n",
              "      <td>0.704512</td>\n",
              "      <td>0.001126</td>\n",
              "      <td>5.860475</td>\n",
              "      <td>0.672441</td>\n",
              "      <td>0.817233</td>\n",
              "      <td>0.001515</td>\n",
              "      <td>1.251328</td>\n",
              "      <td>0.019539</td>\n",
              "      <td>0.108141</td>\n",
              "      <td>0.003200</td>\n",
              "      <td>1</td>\n",
              "    </tr>\n",
              "    <tr>\n",
              "      <th>2</th>\n",
              "      <td>22230.05606</td>\n",
              "      <td>26873360.55</td>\n",
              "      <td>27711.32369</td>\n",
              "      <td>59799946.18</td>\n",
              "      <td>13979.20796</td>\n",
              "      <td>1.316616e+07</td>\n",
              "      <td>2313.010172</td>\n",
              "      <td>528174.2624</td>\n",
              "      <td>1237.74288</td>\n",
              "      <td>176488.4922</td>\n",
              "      <td>1419.730108</td>\n",
              "      <td>169724.9701</td>\n",
              "      <td>122329.3743</td>\n",
              "      <td>1.068322e+09</td>\n",
              "      <td>27098.23870</td>\n",
              "      <td>52039725.92</td>\n",
              "      <td>0.687366</td>\n",
              "      <td>0.001441</td>\n",
              "      <td>5.492526</td>\n",
              "      <td>0.629666</td>\n",
              "      <td>0.797343</td>\n",
              "      <td>0.001940</td>\n",
              "      <td>1.235449</td>\n",
              "      <td>0.023648</td>\n",
              "      <td>0.101059</td>\n",
              "      <td>0.003888</td>\n",
              "      <td>1</td>\n",
              "    </tr>\n",
              "    <tr>\n",
              "      <th>3</th>\n",
              "      <td>18318.64190</td>\n",
              "      <td>14563155.19</td>\n",
              "      <td>23536.30312</td>\n",
              "      <td>37585325.99</td>\n",
              "      <td>11938.37296</td>\n",
              "      <td>7.414469e+06</td>\n",
              "      <td>2124.877043</td>\n",
              "      <td>315337.9990</td>\n",
              "      <td>1145.411961</td>\n",
              "      <td>102229.5704</td>\n",
              "      <td>1322.807114</td>\n",
              "      <td>101101.1512</td>\n",
              "      <td>114833.4978</td>\n",
              "      <td>9.289586e+08</td>\n",
              "      <td>23970.07281</td>\n",
              "      <td>36346660.18</td>\n",
              "      <td>0.718340</td>\n",
              "      <td>0.001541</td>\n",
              "      <td>6.238550</td>\n",
              "      <td>1.001685</td>\n",
              "      <td>0.833273</td>\n",
              "      <td>0.002073</td>\n",
              "      <td>1.272672</td>\n",
              "      <td>0.025078</td>\n",
              "      <td>0.115595</td>\n",
              "      <td>0.004000</td>\n",
              "      <td>1</td>\n",
              "    </tr>\n",
              "    <tr>\n",
              "      <th>4</th>\n",
              "      <td>22268.81983</td>\n",
              "      <td>32827768.94</td>\n",
              "      <td>27141.65455</td>\n",
              "      <td>67524584.21</td>\n",
              "      <td>14028.76694</td>\n",
              "      <td>1.428309e+07</td>\n",
              "      <td>2498.169835</td>\n",
              "      <td>555439.8466</td>\n",
              "      <td>1320.919731</td>\n",
              "      <td>170685.0399</td>\n",
              "      <td>1508.353512</td>\n",
              "      <td>172552.6236</td>\n",
              "      <td>111148.3901</td>\n",
              "      <td>9.671520e+08</td>\n",
              "      <td>26259.21983</td>\n",
              "      <td>51535493.86</td>\n",
              "      <td>0.661185</td>\n",
              "      <td>0.001646</td>\n",
              "      <td>4.990535</td>\n",
              "      <td>0.546901</td>\n",
              "      <td>0.766974</td>\n",
              "      <td>0.002215</td>\n",
              "      <td>1.205786</td>\n",
              "      <td>0.026049</td>\n",
              "      <td>0.088361</td>\n",
              "      <td>0.004602</td>\n",
              "      <td>1</td>\n",
              "    </tr>\n",
              "  </tbody>\n",
              "</table>\n",
              "</div>"
            ],
            "text/plain": [
              "            X0           X1           X2  ...      X8.1      X9.1  class2\n",
              "0  26054.19412  52866618.51  27137.44510  ...  0.008424  0.003617       1\n",
              "1  25070.41186  37842286.10  31685.62109  ...  0.108141  0.003200       1\n",
              "2  22230.05606  26873360.55  27711.32369  ...  0.101059  0.003888       1\n",
              "3  18318.64190  14563155.19  23536.30312  ...  0.115595  0.004000       1\n",
              "4  22268.81983  32827768.94  27141.65455  ...  0.088361  0.004602       1\n",
              "\n",
              "[5 rows x 27 columns]"
            ]
          },
          "metadata": {
            "tags": []
          },
          "execution_count": 15
        }
      ]
    },
    {
      "cell_type": "code",
      "metadata": {
        "colab": {
          "base_uri": "https://localhost:8080/"
        },
        "id": "3M9RXwrOR-jv",
        "outputId": "5dc76693-7745-47ed-bfe6-0a5e0e644cc0"
      },
      "source": [
        "pd.isnull(dt3).any(axis=0)\r\n",
        "dt4 = dt3.dropna(axis=0)\r\n",
        "print(dt4.shape)"
      ],
      "execution_count": null,
      "outputs": [
        {
          "output_type": "stream",
          "text": [
            "(959, 27)\n"
          ],
          "name": "stdout"
        }
      ]
    },
    {
      "cell_type": "code",
      "metadata": {
        "id": "ZKUQIkXCSIpi"
      },
      "source": [
        "from sklearn.ensemble import BaggingClassifier as bc\r\n",
        "from sklearn.tree import DecisionTreeClassifier as dtc\r\n",
        "from sklearn.model_selection import train_test_split\r\n",
        "from sklearn.datasets import make_moons\r\n",
        "from sklearn.ensemble import RandomForestClassifier as rfc\r\n",
        "from sklearn.ensemble import VotingClassifier as vc\r\n",
        "from sklearn.linear_model import LogisticRegression as lrc\r\n",
        "from sklearn.svm import SVC as svc\r\n",
        "from sklearn.preprocessing import StandardScaler\r\n",
        "from sklearn.pipeline import Pipeline"
      ],
      "execution_count": null,
      "outputs": []
    },
    {
      "cell_type": "code",
      "metadata": {
        "colab": {
          "base_uri": "https://localhost:8080/"
        },
        "id": "Ydo8Z8cWSNVE",
        "outputId": "2ab445b8-5f8e-410c-96e2-3b77fa2911f8"
      },
      "source": [
        "x, y = dt4.drop(['class2'], axis=1), dt4['class2']\r\n",
        "x = StandardScaler().fit_transform(x)\r\n",
        "\r\n",
        "x_train, x_test, y_train, y_test = train_test_split(x, y, random_state=16, shuffle=True, test_size=0.1)\r\n",
        "x_train, x_val, y_train, y_val = train_test_split(x_train, y_train, random_state=16, test_size=0.15)\r\n",
        "\r\n",
        "print(\"Train size is: {}\".format(x_train.shape[0]))\r\n",
        "print(\"Test size is: {}\".format(x_test.shape[0]))\r\n",
        "print(\"Validation size is: {}\".format(x_val.shape[0]))"
      ],
      "execution_count": null,
      "outputs": [
        {
          "output_type": "stream",
          "text": [
            "Train size is: 733\n",
            "Test size is: 96\n",
            "Validation size is: 130\n"
          ],
          "name": "stdout"
        }
      ]
    },
    {
      "cell_type": "markdown",
      "metadata": {
        "id": "-PrxKBmmUhv-"
      },
      "source": [
        "## RF and SVM Models"
      ]
    },
    {
      "cell_type": "code",
      "metadata": {
        "id": "DSxCVoyEMTDb",
        "colab": {
          "base_uri": "https://localhost:8080/"
        },
        "outputId": "47b15e4b-f7ed-4e7d-dcce-dbf823149162"
      },
      "source": [
        "rf_clf = rfc(n_estimators=500, random_state=6) \r\n",
        "svm_clf = svc(gamma='scale', random_state=6)\r\n",
        "\r\n",
        "rf_clf.fit(x_train, y_train)\r\n",
        "svm_clf.fit(x_train, y_train)"
      ],
      "execution_count": null,
      "outputs": [
        {
          "output_type": "execute_result",
          "data": {
            "text/plain": [
              "SVC(C=1.0, break_ties=False, cache_size=200, class_weight=None, coef0=0.0,\n",
              "    decision_function_shape='ovr', degree=3, gamma='scale', kernel='rbf',\n",
              "    max_iter=-1, probability=False, random_state=6, shrinking=True, tol=0.001,\n",
              "    verbose=False)"
            ]
          },
          "metadata": {
            "tags": []
          },
          "execution_count": 18
        }
      ]
    },
    {
      "cell_type": "code",
      "metadata": {
        "id": "0Eh9Z0kfOFhK"
      },
      "source": [
        "y_pred_rf = rf_clf.predict(x_test)\r\n",
        "y_pred_svm = svm_clf.predict(x_test)"
      ],
      "execution_count": null,
      "outputs": []
    },
    {
      "cell_type": "code",
      "metadata": {
        "id": "yRyqXgRBOIr3",
        "colab": {
          "base_uri": "https://localhost:8080/"
        },
        "outputId": "e46dd9e3-0d82-4cf4-a4ea-3d87e748e932"
      },
      "source": [
        "from sklearn.metrics import accuracy_score\r\n",
        "\r\n",
        "print(\"Test Accuracy by RF: {}\".format(accuracy_score(y_test, y_pred_rf)))\r\n",
        "print(\"Test Accuracy by SVM: {}\".format(accuracy_score(y_test, y_pred_svm)))"
      ],
      "execution_count": null,
      "outputs": [
        {
          "output_type": "stream",
          "text": [
            "Test Accuracy by RF: 0.8229166666666666\n",
            "Test Accuracy by SVM: 0.7395833333333334\n"
          ],
          "name": "stdout"
        }
      ]
    },
    {
      "cell_type": "code",
      "metadata": {
        "id": "8zaWlfIwOLkz",
        "colab": {
          "base_uri": "https://localhost:8080/"
        },
        "outputId": "7632a951-dd60-4d0d-d061-bc558b9d13e8"
      },
      "source": [
        "from sklearn.metrics import confusion_matrix\r\n",
        "print(\"Confusion matrix by RF:\")\r\n",
        "print(confusion_matrix(y_test, y_pred_rf))\r\n",
        "\r\n",
        "print(\"\")\r\n",
        "print(\"Confusion matrix by SVM:\")\r\n",
        "print(confusion_matrix(y_test, y_pred_svm))"
      ],
      "execution_count": null,
      "outputs": [
        {
          "output_type": "stream",
          "text": [
            "Confusion matrix by RF:\n",
            "[[44  9]\n",
            " [ 8 35]]\n",
            "\n",
            "Confusion matrix by SVM:\n",
            "[[43 10]\n",
            " [15 28]]\n"
          ],
          "name": "stdout"
        }
      ]
    },
    {
      "cell_type": "code",
      "metadata": {
        "colab": {
          "base_uri": "https://localhost:8080/"
        },
        "id": "zieFMnHWTs3v",
        "outputId": "af94636f-c9c0-4980-8143-19c184016c8f"
      },
      "source": [
        "y_pred_rf = rf_clf.predict(x_val)\r\n",
        "y_pred_svm = svm_clf.predict(x_val)\r\n",
        "\r\n",
        "print(\"Validation Accuracy by RF: {}\".format(accuracy_score(y_val, y_pred_rf)))\r\n",
        "print(\"Validation Accuracy by SVM: {}\".format(accuracy_score(y_val, y_pred_svm)))"
      ],
      "execution_count": null,
      "outputs": [
        {
          "output_type": "stream",
          "text": [
            "Validation Accuracy by RF: 0.7538461538461538\n",
            "Validation Accuracy by SVM: 0.7076923076923077\n"
          ],
          "name": "stdout"
        }
      ]
    },
    {
      "cell_type": "markdown",
      "metadata": {
        "id": "okRTv3t7OOgt"
      },
      "source": [
        "## MLP Model"
      ]
    },
    {
      "cell_type": "code",
      "metadata": {
        "id": "wWyQD5OQOtNV"
      },
      "source": [
        "import tensorflow as tf\r\n",
        "from tensorflow import keras"
      ],
      "execution_count": null,
      "outputs": []
    },
    {
      "cell_type": "code",
      "metadata": {
        "id": "Na051_UrOvNO"
      },
      "source": [
        "mlp_model = keras.models.Sequential()\r\n",
        "mlp_model.add(Dense(30, input_dim = 26, activation='relu'))\r\n",
        "mlp_model.add(Dense(30, activation='relu'))\r\n",
        "mlp_model.add(Dense(2, activation='sigmoid'))"
      ],
      "execution_count": null,
      "outputs": []
    },
    {
      "cell_type": "code",
      "metadata": {
        "id": "lEKs8ky-Pxar"
      },
      "source": [
        "mlp_model.compile(loss='sparse_categorical_crossentropy',\r\n",
        "                  optimizer = keras.optimizers.Adam(learning_rate=0.01),\r\n",
        "                  metrics=['accuracy'])"
      ],
      "execution_count": null,
      "outputs": []
    },
    {
      "cell_type": "code",
      "metadata": {
        "id": "hoYH6FusQLPl"
      },
      "source": [
        "fit_history = mlp_model.fit(x_train, y_train, epochs=200,batch_size=16,verbose=0, validation_data=(x_val, y_val))"
      ],
      "execution_count": null,
      "outputs": []
    },
    {
      "cell_type": "code",
      "metadata": {
        "id": "aNIKgMy3QQ1E",
        "colab": {
          "base_uri": "https://localhost:8080/",
          "height": 378
        },
        "outputId": "24d5a164-9ea3-410a-91b2-c42f69e0d4ea"
      },
      "source": [
        "pd.DataFrame(fit_history.history).plot(figsize=(10,6))\r\n",
        "plt.grid(True)\r\n",
        "plt.gca().set_ylim(0,1)\r\n",
        "plt.show()"
      ],
      "execution_count": null,
      "outputs": [
        {
          "output_type": "display_data",
          "data": {
            "image/png": "[encoded data removed]",
            "text/plain": [
              "<Figure size 720x432 with 1 Axes>"
            ]
          },
          "metadata": {
            "tags": [],
            "needs_background": "light"
          }
        }
      ]
    },
    {
      "cell_type": "code",
      "metadata": {
        "id": "jGH4-ofcQUDf",
        "colab": {
          "base_uri": "https://localhost:8080/"
        },
        "outputId": "c41aca4b-6dba-4371-ec8e-4cb9723519e0"
      },
      "source": [
        "y_pred_mlp = mlp_model.predict_classes(x_test)\r\n",
        "print(\"Test Accuracy by MLP: {}\".format(accuracy_score(y_test, y_pred_mlp)))\r\n",
        "\r\n",
        "print(\"Confusion matrix by MLP:\")\r\n",
        "print(confusion_matrix(y_test, y_pred_mlp))"
      ],
      "execution_count": null,
      "outputs": [
        {
          "output_type": "stream",
          "text": [
            "Test Accuracy by MLP: 0.78125\n",
            "Confusion matrix by MLP:\n",
            "[[44  9]\n",
            " [12 31]]\n"
          ],
          "name": "stdout"
        },
        {
          "output_type": "stream",
          "text": [
            "/usr/local/lib/python3.6/dist-packages/tensorflow/python/keras/engine/sequential.py:450: UserWarning: `model.predict_classes()` is deprecated and will be removed after 2021-01-01. Please use instead:* `np.argmax(model.predict(x), axis=-1)`,   if your model does multi-class classification   (e.g. if it uses a `softmax` last-layer activation).* `(model.predict(x) > 0.5).astype(\"int32\")`,   if your model does binary classification   (e.g. if it uses a `sigmoid` last-layer activation).\n",
            "  warnings.warn('`model.predict_classes()` is deprecated and '\n"
          ],
          "name": "stderr"
        }
      ]
    },
    {
      "cell_type": "code",
      "metadata": {
        "id": "oi0UBAI2QZYn",
        "colab": {
          "base_uri": "https://localhost:8080/"
        },
        "outputId": "c1e4209c-9483-4ed0-98ee-7ffa3b497cd2"
      },
      "source": [
        "y_pred_mlp = mlp_model.predict_classes(x_val)\r\n",
        "print(\"Validation Accuracy by MLP: {}\".format(accuracy_score(y_val, y_pred_mlp)))\r\n",
        "\r\n",
        "print(\"Confusion matrix by MLP:\")\r\n",
        "print(confusion_matrix(y_val, y_pred_mlp))"
      ],
      "execution_count": null,
      "outputs": [
        {
          "output_type": "stream",
          "text": [
            "Validation Accuracy by MLP: 0.7384615384615385\n",
            "Confusion matrix by MLP:\n",
            "[[51 13]\n",
            " [21 45]]\n"
          ],
          "name": "stdout"
        },
        {
          "output_type": "stream",
          "text": [
            "/usr/local/lib/python3.6/dist-packages/tensorflow/python/keras/engine/sequential.py:450: UserWarning: `model.predict_classes()` is deprecated and will be removed after 2021-01-01. Please use instead:* `np.argmax(model.predict(x), axis=-1)`,   if your model does multi-class classification   (e.g. if it uses a `softmax` last-layer activation).* `(model.predict(x) > 0.5).astype(\"int32\")`,   if your model does binary classification   (e.g. if it uses a `sigmoid` last-layer activation).\n",
            "  warnings.warn('`model.predict_classes()` is deprecated and '\n"
          ],
          "name": "stderr"
        }
      ]
    }
  ]
}