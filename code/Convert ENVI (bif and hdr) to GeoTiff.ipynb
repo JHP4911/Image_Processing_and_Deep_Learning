{
 "cells": [
  {
   "cell_type": "code",
   "execution_count": 1,
   "metadata": {},
   "outputs": [],
   "source": [
    "import os\n",
    "import spectral\n",
    "from spectral import *\n",
    "import sys\n",
    "import osgeo\n",
    "from osgeo import gdal, gdalconst \n",
    "from osgeo.gdalconst import * \n",
    "import hs_process\n",
    "from hs_process import hsio\n",
    "io = hsio()"
   ]
  },
  {
   "cell_type": "markdown",
   "metadata": {},
   "source": [
    "## Define function to load image array and geo-information from HSI"
   ]
  },
  {
   "cell_type": "code",
   "execution_count": 2,
   "metadata": {},
   "outputs": [],
   "source": [
    "def load_data(file_name, gdal_driver='GTiff'):\n",
    "    driver = gdal.GetDriverByName(gdal_driver) ## http://www.gdal.org/formats_list.html\n",
    "    driver.Register()\n",
    "\n",
    "    inDs = gdal.Open(file_name, GA_ReadOnly)\n",
    "\n",
    "    if inDs is None:\n",
    "        print(\"Couldn't open this file: %s\" %(file_name))\n",
    "        print('/nPerhaps you need an ENVI .hdr file? A quick way to do this is to just open the binary up in ENVI and one will be created for you.')\n",
    "        sys.exit(\"Try again!\")\n",
    "    else:\n",
    "        print(\"%s opened successfully\" %file_name)\n",
    "\n",
    "    # Extract some info form the inDs \n",
    "    geotransform = inDs.GetGeoTransform()\n",
    "    band = inDs.GetRasterBand(1)\n",
    "    cols = inDs.RasterXSize\n",
    "    rows = inDs.RasterYSize\n",
    "    image_array = band.ReadAsArray(0, 0, cols, rows)\n",
    "    #image_array = inDs.ReadAsArray()\n",
    "\n",
    "    return image_array, (geotransform, inDs)"
   ]
  },
  {
   "cell_type": "markdown",
   "metadata": {},
   "source": [
    "## Define function to write image array into GeoTiff"
   ]
  },
  {
   "cell_type": "code",
   "execution_count": 3,
   "metadata": {},
   "outputs": [],
   "source": [
    "def array2raster(data_array, geodata, file_out, gdal_driver='GTiff'):\n",
    "    \n",
    "    if not os.path.exists(os.path.dirname(file_out)):\n",
    "        print(\"Your output directory doesn't exist - please create it\")\n",
    "        print(\"No further processing will take place.\")\n",
    "    else:\n",
    "        post=geodata[0][1]\n",
    "        original_geotransform, inDs = geodata\n",
    "        \n",
    "        rows, cols, bands = data_array.shape\n",
    "        #bands = 1\n",
    "        \n",
    "        driver = gdal.GetDriverByName(gdal_driver) \n",
    "        driver.Register()\n",
    "\n",
    "    # Creates a new raster data source\n",
    "        outDs = driver.Create(file_out, cols, rows, bands, gdal.GDT_Float32)\n",
    "\n",
    "    # Write metadata\n",
    "        originX = original_geotransform[0]\n",
    "        originY = original_geotransform[3]\n",
    "        \n",
    "        outDs.SetGeoTransform([originX, post, 0.0, originY, 0.0, -post])\n",
    "        outDs.SetProjection(inDs.GetProjection())\n",
    "\n",
    "    #Write raster datasets\n",
    "        #outDs.GetRasterBand(1).WriteArray(data_array)\n",
    "        \n",
    "        for i in range(bands):\n",
    "            outBand = outDs.GetRasterBand(i+1)\n",
    "            outBand.WriteArray(data_array[:,:,i][:,:,0])\n",
    "            \n",
    "\n",
    "    print(\"Output saved: %s\" %file_out)"
   ]
  },
  {
   "cell_type": "markdown",
   "metadata": {},
   "source": [
    "## Define function to write GeoTIFF when given hdr file and bip file"
   ]
  },
  {
   "cell_type": "code",
   "execution_count": 20,
   "metadata": {},
   "outputs": [],
   "source": [
    "def bip2tiff(hdr_file):\n",
    "    bip_file = hdr_file.split('.hdr')[0]\n",
    "    data, geodata = load_data(bip_file, gdal_driver=\"GTiff\")\n",
    "    \n",
    "    io.read_spec(hdr_file)\n",
    "    imgs = io.spyfile_spec\n",
    "    \n",
    "    file_out = \"./\"+ hdr_file.split('-')[0] + '.tif'\n",
    "    array2raster(imgs, geodata, file_out, gdal_driver='GTiff')"
   ]
  },
  {
   "cell_type": "markdown",
   "metadata": {},
   "source": [
    "## Set work directory and load data"
   ]
  },
  {
   "cell_type": "code",
   "execution_count": 16,
   "metadata": {},
   "outputs": [],
   "source": [
    "os.chdir(\"C:/users/Liang/Desktop/UMN/research/Aerial HSI photos/2020-07-23_rosemount_wheat_2/ref_closest_panel\")"
   ]
  },
  {
   "cell_type": "code",
   "execution_count": 17,
   "metadata": {},
   "outputs": [],
   "source": [
    "fs = os.listdir()\n",
    "bp = [f for f in fs if f.endswith('.bip')]\n",
    "hd = [f for f in fs if f.endswith('.hdr')]"
   ]
  },
  {
   "cell_type": "code",
   "execution_count": 18,
   "metadata": {
    "scrolled": true
   },
   "outputs": [
    {
     "name": "stdout",
     "output_type": "stream",
     "text": [
      "31\n",
      "31\n"
     ]
    }
   ],
   "source": [
    "print(len(bp))\n",
    "print(len(hd))"
   ]
  },
  {
   "cell_type": "code",
   "execution_count": 19,
   "metadata": {},
   "outputs": [
    {
     "name": "stdout",
     "output_type": "stream",
     "text": [
      "['rep1_pika_gige_1-Radiance From Raw Data-Georectify Airborne Datacube-Reflectance from Radiance Data and Measured Reference Spectrum.bip', 'rep1_pika_gige_2-Radiance From Raw Data-Georectify Airborne Datacube-Reflectance from Radiance Data and Measured Reference Spectrum.bip', 'rep1_pika_gige_3-Radiance From Raw Data-Georectify Airborne Datacube-Reflectance from Radiance Data and Measured Reference Spectrum.bip', 'rep1_pika_gige_4-Radiance From Raw Data-Georectify Airborne Datacube-Reflectance from Radiance Data and Measured Reference Spectrum.bip', 'rep2_pika_gige_1-Radiance From Raw Data-Georectify Airborne Datacube-Reflectance from Radiance Data and Measured Reference Spectrum.bip']\n",
      "\n",
      "['rep1_pika_gige_1-Radiance From Raw Data-Georectify Airborne Datacube-Reflectance from Radiance Data and Measured Reference Spectrum.bip.hdr', 'rep1_pika_gige_2-Radiance From Raw Data-Georectify Airborne Datacube-Reflectance from Radiance Data and Measured Reference Spectrum.bip.hdr', 'rep1_pika_gige_3-Radiance From Raw Data-Georectify Airborne Datacube-Reflectance from Radiance Data and Measured Reference Spectrum.bip.hdr', 'rep1_pika_gige_4-Radiance From Raw Data-Georectify Airborne Datacube-Reflectance from Radiance Data and Measured Reference Spectrum.bip.hdr', 'rep2_pika_gige_1-Radiance From Raw Data-Georectify Airborne Datacube-Reflectance from Radiance Data and Measured Reference Spectrum.bip.hdr']\n"
     ]
    }
   ],
   "source": [
    "print(bp[:5])\n",
    "print()\n",
    "print(hd[:5])"
   ]
  },
  {
   "cell_type": "markdown",
   "metadata": {},
   "source": [
    "## Write loop to convert all HSI data"
   ]
  },
  {
   "cell_type": "code",
   "execution_count": 21,
   "metadata": {},
   "outputs": [
    {
     "name": "stdout",
     "output_type": "stream",
     "text": [
      "rep1_pika_gige_1-Radiance From Raw Data-Georectify Airborne Datacube-Reflectance from Radiance Data and Measured Reference Spectrum.bip opened successfully\n",
      "Output saved: ./rep1_pika_gige_1.tif\n",
      "rep1_pika_gige_2-Radiance From Raw Data-Georectify Airborne Datacube-Reflectance from Radiance Data and Measured Reference Spectrum.bip opened successfully\n",
      "Output saved: ./rep1_pika_gige_2.tif\n",
      "rep1_pika_gige_3-Radiance From Raw Data-Georectify Airborne Datacube-Reflectance from Radiance Data and Measured Reference Spectrum.bip opened successfully\n",
      "Output saved: ./rep1_pika_gige_3.tif\n",
      "rep1_pika_gige_4-Radiance From Raw Data-Georectify Airborne Datacube-Reflectance from Radiance Data and Measured Reference Spectrum.bip opened successfully\n",
      "Output saved: ./rep1_pika_gige_4.tif\n",
      "rep2_pika_gige_1-Radiance From Raw Data-Georectify Airborne Datacube-Reflectance from Radiance Data and Measured Reference Spectrum.bip opened successfully\n",
      "Output saved: ./rep2_pika_gige_1.tif\n",
      "rep2_pika_gige_2-Radiance From Raw Data-Georectify Airborne Datacube-Reflectance from Radiance Data and Measured Reference Spectrum.bip opened successfully\n",
      "Output saved: ./rep2_pika_gige_2.tif\n",
      "rep2_pika_gige_3-Radiance From Raw Data-Georectify Airborne Datacube-Reflectance from Radiance Data and Measured Reference Spectrum.bip opened successfully\n",
      "Output saved: ./rep2_pika_gige_3.tif\n",
      "rep3_pika_gige_1-Radiance From Raw Data-Georectify Airborne Datacube-Reflectance from Radiance Data and Measured Reference Spectrum.bip opened successfully\n",
      "Output saved: ./rep3_pika_gige_1.tif\n",
      "rep3_pika_gige_2-Radiance From Raw Data-Georectify Airborne Datacube-Reflectance from Radiance Data and Measured Reference Spectrum.bip opened successfully\n",
      "Output saved: ./rep3_pika_gige_2.tif\n",
      "rep3_pika_gige_3-Radiance From Raw Data-Georectify Airborne Datacube-Reflectance from Radiance Data and Measured Reference Spectrum.bip opened successfully\n",
      "Output saved: ./rep3_pika_gige_3.tif\n",
      "rep3_pika_gige_4-Radiance From Raw Data-Georectify Airborne Datacube-Reflectance from Radiance Data and Measured Reference Spectrum.bip opened successfully\n",
      "Output saved: ./rep3_pika_gige_4.tif\n",
      "rep4_pika_gige_1-Radiance From Raw Data-Georectify Airborne Datacube-Reflectance from Radiance Data and Measured Reference Spectrum.bip opened successfully\n",
      "Output saved: ./rep4_pika_gige_1.tif\n",
      "rep4_pika_gige_2-Radiance From Raw Data-Georectify Airborne Datacube-Reflectance from Radiance Data and Measured Reference Spectrum.bip opened successfully\n",
      "Output saved: ./rep4_pika_gige_2.tif\n",
      "rep4_pika_gige_3-Radiance From Raw Data-Georectify Airborne Datacube-Reflectance from Radiance Data and Measured Reference Spectrum.bip opened successfully\n",
      "Output saved: ./rep4_pika_gige_3.tif\n",
      "rep4_pika_gige_4-Radiance From Raw Data-Georectify Airborne Datacube-Reflectance from Radiance Data and Measured Reference Spectrum.bip opened successfully\n",
      "Output saved: ./rep4_pika_gige_4.tif\n",
      "rep5_pika_gige_1-Radiance From Raw Data-Georectify Airborne Datacube-Reflectance from Radiance Data and Measured Reference Spectrum.bip opened successfully\n",
      "Output saved: ./rep5_pika_gige_1.tif\n",
      "rep5_pika_gige_2-Radiance From Raw Data-Georectify Airborne Datacube-Reflectance from Radiance Data and Measured Reference Spectrum.bip opened successfully\n",
      "Output saved: ./rep5_pika_gige_2.tif\n",
      "rep5_pika_gige_3-Radiance From Raw Data-Georectify Airborne Datacube-Reflectance from Radiance Data and Measured Reference Spectrum.bip opened successfully\n",
      "Output saved: ./rep5_pika_gige_3.tif\n",
      "rep5_pika_gige_4-Radiance From Raw Data-Georectify Airborne Datacube-Reflectance from Radiance Data and Measured Reference Spectrum.bip opened successfully\n",
      "Output saved: ./rep5_pika_gige_4.tif\n",
      "rep6_pika_gige_1-Radiance From Raw Data-Georectify Airborne Datacube-Reflectance from Radiance Data and Measured Reference Spectrum.bip opened successfully\n",
      "Output saved: ./rep6_pika_gige_1.tif\n",
      "rep6_pika_gige_2-Radiance From Raw Data-Georectify Airborne Datacube-Reflectance from Radiance Data and Measured Reference Spectrum.bip opened successfully\n",
      "Output saved: ./rep6_pika_gige_2.tif\n",
      "rep6_pika_gige_3-Radiance From Raw Data-Georectify Airborne Datacube-Reflectance from Radiance Data and Measured Reference Spectrum.bip opened successfully\n",
      "Output saved: ./rep6_pika_gige_3.tif\n",
      "rep6_pika_gige_4-Radiance From Raw Data-Georectify Airborne Datacube-Reflectance from Radiance Data and Measured Reference Spectrum.bip opened successfully\n",
      "Output saved: ./rep6_pika_gige_4.tif\n",
      "rep7_pika_gige_1-Radiance From Raw Data-Georectify Airborne Datacube-Reflectance from Radiance Data and Measured Reference Spectrum.bip opened successfully\n",
      "Output saved: ./rep7_pika_gige_1.tif\n",
      "rep7_pika_gige_2-Radiance From Raw Data-Georectify Airborne Datacube-Reflectance from Radiance Data and Measured Reference Spectrum.bip opened successfully\n",
      "Output saved: ./rep7_pika_gige_2.tif\n",
      "rep7_pika_gige_3-Radiance From Raw Data-Georectify Airborne Datacube-Reflectance from Radiance Data and Measured Reference Spectrum.bip opened successfully\n",
      "Output saved: ./rep7_pika_gige_3.tif\n",
      "rep7_pika_gige_4-Radiance From Raw Data-Georectify Airborne Datacube-Reflectance from Radiance Data and Measured Reference Spectrum.bip opened successfully\n",
      "Output saved: ./rep7_pika_gige_4.tif\n",
      "rep8_pika_gige_1-Radiance From Raw Data-Georectify Airborne Datacube-Reflectance from Radiance Data and Measured Reference Spectrum.bip opened successfully\n",
      "Output saved: ./rep8_pika_gige_1.tif\n",
      "rep8_pika_gige_2-Radiance From Raw Data-Georectify Airborne Datacube-Reflectance from Radiance Data and Measured Reference Spectrum.bip opened successfully\n",
      "Output saved: ./rep8_pika_gige_2.tif\n",
      "rep8_pika_gige_3-Radiance From Raw Data-Georectify Airborne Datacube-Reflectance from Radiance Data and Measured Reference Spectrum.bip opened successfully\n",
      "Output saved: ./rep8_pika_gige_3.tif\n",
      "rep8_pika_gige_4-Radiance From Raw Data-Georectify Airborne Datacube-Reflectance from Radiance Data and Measured Reference Spectrum.bip opened successfully\n",
      "Output saved: ./rep8_pika_gige_4.tif\n"
     ]
    }
   ],
   "source": [
    "for hdf in hd:\n",
    "    bip2tiff(hdf)"
   ]
  },
  {
   "cell_type": "code",
   "execution_count": 12,
   "metadata": {},
   "outputs": [
    {
     "name": "stdout",
     "output_type": "stream",
     "text": [
      "rep1_pika_gige_1-Radiance From Raw Data-Georectify Airborne Datacube-Reflectance from Radiance Data and Measured Reference Spectrum.bip.hdr\n",
      "rep1_pika_gige_1-Radiance From Raw Data-Georectify Airborne Datacube-Reflectance from Radiance Data and Measured Reference Spectrum.bip\n",
      "rep1_pika_gige_1-Radiance From Raw Data-Georectify Airborne Datacube-Reflectance from Radiance Data and Measured Reference Spectrum.bip opened successfully\n",
      "(740, 1611)\n",
      "(740, 1611, 240)\n",
      "/rep1_pika_gige_1.tif\n"
     ]
    }
   ],
   "source": [
    "hdr_file = hd[0]\n",
    "print(hdr_file)\n",
    "bip_file = hdr_file.split('.hdr')[0]\n",
    "print(bip_file)\n",
    "\n",
    "data, geodata = load_data(bip_file, gdal_driver=\"GTiff\")\n",
    "print(data.shape)    \n",
    "\n",
    "io.read_spec(hdr_file)\n",
    "imgs = io.spyfile_spec\n",
    "print(imgs.shape)    \n",
    "\n",
    "file_out = \"/\"+ hdr_file.split('-')[0] + '.tif'\n",
    "print(file_out)    "
   ]
  },
  {
   "cell_type": "code",
   "execution_count": null,
   "metadata": {},
   "outputs": [],
   "source": [
    "array2raster(imgs, geodata, file_out, gdal_driver='GTiff')"
   ]
  },
  {
   "cell_type": "markdown",
   "metadata": {},
   "source": [
    "## Case study on the first HSI file"
   ]
  },
  {
   "cell_type": "code",
   "execution_count": 51,
   "metadata": {
    "scrolled": true
   },
   "outputs": [
    {
     "name": "stdout",
     "output_type": "stream",
     "text": [
      "rep1_pika_gige_1-Radiance From Raw Data-Georectify Airborne Datacube-Reflectance from Radiance Data and Measured Reference Spectrum.bip opened successfully\n"
     ]
    }
   ],
   "source": [
    "file_name = bp[0]\n",
    "data, geodata=load_data(file_name, gdal_driver='GTiff')"
   ]
  },
  {
   "cell_type": "code",
   "execution_count": 52,
   "metadata": {},
   "outputs": [
    {
     "data": {
      "text/plain": [
       "(740, 1611)"
      ]
     },
     "execution_count": 52,
     "metadata": {},
     "output_type": "execute_result"
    }
   ],
   "source": [
    "data.shape"
   ]
  },
  {
   "cell_type": "code",
   "execution_count": 53,
   "metadata": {},
   "outputs": [
    {
     "data": {
      "text/plain": [
       "<matplotlib.image.AxesImage at 0x146b939e898>"
      ]
     },
     "execution_count": 53,
     "metadata": {},
     "output_type": "execute_result"
    },
    {
     "data": {
      "image/png": "[encoded data removed]",
      "text/plain": [
       "<Figure size 432x288 with 1 Axes>"
      ]
     },
     "metadata": {},
     "output_type": "display_data"
    }
   ],
   "source": [
    "import matplotlib.pyplot as plt\n",
    "plt.imshow(data)"
   ]
  },
  {
   "cell_type": "code",
   "execution_count": 54,
   "metadata": {},
   "outputs": [
    {
     "data": {
      "text/plain": [
       "((492032.165115, 0.02, -0.0, 4953018.60215, -0.0, -0.02),\n",
       " <osgeo.gdal.Dataset; proxy of <Swig Object of type 'GDALDatasetShadow *' at 0x00000146BBC33180> >)"
      ]
     },
     "execution_count": 54,
     "metadata": {},
     "output_type": "execute_result"
    }
   ],
   "source": [
    "geodata"
   ]
  },
  {
   "cell_type": "markdown",
   "metadata": {},
   "source": [
    "## Load all bands  into data array"
   ]
  },
  {
   "cell_type": "code",
   "execution_count": 55,
   "metadata": {},
   "outputs": [],
   "source": [
    "io.read_spec(hd[0])\n",
    "imgs = io.spyfile_spec"
   ]
  },
  {
   "cell_type": "code",
   "execution_count": 57,
   "metadata": {
    "scrolled": true
   },
   "outputs": [
    {
     "name": "stdout",
     "output_type": "stream",
     "text": [
      "\tData Source:   '.\\rep1_pika_gige_1-Radiance From Raw Data-Georectify Airborne Datacube-Reflectance from Radiance Data and Measured Reference Spectrum.bip'\n",
      "\t# Rows:            740\n",
      "\t# Samples:        1611\n",
      "\t# Bands:           240\n",
      "\tInterleave:        BIP\n",
      "\tQuantization:  32 bits\n",
      "\tData format:   float32\n",
      "(740, 1611, 240)\n"
     ]
    }
   ],
   "source": [
    "print(imgs)\n",
    "print(imgs.shape)"
   ]
  },
  {
   "cell_type": "markdown",
   "metadata": {},
   "source": [
    "## Write HSI to GeoTIFF"
   ]
  },
  {
   "cell_type": "code",
   "execution_count": 58,
   "metadata": {},
   "outputs": [
    {
     "name": "stdout",
     "output_type": "stream",
     "text": [
      "Output saved: ./test5.tif\n"
     ]
    }
   ],
   "source": [
    "file_out = \"./test5.tif\"\n",
    "array2raster(imgs, geodata, file_out, gdal_driver='GTiff')"
   ]
  }
 ],
 "metadata": {
  "kernelspec": {
   "display_name": "Python 3",
   "language": "python",
   "name": "python3"
  },
  "language_info": {
   "codemirror_mode": {
    "name": "ipython",
    "version": 3
   },
   "file_extension": ".py",
   "mimetype": "text/x-python",
   "name": "python",
   "nbconvert_exporter": "python",
   "pygments_lexer": "ipython3",
   "version": "3.6.10"
  }
 },
 "nbformat": 4,
 "nbformat_minor": 4
}
