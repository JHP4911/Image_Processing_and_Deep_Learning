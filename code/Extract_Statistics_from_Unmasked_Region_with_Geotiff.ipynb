{
  "nbformat": 4,
  "nbformat_minor": 0,
  "metadata": {
    "colab": {
      "name": "Extract Statistics from Unmasked Region with Geotiff.ipynb",
      "provenance": [],
      "collapsed_sections": [],
      "toc_visible": true,
      "authorship_tag": "ABX9TyNhnYLlQYray86QBanJpVk3",
      "include_colab_link": true
    },
    "kernelspec": {
      "name": "python3",
      "display_name": "Python 3"
    }
  },
  "cells": [
    {
      "cell_type": "markdown",
      "metadata": {
        "id": "view-in-github",
        "colab_type": "text"
      },
      "source": [
        "<a href=\"https://colab.research.google.com/github/wanwanliang/Image_Processing_and_Deep_Learning/blob/master/code/Extract_Statistics_from_Unmasked_Region_with_Geotiff.ipynb\" target=\"_parent\"><img src=\"https://colab.research.google.com/assets/colab-badge.svg\" alt=\"Open In Colab\"/></a>"
      ]
    },
    {
      "cell_type": "markdown",
      "metadata": {
        "id": "h6QQXgKxDgEC"
      },
      "source": [
        "# Prepare environment and data"
      ]
    },
    {
      "cell_type": "code",
      "metadata": {
        "colab": {
          "base_uri": "https://localhost:8080/"
        },
        "id": "LcyoaYIfw9SG",
        "outputId": "6614f1b5-92bc-45f5-dda9-c2ebb1e7f45a"
      },
      "source": [
        "!pip install geopandas\n",
        "!pip install rasterio"
      ],
      "execution_count": 4,
      "outputs": [
        {
          "output_type": "stream",
          "text": [
            "Requirement already satisfied: geopandas in /usr/local/lib/python3.6/dist-packages (0.8.1)\n",
            "Requirement already satisfied: pandas>=0.23.0 in /usr/local/lib/python3.6/dist-packages (from geopandas) (1.1.5)\n",
            "Requirement already satisfied: pyproj>=2.2.0 in /usr/local/lib/python3.6/dist-packages (from geopandas) (3.0.0.post1)\n",
            "Requirement already satisfied: fiona in /usr/local/lib/python3.6/dist-packages (from geopandas) (1.8.18)\n",
            "Requirement already satisfied: shapely in /usr/local/lib/python3.6/dist-packages (from geopandas) (1.7.1)\n",
            "Requirement already satisfied: pytz>=2017.2 in /usr/local/lib/python3.6/dist-packages (from pandas>=0.23.0->geopandas) (2018.9)\n",
            "Requirement already satisfied: numpy>=1.15.4 in /usr/local/lib/python3.6/dist-packages (from pandas>=0.23.0->geopandas) (1.18.5)\n",
            "Requirement already satisfied: python-dateutil>=2.7.3 in /usr/local/lib/python3.6/dist-packages (from pandas>=0.23.0->geopandas) (2.8.1)\n",
            "Requirement already satisfied: certifi in /usr/local/lib/python3.6/dist-packages (from pyproj>=2.2.0->geopandas) (2020.12.5)\n",
            "Requirement already satisfied: six>=1.7 in /usr/local/lib/python3.6/dist-packages (from fiona->geopandas) (1.15.0)\n",
            "Requirement already satisfied: click-plugins>=1.0 in /usr/local/lib/python3.6/dist-packages (from fiona->geopandas) (1.1.1)\n",
            "Requirement already satisfied: click<8,>=4.0 in /usr/local/lib/python3.6/dist-packages (from fiona->geopandas) (7.1.2)\n",
            "Requirement already satisfied: attrs>=17 in /usr/local/lib/python3.6/dist-packages (from fiona->geopandas) (20.3.0)\n",
            "Requirement already satisfied: munch in /usr/local/lib/python3.6/dist-packages (from fiona->geopandas) (2.5.0)\n",
            "Requirement already satisfied: cligj>=0.5 in /usr/local/lib/python3.6/dist-packages (from fiona->geopandas) (0.7.1)\n",
            "Requirement already satisfied: rasterio in /usr/local/lib/python3.6/dist-packages (1.1.8)\n",
            "Requirement already satisfied: numpy in /usr/local/lib/python3.6/dist-packages (from rasterio) (1.18.5)\n",
            "Requirement already satisfied: affine in /usr/local/lib/python3.6/dist-packages (from rasterio) (2.3.0)\n",
            "Requirement already satisfied: attrs in /usr/local/lib/python3.6/dist-packages (from rasterio) (20.3.0)\n",
            "Requirement already satisfied: click<8,>=4.0 in /usr/local/lib/python3.6/dist-packages (from rasterio) (7.1.2)\n",
            "Requirement already satisfied: snuggs>=1.4.1 in /usr/local/lib/python3.6/dist-packages (from rasterio) (1.4.7)\n",
            "Requirement already satisfied: cligj>=0.5 in /usr/local/lib/python3.6/dist-packages (from rasterio) (0.7.1)\n",
            "Requirement already satisfied: click-plugins in /usr/local/lib/python3.6/dist-packages (from rasterio) (1.1.1)\n",
            "Requirement already satisfied: pyparsing>=2.1.6 in /usr/local/lib/python3.6/dist-packages (from snuggs>=1.4.1->rasterio) (2.4.7)\n"
          ],
          "name": "stdout"
        }
      ]
    },
    {
      "cell_type": "code",
      "metadata": {
        "id": "TImn_LY8_jld"
      },
      "source": [
        "import google.colab\n",
        "import numpy as np\n",
        "import os\n",
        "import pandas as pd\n",
        "import geopandas as gpd\n",
        "import rasterio as rio\n",
        "from google.colab import drive\n",
        "import tensorflow as tf\n",
        "import glob\n",
        "%matplotlib inline\n",
        "from matplotlib import mlab \n",
        "import matplotlib.pyplot as plt\n",
        "import sklearn\n",
        "import seaborn as sns\n",
        "import PIL as pil"
      ],
      "execution_count": 140,
      "outputs": []
    },
    {
      "cell_type": "markdown",
      "metadata": {
        "id": "rcWt_-txHF_R"
      },
      "source": [
        "## Set work dir"
      ]
    },
    {
      "cell_type": "code",
      "metadata": {
        "colab": {
          "base_uri": "https://localhost:8080/"
        },
        "id": "kmA0acfDw6Yc",
        "outputId": "8eef5802-5469-49ae-b79c-5109c30d6947"
      },
      "source": [
        "drive.mount('/content/drive')"
      ],
      "execution_count": 62,
      "outputs": [
        {
          "output_type": "stream",
          "text": [
            "Drive already mounted at /content/drive; to attempt to forcibly remount, call drive.mount(\"/content/drive\", force_remount=True).\n"
          ],
          "name": "stdout"
        }
      ]
    },
    {
      "cell_type": "code",
      "metadata": {
        "id": "Yefl-pgpxmu1"
      },
      "source": [
        "os.chdir('/content/drive/My Drive/UMN_Research/Data/wsr')"
      ],
      "execution_count": 7,
      "outputs": []
    },
    {
      "cell_type": "code",
      "metadata": {
        "id": "dVUHi44iyGd7"
      },
      "source": [
        "os.chdir('/content/drive/My Drive/UMN_Research/Data/wsr/image_200_bb45/MCARI2')"
      ],
      "execution_count": 63,
      "outputs": []
    },
    {
      "cell_type": "markdown",
      "metadata": {
        "id": "nQn578K9HOlZ"
      },
      "source": [
        "## List all files"
      ]
    },
    {
      "cell_type": "code",
      "metadata": {
        "id": "eROTjXU6yOoB"
      },
      "source": [
        "tifs = glob.glob('*.tif')"
      ],
      "execution_count": 9,
      "outputs": []
    },
    {
      "cell_type": "code",
      "metadata": {
        "id": "lz1KEQtKyUiN",
        "colab": {
          "base_uri": "https://localhost:8080/"
        },
        "outputId": "ee9f0894-ce70-4be4-925a-4e0765e1dd00"
      },
      "source": [
        "len(tifs)"
      ],
      "execution_count": 10,
      "outputs": [
        {
          "output_type": "execute_result",
          "data": {
            "text/plain": [
              "960"
            ]
          },
          "metadata": {
            "tags": []
          },
          "execution_count": 10
        }
      ]
    },
    {
      "cell_type": "code",
      "metadata": {
        "colab": {
          "base_uri": "https://localhost:8080/"
        },
        "id": "9ENVbEUG8t14",
        "outputId": "a88e9325-23a3-4c48-ce91-a24fb5b38996"
      },
      "source": [
        "tifs[:5]"
      ],
      "execution_count": 11,
      "outputs": [
        {
          "output_type": "execute_result",
          "data": {
            "text/plain": [
              "['WSR200_2_DH058_50S_ply1_45.tif',\n",
              " 'WSR200_2_Faller_5RMR_ply2_45.tif',\n",
              " 'WSR200_2_DH121_25MSS_ply3_45.tif',\n",
              " 'WSR200_2_DH025_5RMR_ply6_45.tif',\n",
              " 'WSR200_2_DH80_40MSS_ply4_45.tif']"
            ]
          },
          "metadata": {
            "tags": []
          },
          "execution_count": 11
        }
      ]
    },
    {
      "cell_type": "markdown",
      "metadata": {
        "id": "b-GspzIwIAGW"
      },
      "source": [
        "# Image exploring"
      ]
    },
    {
      "cell_type": "markdown",
      "metadata": {
        "id": "RsCRw4poHXH5"
      },
      "source": [
        "## Histogram plot and percentile plot"
      ]
    },
    {
      "cell_type": "code",
      "metadata": {
        "colab": {
          "base_uri": "https://localhost:8080/"
        },
        "id": "rc54L5JpCC7a",
        "outputId": "dcd85073-54e4-4818-95f1-d620c14f039e"
      },
      "source": [
        "img = rio.open(tifs[0])\n",
        "arys = img.read()\n",
        "arys2 = np.moveaxis(arys, 0, -1)\n",
        "arys2.shape"
      ],
      "execution_count": 12,
      "outputs": [
        {
          "output_type": "execute_result",
          "data": {
            "text/plain": [
              "(30, 31, 1)"
            ]
          },
          "metadata": {
            "tags": []
          },
          "execution_count": 12
        }
      ]
    },
    {
      "cell_type": "code",
      "metadata": {
        "colab": {
          "base_uri": "https://localhost:8080/"
        },
        "id": "KXDVwHQuCIOp",
        "outputId": "f0a382e5-a0c9-46fa-ca1c-b00ab497c9c6"
      },
      "source": [
        "arys3 = arys2.reshape((-1,1))\n",
        "arys3.shape"
      ],
      "execution_count": 13,
      "outputs": [
        {
          "output_type": "execute_result",
          "data": {
            "text/plain": [
              "(930, 1)"
            ]
          },
          "metadata": {
            "tags": []
          },
          "execution_count": 13
        }
      ]
    },
    {
      "cell_type": "code",
      "metadata": {
        "colab": {
          "base_uri": "https://localhost:8080/",
          "height": 374
        },
        "id": "o9YhM6POD34N",
        "outputId": "94bbd1fa-548e-44b8-afc2-19bbd26f2642"
      },
      "source": [
        "plt.figure(figsize=(10,6))\n",
        "plt.hist(arys3, bins=20)\n",
        "plt.show()"
      ],
      "execution_count": 14,
      "outputs": [
        {
          "output_type": "display_data",
          "data": {
            "image/png": "[encoded data removed]",
            "text/plain": [
              "<Figure size 720x432 with 1 Axes>"
            ]
          },
          "metadata": {
            "tags": [],
            "needs_background": "light"
          }
        }
      ]
    },
    {
      "cell_type": "code",
      "metadata": {
        "colab": {
          "base_uri": "https://localhost:8080/",
          "height": 265
        },
        "id": "a9DJ_LSxEsbR",
        "outputId": "1f85fdb3-5c92-4405-9091-9847922d9e76"
      },
      "source": [
        "hist, bins = np.histogram(arys3, bins=20)\n",
        "width = 0.7*(bins[1]-bins[0])\n",
        "center = (bins[:-1]+bins[1:])/2\n",
        "plt.bar(center, hist,align='center',width=width)\n",
        "plt.show()"
      ],
      "execution_count": 18,
      "outputs": [
        {
          "output_type": "display_data",
          "data": {
            "image/png": "[encoded data removed]",
            "text/plain": [
              "<Figure size 432x288 with 1 Axes>"
            ]
          },
          "metadata": {
            "tags": [],
            "needs_background": "light"
          }
        }
      ]
    },
    {
      "cell_type": "code",
      "metadata": {
        "colab": {
          "base_uri": "https://localhost:8080/",
          "height": 399
        },
        "id": "Ndt83C_tBFyP",
        "outputId": "efe38349-bb0e-4d22-9fa1-8ef4e188d307"
      },
      "source": [
        "pdd = pd.DataFrame(arys3)\n",
        "print(pdd.head(5))\n",
        "pdd.describe()"
      ],
      "execution_count": 15,
      "outputs": [
        {
          "output_type": "stream",
          "text": [
            "          0\n",
            "0  0.579291\n",
            "1  0.594027\n",
            "2  0.641948\n",
            "3  0.675623\n",
            "4  0.619248\n"
          ],
          "name": "stdout"
        },
        {
          "output_type": "execute_result",
          "data": {
            "text/html": [
              "<div>\n",
              "<style scoped>\n",
              "    .dataframe tbody tr th:only-of-type {\n",
              "        vertical-align: middle;\n",
              "    }\n",
              "\n",
              "    .dataframe tbody tr th {\n",
              "        vertical-align: top;\n",
              "    }\n",
              "\n",
              "    .dataframe thead th {\n",
              "        text-align: right;\n",
              "    }\n",
              "</style>\n",
              "<table border=\"1\" class=\"dataframe\">\n",
              "  <thead>\n",
              "    <tr style=\"text-align: right;\">\n",
              "      <th></th>\n",
              "      <th>0</th>\n",
              "    </tr>\n",
              "  </thead>\n",
              "  <tbody>\n",
              "    <tr>\n",
              "      <th>count</th>\n",
              "      <td>930.000000</td>\n",
              "    </tr>\n",
              "    <tr>\n",
              "      <th>mean</th>\n",
              "      <td>0.503186</td>\n",
              "    </tr>\n",
              "    <tr>\n",
              "      <th>std</th>\n",
              "      <td>0.105328</td>\n",
              "    </tr>\n",
              "    <tr>\n",
              "      <th>min</th>\n",
              "      <td>0.122093</td>\n",
              "    </tr>\n",
              "    <tr>\n",
              "      <th>25%</th>\n",
              "      <td>0.424142</td>\n",
              "    </tr>\n",
              "    <tr>\n",
              "      <th>50%</th>\n",
              "      <td>0.513803</td>\n",
              "    </tr>\n",
              "    <tr>\n",
              "      <th>75%</th>\n",
              "      <td>0.592539</td>\n",
              "    </tr>\n",
              "    <tr>\n",
              "      <th>max</th>\n",
              "      <td>0.698259</td>\n",
              "    </tr>\n",
              "  </tbody>\n",
              "</table>\n",
              "</div>"
            ],
            "text/plain": [
              "                0\n",
              "count  930.000000\n",
              "mean     0.503186\n",
              "std      0.105328\n",
              "min      0.122093\n",
              "25%      0.424142\n",
              "50%      0.513803\n",
              "75%      0.592539\n",
              "max      0.698259"
            ]
          },
          "metadata": {
            "tags": []
          },
          "execution_count": 15
        }
      ]
    },
    {
      "cell_type": "code",
      "metadata": {
        "colab": {
          "base_uri": "https://localhost:8080/",
          "height": 279
        },
        "id": "dwNtxLuRBrXY",
        "outputId": "1534377a-d5c7-40be-df05-7d0f9204da0c"
      },
      "source": [
        "import scipy.stats\n",
        "\n",
        "# 100 values from a normal distribution with a std of 3 and a mean of 0.5\n",
        "data = arys3[:,0]\n",
        "counts, start, dx, _ = scipy.stats.cumfreq(data, numbins=20)\n",
        "x = np.arange(counts.size) * dx + start\n",
        "freq = counts/len(arys3[:,0])\n",
        "plt.plot(x, freq, 'ro')\n",
        "plt.xlabel('Value')\n",
        "plt.ylabel('Cumulative Frequency')\n",
        "\n",
        "plt.show()"
      ],
      "execution_count": 16,
      "outputs": [
        {
          "output_type": "display_data",
          "data": {
            "image/png": "[encoded data removed]",
            "text/plain": [
              "<Figure size 432x288 with 1 Axes>"
            ]
          },
          "metadata": {
            "tags": [],
            "needs_background": "light"
          }
        }
      ]
    },
    {
      "cell_type": "code",
      "metadata": {
        "colab": {
          "base_uri": "https://localhost:8080/",
          "height": 336
        },
        "id": "q9EE7555J5fO",
        "outputId": "cde96e94-f969-405e-932e-87fadbf67228"
      },
      "source": [
        "kwargs={'cumulative':True}\n",
        "sns.distplot(arys3[:,0], hist_kws=kwargs, kde_kws=kwargs)"
      ],
      "execution_count": 17,
      "outputs": [
        {
          "output_type": "stream",
          "text": [
            "/usr/local/lib/python3.6/dist-packages/seaborn/distributions.py:2551: FutureWarning: `distplot` is a deprecated function and will be removed in a future version. Please adapt your code to use either `displot` (a figure-level function with similar flexibility) or `histplot` (an axes-level function for histograms).\n",
            "  warnings.warn(msg, FutureWarning)\n"
          ],
          "name": "stderr"
        },
        {
          "output_type": "execute_result",
          "data": {
            "text/plain": [
              "<matplotlib.axes._subplots.AxesSubplot at 0x7fc4e0af4048>"
            ]
          },
          "metadata": {
            "tags": []
          },
          "execution_count": 17
        },
        {
          "output_type": "display_data",
          "data": {
            "image/png": "[encoded data removed]",
            "text/plain": [
              "<Figure size 432x288 with 1 Axes>"
            ]
          },
          "metadata": {
            "tags": [],
            "needs_background": "light"
          }
        }
      ]
    },
    {
      "cell_type": "code",
      "metadata": {
        "colab": {
          "base_uri": "https://localhost:8080/"
        },
        "id": "utyB6hSC75Pd",
        "outputId": "a18b3832-21bc-4124-e6f2-5fe794c3e165"
      },
      "source": [
        "p = np.array([0.0,2.5, 5.0, 10.0, 25.0, 50.0, 75.0, 90.0, 95.0, 97.5, 100.0])\n",
        "perc = np.percentile(arys3, p)\n",
        "perc"
      ],
      "execution_count": 20,
      "outputs": [
        {
          "output_type": "execute_result",
          "data": {
            "text/plain": [
              "array([0.12209332, 0.29815458, 0.31984705, 0.36199221, 0.4241419 ,\n",
              "       0.51380312, 0.59253889, 0.63406438, 0.652035  , 0.66492261,\n",
              "       0.69825947])"
            ]
          },
          "metadata": {
            "tags": []
          },
          "execution_count": 20
        }
      ]
    },
    {
      "cell_type": "markdown",
      "metadata": {
        "id": "xs6R5_xx8Nqh"
      },
      "source": [
        "## Exploring image thresholding"
      ]
    },
    {
      "cell_type": "code",
      "metadata": {
        "colab": {
          "base_uri": "https://localhost:8080/",
          "height": 585
        },
        "id": "9Mhl-sXxNZT1",
        "outputId": "b005498a-a91e-4c0b-bc9e-fbf2da472c4a"
      },
      "source": [
        "from skimage.filters import try_all_threshold\n",
        "import skimage.filters as filters\n",
        "\n",
        "fig, ax = try_all_threshold(arys2.reshape((30,31)), figsize=(10, 8), verbose=False)\n",
        "plt.show()"
      ],
      "execution_count": 21,
      "outputs": [
        {
          "output_type": "display_data",
          "data": {
            "image/png": "[encoded data removed]",
            "text/plain": [
              "<Figure size 720x576 with 8 Axes>"
            ]
          },
          "metadata": {
            "tags": [],
            "needs_background": "light"
          }
        }
      ]
    },
    {
      "cell_type": "code",
      "metadata": {
        "id": "4D8IZy4zWecu"
      },
      "source": [
        "lst = ['otsu','li','yen','isodata','mean']\r\n",
        "\r\n",
        "mint= min_threshold(arys2.reshape((30,31)), lst)"
      ],
      "execution_count": 57,
      "outputs": []
    },
    {
      "cell_type": "code",
      "metadata": {
        "colab": {
          "base_uri": "https://localhost:8080/",
          "height": 266
        },
        "id": "TNmw6lc_aBFI",
        "outputId": "c7fac7ee-d94d-4bde-e7cd-c9b4f2ae23cd"
      },
      "source": [
        "binary = arys2.reshape((30,31)) > mint\r\n",
        "plt.imshow(binary)\r\n",
        "plt.show()"
      ],
      "execution_count": 58,
      "outputs": [
        {
          "output_type": "display_data",
          "data": {
            "image/png": "[encoded data removed]",
            "text/plain": [
              "<Figure size 432x288 with 1 Axes>"
            ]
          },
          "metadata": {
            "tags": [],
            "needs_background": "light"
          }
        }
      ]
    },
    {
      "cell_type": "code",
      "metadata": {
        "id": "MKrnpjus2QNu"
      },
      "source": [
        "template = img\r\n",
        "ary2tif(binary, img, 'ts.tif')"
      ],
      "execution_count": 61,
      "outputs": []
    },
    {
      "cell_type": "markdown",
      "metadata": {
        "id": "kLlPBZc4Gn0R"
      },
      "source": [
        "# Image thresholding"
      ]
    },
    {
      "cell_type": "markdown",
      "metadata": {
        "id": "CEMJaqd2Glih"
      },
      "source": [
        "## Define functions"
      ]
    },
    {
      "cell_type": "markdown",
      "metadata": {
        "id": "RQardbyuJWcu"
      },
      "source": [
        "### Image thresholding function"
      ]
    },
    {
      "cell_type": "code",
      "metadata": {
        "id": "Na9yTT2iOp86"
      },
      "source": [
        "def img_threshold(img, method=None):\n",
        "  if method=='otsu':\n",
        "    thre = filters.threshold_otsu(img)\n",
        "  if method=='li':\n",
        "    thre = filters.threshold_li(img)\n",
        "  if method=='yen':\n",
        "    thre = filters.threshold_yen(img)\n",
        "  if method=='isodata':\n",
        "    thre = filters.threshold_isodata(img)\n",
        "  if method=='mean':\n",
        "    thre = filters.threshold_mean(img)\n",
        "    \n",
        "  return(thre)"
      ],
      "execution_count": 34,
      "outputs": []
    },
    {
      "cell_type": "markdown",
      "metadata": {
        "id": "N4wY2FZZJb1v"
      },
      "source": [
        "### Get minimum threshold"
      ]
    },
    {
      "cell_type": "code",
      "metadata": {
        "id": "5LWAGhIoTlon"
      },
      "source": [
        "def min_threshold(img, method_list):\r\n",
        "  thre = []\r\n",
        "  for method in lst:\r\n",
        "    thre.append(img_threshold(img, method))\r\n",
        "\r\n",
        "  return(min(thre))"
      ],
      "execution_count": 35,
      "outputs": []
    },
    {
      "cell_type": "markdown",
      "metadata": {
        "id": "UU9t7Q7WJfBn"
      },
      "source": [
        "### Image array to geotiff"
      ]
    },
    {
      "cell_type": "code",
      "metadata": {
        "id": "bCUc5llj3SGd"
      },
      "source": [
        "def ary2tif(img, img_template, nm):\r\n",
        "  img = img.astype('float32')\r\n",
        "  meta = img_template.meta.copy()\r\n",
        "  #meta.update({'nodata': 999, 'dtype': 'float32', 'count':1})\r\n",
        "\r\n",
        "\r\n",
        "  with rio.open(nm, 'w', **meta) as outf:\r\n",
        "    outf.write(img, 1)"
      ],
      "execution_count": 60,
      "outputs": []
    },
    {
      "cell_type": "markdown",
      "metadata": {
        "id": "96d_38cSLZX7"
      },
      "source": [
        "### Geotiff to numpy array"
      ]
    },
    {
      "cell_type": "code",
      "metadata": {
        "id": "FOQMug3ILdcy"
      },
      "source": [
        "def tif2ary(tif):\r\n",
        "\r\n",
        "  raA = rio.open(tif)\r\n",
        "  arys = raA.read()\r\n",
        "\r\n",
        "  arys= arys.astype('float32')\r\n",
        "  arys =np.moveaxis(arys, 0, -1)\r\n",
        "\r\n",
        "  return(arys)"
      ],
      "execution_count": 79,
      "outputs": []
    },
    {
      "cell_type": "markdown",
      "metadata": {
        "id": "-KaHEsBsIFFm"
      },
      "source": [
        "### Get image statistic for unmask region"
      ]
    },
    {
      "cell_type": "code",
      "metadata": {
        "id": "0jrNxPIHKY9H"
      },
      "source": [
        "def img_stats(img_mlp, vi):\r\n",
        "\r\n",
        "  vi_ary = tif2ary(vi)\r\n",
        "  threshold = img_threshold(vi_ary, 'otsu')\r\n",
        "  img_binary = vi_ary < threshold \r\n",
        "  img_binary = img_binary.reshape((img_binary.shape[0], img_binary.shape[1]))\r\n",
        "\r\n",
        "  img_ary = tif2ary(img_mlp)\r\n",
        "  img_ary[img_binary] = np.nan\r\n",
        "\r\n",
        "  img_ary2 = np.concatenate(img_ary,0)\r\n",
        "  \r\n",
        " \r\n",
        "  fea_ls = []\r\n",
        "\r\n",
        "  for i in range(img_ary2.shape[1]):\r\n",
        "    \r\n",
        "    des = describe(img_ary2[:,i], axis=0, nan_policy= 'omit')\r\n",
        "\r\n",
        "    mean = des.mean\r\n",
        "    var = des.variance\r\n",
        "\r\n",
        "    fea_ls.append(mean)\r\n",
        "    fea_ls.append(var)\r\n",
        "  \r\n",
        "  return(fea_ls)"
      ],
      "execution_count": 215,
      "outputs": []
    },
    {
      "cell_type": "markdown",
      "metadata": {
        "id": "r5nK8Dkm5NAe"
      },
      "source": [
        "# Extract mean and variance for each band "
      ]
    },
    {
      "cell_type": "code",
      "metadata": {
        "colab": {
          "base_uri": "https://localhost:8080/",
          "height": 35
        },
        "id": "Pdn_ZWQJQCw1",
        "outputId": "6532f0fb-7464-4e0b-bd4d-c0ac8be5295a"
      },
      "source": [
        "os.getcwd()"
      ],
      "execution_count": 189,
      "outputs": [
        {
          "output_type": "execute_result",
          "data": {
            "application/vnd.google.colaboratory.intrinsic+json": {
              "type": "string"
            },
            "text/plain": [
              "'/content/drive/My Drive/UMN_Research/Data/wsr/image_200_bb45'"
            ]
          },
          "metadata": {
            "tags": []
          },
          "execution_count": 189
        }
      ]
    },
    {
      "cell_type": "code",
      "metadata": {
        "id": "vPn8UL3KQEId"
      },
      "source": [
        "os.chdir('/content/drive/My Drive/UMN_Research/Data/wsr/image_200_bb45')"
      ],
      "execution_count": 72,
      "outputs": []
    },
    {
      "cell_type": "code",
      "metadata": {
        "colab": {
          "base_uri": "https://localhost:8080/"
        },
        "id": "pFk-BdZLRzdX",
        "outputId": "aa68ba86-622c-4db0-a96f-030f648c2056"
      },
      "source": [
        "tifs = glob.glob(\"*.tif\")\r\n",
        "print((\"Number of tifs is {}\".format(len(tifs))))\r\n",
        "tifs[:5]"
      ],
      "execution_count": 190,
      "outputs": [
        {
          "output_type": "stream",
          "text": [
            "Number of tifs is 960\n"
          ],
          "name": "stdout"
        },
        {
          "output_type": "execute_result",
          "data": {
            "text/plain": [
              "['WSR200_2_DH058_50S_ply1_45.tif',\n",
              " 'WSR200_2_DH072_30MR_ply7_45.tif',\n",
              " 'WSR200_2_ROB_25MSS_ply5_45.tif',\n",
              " 'WSR200_2_DH025_5RMR_ply6_45.tif',\n",
              " 'WSR200_2_DH121_25MSS_ply3_45.tif']"
            ]
          },
          "metadata": {
            "tags": []
          },
          "execution_count": 190
        }
      ]
    },
    {
      "cell_type": "code",
      "metadata": {
        "colab": {
          "base_uri": "https://localhost:8080/"
        },
        "id": "PZSreaInUf6c",
        "outputId": "c00ac3ca-77f3-4cb0-fc65-c360e1e7107d"
      },
      "source": [
        "vis = glob.glob(\"./MCARI2/*.tif\")\r\n",
        "print(\"Number of VI is {}\".format(len(vis)))\r\n",
        "vis[:10]"
      ],
      "execution_count": 192,
      "outputs": [
        {
          "output_type": "stream",
          "text": [
            "Number of VI is 960\n"
          ],
          "name": "stdout"
        },
        {
          "output_type": "execute_result",
          "data": {
            "text/plain": [
              "['./MCARI2/WSR200_2_DH058_50S_ply1_45.tif',\n",
              " './MCARI2/WSR200_2_Faller_5RMR_ply2_45.tif',\n",
              " './MCARI2/WSR200_2_DH121_25MSS_ply3_45.tif',\n",
              " './MCARI2/WSR200_2_DH025_5RMR_ply6_45.tif',\n",
              " './MCARI2/WSR200_2_DH80_40MSS_ply4_45.tif',\n",
              " './MCARI2/WSR200_2_DH153_5R_ply8_45.tif',\n",
              " './MCARI2/WSR200_2_ROB_25MSS_ply5_45.tif',\n",
              " './MCARI2/WSR200_2_DH072_30MR_ply7_45.tif',\n",
              " './MCARI2/WSR200_2_DH035_10RMR_ply29_45.tif',\n",
              " './MCARI2/WSR200_2_DH158_30MRMSS_ply28_45.tif']"
            ]
          },
          "metadata": {
            "tags": []
          },
          "execution_count": 192
        }
      ]
    },
    {
      "cell_type": "code",
      "metadata": {
        "colab": {
          "base_uri": "https://localhost:8080/"
        },
        "id": "sKNcsMTWmtQR",
        "outputId": "96733eb6-af13-48ce-b4ea-1f4114134e69"
      },
      "source": [
        "fea = None\r\n",
        "\r\n",
        "for i in range(len(tifs)):\r\n",
        "\r\n",
        "  mlp = tifs[i]\r\n",
        "  vi = './MCARI2/' + mlp\r\n",
        "\r\n",
        "  dt = img_stats(mlp, vi)\r\n",
        "  dt = np.asarray(dt)\r\n",
        "  dt = dt.reshape((16,-1))\r\n",
        "\r\n",
        "  if fea is None:\r\n",
        "    fea = dt\r\n",
        "  else:\r\n",
        "    fea = np.concatenate((fea, dt),axis=1)"
      ],
      "execution_count": 243,
      "outputs": [
        {
          "output_type": "stream",
          "text": [
            "/usr/local/lib/python3.6/dist-packages/numpy/core/_methods.py:38: RuntimeWarning: overflow encountered in reduce\n",
            "  return umr_sum(a, axis, dtype, out, keepdims, initial, where)\n",
            "/usr/local/lib/python3.6/dist-packages/numpy/core/_asarray.py:85: UserWarning: Warning: converting a masked element to nan.\n",
            "  return array(a, dtype, copy=False, order=order)\n"
          ],
          "name": "stderr"
        }
      ]
    },
    {
      "cell_type": "code",
      "metadata": {
        "colab": {
          "base_uri": "https://localhost:8080/"
        },
        "id": "Guxeru-4vpj5",
        "outputId": "3133bde1-fba3-4d1d-e93e-89b31ed051bd"
      },
      "source": [
        "fea.shape"
      ],
      "execution_count": 244,
      "outputs": [
        {
          "output_type": "execute_result",
          "data": {
            "text/plain": [
              "(16, 960)"
            ]
          },
          "metadata": {
            "tags": []
          },
          "execution_count": 244
        }
      ]
    },
    {
      "cell_type": "code",
      "metadata": {
        "colab": {
          "base_uri": "https://localhost:8080/"
        },
        "id": "mG6MbRWRx1vw",
        "outputId": "e4f55093-a172-4b49-cb9e-9ad6def76857"
      },
      "source": [
        "fea2 = np.transpose(fea)\r\n",
        "fea2.shape"
      ],
      "execution_count": 245,
      "outputs": [
        {
          "output_type": "execute_result",
          "data": {
            "text/plain": [
              "(960, 16)"
            ]
          },
          "metadata": {
            "tags": []
          },
          "execution_count": 245
        }
      ]
    },
    {
      "cell_type": "code",
      "metadata": {
        "colab": {
          "base_uri": "https://localhost:8080/"
        },
        "id": "XI9ZU8dtyLyC",
        "outputId": "8f6548be-be54-4b1e-9b3b-6c7fbf209226"
      },
      "source": [
        "fea_df = pd.DataFrame(fea2)\r\n",
        "print(fea_df.shape)\r\n",
        "fea_df.head"
      ],
      "execution_count": 247,
      "outputs": [
        {
          "output_type": "stream",
          "text": [
            "(960, 16)\n"
          ],
          "name": "stdout"
        },
        {
          "output_type": "execute_result",
          "data": {
            "text/plain": [
              "<bound method NDFrame.head of                0             1   ...            14            15\n",
              "0    26054.194118  5.286662e+07  ...  27501.674510  7.538423e+07\n",
              "1    17164.944186  2.048012e+07  ...  22802.964341  4.913321e+07\n",
              "2    22268.819835  3.282777e+07  ...  26259.219835  5.153549e+07\n",
              "3    16797.332787  1.262692e+07  ...  24118.780328  3.323129e+07\n",
              "4    22230.056058  2.687336e+07  ...  27098.238698  5.203973e+07\n",
              "..            ...           ...  ...           ...           ...\n",
              "955  10160.210606  4.188669e+06  ...  12517.398485  6.570395e+06\n",
              "956   8120.776087  3.139614e+06  ...  13649.269565  9.698606e+06\n",
              "957  11286.885113  5.842980e+06  ...  13074.679612  1.007164e+07\n",
              "958   7776.391705  1.491515e+06  ...  11865.756528  4.035828e+06\n",
              "959  10064.646077  3.514099e+06  ...  13170.641068  8.230420e+06\n",
              "\n",
              "[960 rows x 16 columns]>"
            ]
          },
          "metadata": {
            "tags": []
          },
          "execution_count": 247
        }
      ]
    },
    {
      "cell_type": "markdown",
      "metadata": {
        "id": "94p-nr-l5nBG"
      },
      "source": [
        "# Get image ID"
      ]
    },
    {
      "cell_type": "code",
      "metadata": {
        "colab": {
          "base_uri": "https://localhost:8080/"
        },
        "id": "AYqsXEgpyjqU",
        "outputId": "dfe459c9-b8cf-462e-a498-b65edeb5e7a8"
      },
      "source": [
        "tifs[:10]"
      ],
      "execution_count": 248,
      "outputs": [
        {
          "output_type": "execute_result",
          "data": {
            "text/plain": [
              "['WSR200_2_DH058_50S_ply1_45.tif',\n",
              " 'WSR200_2_DH072_30MR_ply7_45.tif',\n",
              " 'WSR200_2_ROB_25MSS_ply5_45.tif',\n",
              " 'WSR200_2_DH025_5RMR_ply6_45.tif',\n",
              " 'WSR200_2_DH121_25MSS_ply3_45.tif',\n",
              " 'WSR200_2_DH153_5R_ply8_45.tif',\n",
              " 'WSR200_2_Faller_5RMR_ply2_45.tif',\n",
              " 'WSR200_2_DH80_40MSS_ply4_45.tif',\n",
              " 'WSR200_2_DH062_10RMR_ply13_45.tif',\n",
              " 'WSR200_2_Robin_10R_ply21_45.tif']"
            ]
          },
          "metadata": {
            "tags": []
          },
          "execution_count": 248
        }
      ]
    },
    {
      "cell_type": "code",
      "metadata": {
        "id": "zaDchwXWyuu5"
      },
      "source": [
        "nms=[]\r\n",
        "\r\n",
        "[nms.append(txt.split(\"_\")[4]) for txt in tifs]"
      ],
      "execution_count": null,
      "outputs": []
    },
    {
      "cell_type": "code",
      "metadata": {
        "colab": {
          "base_uri": "https://localhost:8080/"
        },
        "id": "BHOLbE453y3X",
        "outputId": "91e96159-c0d2-476f-bbae-ed25792b85e2"
      },
      "source": [
        "print(len(nms))\r\n",
        "nms[:5]"
      ],
      "execution_count": 258,
      "outputs": [
        {
          "output_type": "stream",
          "text": [
            "960\n"
          ],
          "name": "stdout"
        },
        {
          "output_type": "execute_result",
          "data": {
            "text/plain": [
              "['ply1', 'ply7', 'ply5', 'ply6', 'ply3']"
            ]
          },
          "metadata": {
            "tags": []
          },
          "execution_count": 258
        }
      ]
    },
    {
      "cell_type": "code",
      "metadata": {
        "colab": {
          "base_uri": "https://localhost:8080/"
        },
        "id": "J2z-8kuq4YgH",
        "outputId": "60cdd326-218b-4f7e-be08-fb5cddd05b6f"
      },
      "source": [
        "nms2 = np.asarray(nms)\r\n",
        "nms2 = nms2.reshape((len(nms),-1))\r\n",
        "nms_df = pd.DataFrame(nms2)\r\n",
        "print(nms2.shape)\r\n",
        "print(nms_df.shape)"
      ],
      "execution_count": 260,
      "outputs": [
        {
          "output_type": "stream",
          "text": [
            "(960, 1)\n",
            "(960, 1)\n"
          ],
          "name": "stdout"
        }
      ]
    },
    {
      "cell_type": "code",
      "metadata": {
        "id": "5JX5QDLq4pCX"
      },
      "source": [
        "fea_df['ply_ID']=nms_df"
      ],
      "execution_count": 261,
      "outputs": []
    },
    {
      "cell_type": "code",
      "metadata": {
        "colab": {
          "base_uri": "https://localhost:8080/"
        },
        "id": "IZWzxKPG45VY",
        "outputId": "cbd14a26-8dba-499e-cbc4-4aaf538184eb"
      },
      "source": [
        "fea_df.shape"
      ],
      "execution_count": 263,
      "outputs": [
        {
          "output_type": "execute_result",
          "data": {
            "text/plain": [
              "(960, 17)"
            ]
          },
          "metadata": {
            "tags": []
          },
          "execution_count": 263
        }
      ]
    },
    {
      "cell_type": "markdown",
      "metadata": {
        "id": "6r7DypP346xi"
      },
      "source": [
        "# Write data"
      ]
    },
    {
      "cell_type": "code",
      "metadata": {
        "id": "GYMZNTTs6AO9"
      },
      "source": [
        "fea_df.to_csv(\"/BandStats.csv\", index=False)"
      ],
      "execution_count": 265,
      "outputs": []
    }
  ]
}