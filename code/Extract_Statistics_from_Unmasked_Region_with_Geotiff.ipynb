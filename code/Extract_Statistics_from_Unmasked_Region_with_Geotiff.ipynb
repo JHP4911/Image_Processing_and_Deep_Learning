{
  "nbformat": 4,
  "nbformat_minor": 0,
  "metadata": {
    "colab": {
      "name": "Extract Statistics from Unmasked Region with Geotiff.ipynb",
      "provenance": [],
      "collapsed_sections": [],
      "toc_visible": true,
      "authorship_tag": "ABX9TyPThX94J9d5atXiMqVr58x/",
      "include_colab_link": true
    },
    "kernelspec": {
      "name": "python3",
      "display_name": "Python 3"
    }
  },
  "cells": [
    {
      "cell_type": "markdown",
      "metadata": {
        "id": "view-in-github",
        "colab_type": "text"
      },
      "source": [
        "<a href=\"https://colab.research.google.com/github/wanwanliang/Image_Processing_and_Deep_Learning/blob/master/code/Extract_Statistics_from_Unmasked_Region_with_Geotiff.ipynb\" target=\"_parent\"><img src=\"https://colab.research.google.com/assets/colab-badge.svg\" alt=\"Open In Colab\"/></a>"
      ]
    },
    {
      "cell_type": "markdown",
      "metadata": {
        "id": "h6QQXgKxDgEC"
      },
      "source": [
        "# Prepare environment and data"
      ]
    },
    {
      "cell_type": "code",
      "metadata": {
        "id": "LcyoaYIfw9SG"
      },
      "source": [
        "!pip install geopandas\n",
        "!pip install rasterio"
      ],
      "execution_count": null,
      "outputs": []
    },
    {
      "cell_type": "code",
      "metadata": {
        "id": "TImn_LY8_jld"
      },
      "source": [
        "import google.colab\n",
        "import numpy as np\n",
        "import os\n",
        "import pandas as pd\n",
        "import geopandas as gpd\n",
        "import rasterio as rio\n",
        "from google.colab import drive\n",
        "import tensorflow as tf\n",
        "import glob\n",
        "%matplotlib inline\n",
        "from matplotlib import mlab \n",
        "import matplotlib.pyplot as plt\n",
        "import sklearn\n",
        "import seaborn as sns\n",
        "import PIL as pil"
      ],
      "execution_count": null,
      "outputs": []
    },
    {
      "cell_type": "markdown",
      "metadata": {
        "id": "rcWt_-txHF_R"
      },
      "source": [
        "## Set work dir"
      ]
    },
    {
      "cell_type": "code",
      "metadata": {
        "id": "kmA0acfDw6Yc"
      },
      "source": [
        "drive.mount('/content/drive')"
      ],
      "execution_count": null,
      "outputs": []
    },
    {
      "cell_type": "code",
      "metadata": {
        "id": "Yefl-pgpxmu1"
      },
      "source": [
        "os.chdir('/content/drive/My Drive/UMN_Research/Data/wsr')"
      ],
      "execution_count": null,
      "outputs": []
    },
    {
      "cell_type": "code",
      "metadata": {
        "id": "dVUHi44iyGd7"
      },
      "source": [
        "os.chdir('/content/drive/My Drive/UMN_Research/Data/wsr/image_200_bb45/MCARI2')"
      ],
      "execution_count": null,
      "outputs": []
    },
    {
      "cell_type": "markdown",
      "metadata": {
        "id": "nQn578K9HOlZ"
      },
      "source": [
        "## List all files"
      ]
    },
    {
      "cell_type": "code",
      "metadata": {
        "id": "eROTjXU6yOoB"
      },
      "source": [
        "tifs = glob.glob('*.tif')"
      ],
      "execution_count": null,
      "outputs": []
    },
    {
      "cell_type": "code",
      "metadata": {
        "id": "lz1KEQtKyUiN"
      },
      "source": [
        "len(tifs)"
      ],
      "execution_count": null,
      "outputs": []
    },
    {
      "cell_type": "code",
      "metadata": {
        "id": "9ENVbEUG8t14"
      },
      "source": [
        "tifs[:5]"
      ],
      "execution_count": null,
      "outputs": []
    },
    {
      "cell_type": "markdown",
      "metadata": {
        "id": "b-GspzIwIAGW"
      },
      "source": [
        "# Image exploring"
      ]
    },
    {
      "cell_type": "markdown",
      "metadata": {
        "id": "RsCRw4poHXH5"
      },
      "source": [
        "## Histogram plot and percentile plot"
      ]
    },
    {
      "cell_type": "code",
      "metadata": {
        "id": "rc54L5JpCC7a"
      },
      "source": [
        "img = rio.open(tifs[0])\n",
        "arys = img.read()\n",
        "arys2 = np.moveaxis(arys, 0, -1)\n",
        "arys2.shape"
      ],
      "execution_count": null,
      "outputs": []
    },
    {
      "cell_type": "code",
      "metadata": {
        "id": "KXDVwHQuCIOp"
      },
      "source": [
        "arys3 = arys2.reshape((-1,1))\n",
        "arys3.shape"
      ],
      "execution_count": null,
      "outputs": []
    },
    {
      "cell_type": "code",
      "metadata": {
        "id": "o9YhM6POD34N"
      },
      "source": [
        "plt.figure(figsize=(10,6))\n",
        "plt.hist(arys3, bins=20)\n",
        "plt.show()"
      ],
      "execution_count": null,
      "outputs": []
    },
    {
      "cell_type": "code",
      "metadata": {
        "id": "a9DJ_LSxEsbR"
      },
      "source": [
        "hist, bins = np.histogram(arys3, bins=20)\n",
        "width = 0.7*(bins[1]-bins[0])\n",
        "center = (bins[:-1]+bins[1:])/2\n",
        "plt.bar(center, hist,align='center',width=width)\n",
        "plt.show()"
      ],
      "execution_count": null,
      "outputs": []
    },
    {
      "cell_type": "code",
      "metadata": {
        "id": "Ndt83C_tBFyP"
      },
      "source": [
        "pdd = pd.DataFrame(arys3)\n",
        "print(pdd.head(5))\n",
        "pdd.describe()"
      ],
      "execution_count": null,
      "outputs": []
    },
    {
      "cell_type": "code",
      "metadata": {
        "id": "dwNtxLuRBrXY"
      },
      "source": [
        "import scipy.stats\n",
        "\n",
        "# 100 values from a normal distribution with a std of 3 and a mean of 0.5\n",
        "data = arys3[:,0]\n",
        "counts, start, dx, _ = scipy.stats.cumfreq(data, numbins=20)\n",
        "x = np.arange(counts.size) * dx + start\n",
        "freq = counts/len(arys3[:,0])\n",
        "plt.plot(x, freq, 'ro')\n",
        "plt.xlabel('Value')\n",
        "plt.ylabel('Cumulative Frequency')\n",
        "\n",
        "plt.show()"
      ],
      "execution_count": null,
      "outputs": []
    },
    {
      "cell_type": "code",
      "metadata": {
        "id": "q9EE7555J5fO"
      },
      "source": [
        "kwargs={'cumulative':True}\n",
        "sns.distplot(arys3[:,0], hist_kws=kwargs, kde_kws=kwargs)"
      ],
      "execution_count": null,
      "outputs": []
    },
    {
      "cell_type": "code",
      "metadata": {
        "id": "utyB6hSC75Pd"
      },
      "source": [
        "p = np.array([0.0,2.5, 5.0, 10.0, 25.0, 50.0, 75.0, 90.0, 95.0, 97.5, 100.0])\n",
        "perc = np.percentile(arys3, p)\n",
        "perc"
      ],
      "execution_count": null,
      "outputs": []
    },
    {
      "cell_type": "markdown",
      "metadata": {
        "id": "xs6R5_xx8Nqh"
      },
      "source": [
        "## Exploring image thresholding"
      ]
    },
    {
      "cell_type": "code",
      "metadata": {
        "id": "9Mhl-sXxNZT1"
      },
      "source": [
        "from skimage.filters import try_all_threshold\n",
        "import skimage.filters as filters\n",
        "\n",
        "fig, ax = try_all_threshold(arys2.reshape((30,31)), figsize=(10, 8), verbose=False)\n",
        "plt.show()"
      ],
      "execution_count": null,
      "outputs": []
    },
    {
      "cell_type": "code",
      "metadata": {
        "id": "4D8IZy4zWecu"
      },
      "source": [
        "lst = ['otsu','li','yen','isodata','mean']\r\n",
        "\r\n",
        "mint= min_threshold(arys2.reshape((30,31)), lst)"
      ],
      "execution_count": null,
      "outputs": []
    },
    {
      "cell_type": "code",
      "metadata": {
        "id": "TNmw6lc_aBFI"
      },
      "source": [
        "binary = arys2.reshape((30,31)) > mint\r\n",
        "plt.imshow(binary)\r\n",
        "plt.show()"
      ],
      "execution_count": null,
      "outputs": []
    },
    {
      "cell_type": "code",
      "metadata": {
        "id": "MKrnpjus2QNu"
      },
      "source": [
        "template = img\r\n",
        "ary2tif(binary, img, 'ts.tif')"
      ],
      "execution_count": null,
      "outputs": []
    },
    {
      "cell_type": "markdown",
      "metadata": {
        "id": "kLlPBZc4Gn0R"
      },
      "source": [
        "# Image thresholding"
      ]
    },
    {
      "cell_type": "markdown",
      "metadata": {
        "id": "CEMJaqd2Glih"
      },
      "source": [
        "## Define functions"
      ]
    },
    {
      "cell_type": "markdown",
      "metadata": {
        "id": "RQardbyuJWcu"
      },
      "source": [
        "### Image thresholding function"
      ]
    },
    {
      "cell_type": "code",
      "metadata": {
        "id": "Na9yTT2iOp86"
      },
      "source": [
        "def img_threshold(img, method=None):\n",
        "  if method=='otsu':\n",
        "    thre = filters.threshold_otsu(img)\n",
        "  if method=='li':\n",
        "    thre = filters.threshold_li(img)\n",
        "  if method=='yen':\n",
        "    thre = filters.threshold_yen(img)\n",
        "  if method=='isodata':\n",
        "    thre = filters.threshold_isodata(img)\n",
        "  if method=='mean':\n",
        "    thre = filters.threshold_mean(img)\n",
        "    \n",
        "  return(thre)"
      ],
      "execution_count": null,
      "outputs": []
    },
    {
      "cell_type": "markdown",
      "metadata": {
        "id": "N4wY2FZZJb1v"
      },
      "source": [
        "### Get minimum threshold"
      ]
    },
    {
      "cell_type": "code",
      "metadata": {
        "id": "5LWAGhIoTlon"
      },
      "source": [
        "def min_threshold(img, method_list):\r\n",
        "  thre = []\r\n",
        "  for method in lst:\r\n",
        "    thre.append(img_threshold(img, method))\r\n",
        "\r\n",
        "  return(min(thre))"
      ],
      "execution_count": null,
      "outputs": []
    },
    {
      "cell_type": "markdown",
      "metadata": {
        "id": "UU9t7Q7WJfBn"
      },
      "source": [
        "### Image array to geotiff"
      ]
    },
    {
      "cell_type": "code",
      "metadata": {
        "id": "bCUc5llj3SGd"
      },
      "source": [
        "def ary2tif(img, img_template, nm):\r\n",
        "  img = img.astype('float32')\r\n",
        "  meta = img_template.meta.copy()\r\n",
        "  #meta.update({'nodata': 999, 'dtype': 'float32', 'count':1})\r\n",
        "\r\n",
        "\r\n",
        "  with rio.open(nm, 'w', **meta) as outf:\r\n",
        "    outf.write(img, 1)"
      ],
      "execution_count": null,
      "outputs": []
    },
    {
      "cell_type": "markdown",
      "metadata": {
        "id": "96d_38cSLZX7"
      },
      "source": [
        "### Geotiff to numpy array"
      ]
    },
    {
      "cell_type": "code",
      "metadata": {
        "id": "FOQMug3ILdcy"
      },
      "source": [
        "def tif2ary(tif):\r\n",
        "\r\n",
        "  raA = rio.open(tif)\r\n",
        "  arys = raA.read()\r\n",
        "\r\n",
        "  arys= arys.astype('float32')\r\n",
        "  arys =np.moveaxis(arys, 0, -1)\r\n",
        "\r\n",
        "  return(arys)"
      ],
      "execution_count": null,
      "outputs": []
    },
    {
      "cell_type": "markdown",
      "metadata": {
        "id": "-KaHEsBsIFFm"
      },
      "source": [
        "### Get image statistic for unmask region"
      ]
    },
    {
      "cell_type": "code",
      "metadata": {
        "id": "0jrNxPIHKY9H"
      },
      "source": [
        "def img_stats(img_mlp, vi):\r\n",
        "\r\n",
        "  vi_ary = tif2ary(vi)\r\n",
        "  threshold = img_threshold(vi_ary, 'otsu')\r\n",
        "  img_binary = vi_ary < threshold \r\n",
        "  img_binary = img_binary.reshape((img_binary.shape[0], img_binary.shape[1]))\r\n",
        "\r\n",
        "  img_ary = tif2ary(img_mlp)\r\n",
        "  img_ary[img_binary] = np.nan\r\n",
        "\r\n",
        "  img_ary2 = np.concatenate(img_ary,0)\r\n",
        "  \r\n",
        " \r\n",
        "  fea_ls = []\r\n",
        "\r\n",
        "  for i in range(img_ary2.shape[1]):\r\n",
        "    \r\n",
        "    des = describe(img_ary2[:,i], axis=0, nan_policy= 'omit')\r\n",
        "\r\n",
        "    mean = des.mean\r\n",
        "    var = des.variance\r\n",
        "\r\n",
        "    fea_ls.append(mean)\r\n",
        "    fea_ls.append(var)\r\n",
        "  \r\n",
        "  return(fea_ls)"
      ],
      "execution_count": null,
      "outputs": []
    },
    {
      "cell_type": "code",
      "metadata": {
        "id": "jFkjdMzOIKKb"
      },
      "source": [
        "#img_binary = np.concatenate(img_binary,0)\r\n",
        "img_binary = img_binary.reshape((img_binary.shape[0],-1))\r\n",
        "img_binary.shape"
      ],
      "execution_count": null,
      "outputs": []
    },
    {
      "cell_type": "code",
      "metadata": {
        "id": "XyHQwUjqH2dU"
      },
      "source": [
        "def vis_stats(vi_mlp, vi):\r\n",
        "\r\n",
        "  vi_ary = tif2ary(vi)\r\n",
        "  threshold = img_threshold(vi_ary, 'otsu')\r\n",
        "  img_binary = vi_ary < threshold \r\n",
        "  img_binary = img_binary.reshape((img_binary.shape[0],img_binary.shape[1]))\r\n",
        "  img_binary = np.concatenate(img_binary,0)\r\n",
        "  #img_binary = img_binary.reshape((img_binary.shape[0],-1))\r\n",
        "\r\n",
        "  vi_mlp[img_binary] = np.nan\r\n",
        "\r\n",
        "  img_ary2 = vi_mlp\r\n",
        "  \r\n",
        " \r\n",
        "  fea_ls = []\r\n",
        "\r\n",
        "  for i in range(img_ary2.shape[1]):\r\n",
        "    \r\n",
        "    des = describe(img_ary2[:,i], axis=0, nan_policy= 'omit')\r\n",
        "\r\n",
        "    mean = des.mean\r\n",
        "    var = des.variance\r\n",
        "\r\n",
        "    fea_ls.append(mean)\r\n",
        "    fea_ls.append(var)\r\n",
        "  \r\n",
        "  return(fea_ls)"
      ],
      "execution_count": null,
      "outputs": []
    },
    {
      "cell_type": "code",
      "metadata": {
        "id": "3HLr-MsAKr07"
      },
      "source": [
        "  vi_ary = tif2ary(vi)\r\n",
        "  threshold = img_threshold(vi_ary, 'otsu')\r\n",
        "  img_binary = vi_ary < threshold \r\n",
        "  img_binary = img_binary.reshape((img_binary.shape[0],img_binary.shape[1]))\r\n",
        "  img_binary = np.concatenate(img_binary,0)\r\n",
        " # img_binary = img_binary.reshape((img_binary.shape[0],-1))\r\n",
        "  img_binary.shape\r\n"
      ],
      "execution_count": null,
      "outputs": []
    },
    {
      "cell_type": "code",
      "metadata": {
        "id": "319TIYn_LvEr"
      },
      "source": [
        "img_binary[:10,0]"
      ],
      "execution_count": null,
      "outputs": []
    },
    {
      "cell_type": "code",
      "metadata": {
        "id": "l3aka7DhL_Zu"
      },
      "source": [
        "vis[img_binary]=np.nan"
      ],
      "execution_count": null,
      "outputs": []
    },
    {
      "cell_type": "code",
      "metadata": {
        "id": "Ic6fnVYsK1rz"
      },
      "source": [
        "vis.shape"
      ],
      "execution_count": null,
      "outputs": []
    },
    {
      "cell_type": "markdown",
      "metadata": {
        "id": "eJeChhuRJrfg"
      },
      "source": [
        "### Calculate vegetation index"
      ]
    },
    {
      "cell_type": "code",
      "metadata": {
        "id": "Kt2NDUqPEfAa"
      },
      "source": [
        "def cal_vis(img):\r\n",
        "  img_ary = tif2ary(img)\r\n",
        "\r\n",
        "  r = img_ary[:,:,0]\r\n",
        "  g = img_ary[:,:,1]\r\n",
        "  b = img_ary[:,:,2]\r\n",
        "  nir = img_ary[:,:,6]\r\n",
        "  reg = img_ary[:,:,7]\r\n",
        "\r\n",
        "  r2 = r.reshape((r.shape[0]*r.shape[1],-1))\r\n",
        "  g2 = g.reshape((g.shape[0]*g.shape[1],-1))\r\n",
        "  b2 = b.reshape((b.shape[0]*b.shape[1],-1))\r\n",
        "  nir2 = nir.reshape((nir.shape[0]*nir.shape[1],-1))\r\n",
        "  reg2 = reg.reshape((reg.shape[0]*reg.shape[1],-1))\r\n",
        "\r\n",
        "  nv = (nir2-r2)/(nir2+r2)\r\n",
        "  sr = nir2/r2\r\n",
        "  osavi = 1.16*(nir2-r2)/(nir2+r2+0.16)\r\n",
        "  gi = g2/r2\r\n",
        "  nri = (g2-r2)/(g2+r2)\r\n",
        "  \r\n",
        "  arys= np.concatenate((nv,sr,osavi,gi,nri),axis=1)\r\n",
        "  return(arys)"
      ],
      "execution_count": null,
      "outputs": []
    },
    {
      "cell_type": "code",
      "metadata": {
        "id": "QTS5caXzF1Tq"
      },
      "source": [
        "r = img_ary[:,:,0]\r\n",
        "g = img_ary[:,:,1]\r\n",
        "b = img_ary[:,:,2]\r\n",
        "nir = img_ary[:,:,6]\r\n",
        "reg = img_ary[:,:,7]\r\n",
        "\r\n",
        "r2 = r.reshape((r.shape[0]*r.shape[1],-1))\r\n",
        "g2 = g.reshape((g.shape[0]*g.shape[1],-1))\r\n",
        "b2 = b.reshape((b.shape[0]*b.shape[1],-1))\r\n",
        "nir2 = nir.reshape((nir.shape[0]*nir.shape[1],-1))\r\n",
        "reg2 = reg.reshape((reg.shape[0]*reg.shape[1],-1))\r\n"
      ],
      "execution_count": null,
      "outputs": []
    },
    {
      "cell_type": "code",
      "metadata": {
        "id": "QNVJvdh_F_iZ"
      },
      "source": [
        "print(r.shape)\r\n",
        "print(r2.shape)"
      ],
      "execution_count": null,
      "outputs": []
    },
    {
      "cell_type": "code",
      "metadata": {
        "id": "seG2Fr0TGI_h"
      },
      "source": [
        "nv = (nir2-r2)/(nir2+r2)\r\n",
        "sr = nir2/r2\r\n",
        "osavi = 1.16*(nir2-r2)/(nir2+r2+0.16)"
      ],
      "execution_count": null,
      "outputs": []
    },
    {
      "cell_type": "code",
      "metadata": {
        "id": "P3AlFhVbHdGB"
      },
      "source": [
        "arys= np.concatenate((nv,sr,osavi),axis=1)\r\n",
        "arys.shape\r\n"
      ],
      "execution_count": null,
      "outputs": []
    },
    {
      "cell_type": "code",
      "metadata": {
        "id": "4rQx_iPgGMxR"
      },
      "source": [
        "nv.shape"
      ],
      "execution_count": null,
      "outputs": []
    },
    {
      "cell_type": "markdown",
      "metadata": {
        "id": "_4nPHRffI8vH"
      },
      "source": [
        "# List images"
      ]
    },
    {
      "cell_type": "code",
      "metadata": {
        "id": "Pdn_ZWQJQCw1"
      },
      "source": [
        "os.getcwd()"
      ],
      "execution_count": null,
      "outputs": []
    },
    {
      "cell_type": "code",
      "metadata": {
        "id": "vPn8UL3KQEId"
      },
      "source": [
        "os.chdir('/content/drive/My Drive/UMN_Research/Data/wsr/image_200_bb45')"
      ],
      "execution_count": null,
      "outputs": []
    },
    {
      "cell_type": "code",
      "metadata": {
        "id": "pFk-BdZLRzdX"
      },
      "source": [
        "tifs = glob.glob(\"*.tif\")\r\n",
        "print((\"Number of tifs is {}\".format(len(tifs))))\r\n",
        "tifs[:5]"
      ],
      "execution_count": null,
      "outputs": []
    },
    {
      "cell_type": "code",
      "metadata": {
        "id": "PZSreaInUf6c"
      },
      "source": [
        "vis = glob.glob(\"./MCARI2/*.tif\")\r\n",
        "print(\"Number of VI is {}\".format(len(vis)))\r\n",
        "vis[:10]"
      ],
      "execution_count": null,
      "outputs": []
    },
    {
      "cell_type": "markdown",
      "metadata": {
        "id": "r5nK8Dkm5NAe"
      },
      "source": [
        "# Extract mean and variance for each band "
      ]
    },
    {
      "cell_type": "code",
      "metadata": {
        "id": "sKNcsMTWmtQR"
      },
      "source": [
        "fea = None\r\n",
        "\r\n",
        "for i in range(len(tifs)):\r\n",
        "\r\n",
        "  mlp = tifs[i]\r\n",
        "  vi = './MCARI2/' + mlp\r\n",
        "\r\n",
        "  dt = img_stats(mlp, vi)\r\n",
        "  dt = np.asarray(dt)\r\n",
        "  dt = dt.reshape((16,-1))\r\n",
        "\r\n",
        "  if fea is None:\r\n",
        "    fea = dt\r\n",
        "  else:\r\n",
        "    fea = np.concatenate((fea, dt),axis=1)"
      ],
      "execution_count": null,
      "outputs": []
    },
    {
      "cell_type": "markdown",
      "metadata": {
        "id": "fsQrHUQoJA4s"
      },
      "source": [
        "# Extract mean and variance from vegetation index"
      ]
    },
    {
      "cell_type": "code",
      "metadata": {
        "id": "fISq3PW2JGse"
      },
      "source": [
        "fea = None\r\n",
        "\r\n",
        "for i in range(len(tifs)):\r\n",
        "\r\n",
        "  mlp = tifs[i]\r\n",
        "  vi = './MCARI2/' + mlp\r\n",
        "  vis = cal_vis(mlp)\r\n",
        "\r\n",
        "  dt = vis_stats(vis, vi)\r\n",
        "  dt = np.asarray(dt)\r\n",
        "  dt = dt.reshape((10,-1))\r\n",
        "\r\n",
        "  if fea is None:\r\n",
        "    fea = dt\r\n",
        "  else:\r\n",
        "    fea = np.concatenate((fea, dt),axis=1)"
      ],
      "execution_count": null,
      "outputs": []
    },
    {
      "cell_type": "code",
      "metadata": {
        "id": "Guxeru-4vpj5"
      },
      "source": [
        "fea.shape"
      ],
      "execution_count": null,
      "outputs": []
    },
    {
      "cell_type": "code",
      "metadata": {
        "id": "mG6MbRWRx1vw"
      },
      "source": [
        "fea2 = np.transpose(fea)\r\n",
        "fea2.shape"
      ],
      "execution_count": null,
      "outputs": []
    },
    {
      "cell_type": "code",
      "metadata": {
        "id": "XI9ZU8dtyLyC"
      },
      "source": [
        "fea_df = pd.DataFrame(fea2)\r\n",
        "print(fea_df.shape)\r\n",
        "fea_df.head"
      ],
      "execution_count": null,
      "outputs": []
    },
    {
      "cell_type": "markdown",
      "metadata": {
        "id": "94p-nr-l5nBG"
      },
      "source": [
        "# Get image ID"
      ]
    },
    {
      "cell_type": "code",
      "metadata": {
        "id": "AYqsXEgpyjqU"
      },
      "source": [
        "tifs[:10]"
      ],
      "execution_count": null,
      "outputs": []
    },
    {
      "cell_type": "code",
      "metadata": {
        "id": "zaDchwXWyuu5"
      },
      "source": [
        "nms=[]\r\n",
        "\r\n",
        "[nms.append(txt.split(\"_\")[4]) for txt in tifs]"
      ],
      "execution_count": null,
      "outputs": []
    },
    {
      "cell_type": "code",
      "metadata": {
        "id": "BHOLbE453y3X"
      },
      "source": [
        "print(len(nms))\r\n",
        "nms[:5]"
      ],
      "execution_count": null,
      "outputs": []
    },
    {
      "cell_type": "code",
      "metadata": {
        "id": "J2z-8kuq4YgH"
      },
      "source": [
        "nms2 = np.asarray(nms)\r\n",
        "nms2 = nms2.reshape((len(nms),-1))\r\n",
        "nms_df = pd.DataFrame(nms2)\r\n",
        "print(nms2.shape)\r\n",
        "print(nms_df.shape)"
      ],
      "execution_count": null,
      "outputs": []
    },
    {
      "cell_type": "code",
      "metadata": {
        "id": "5JX5QDLq4pCX"
      },
      "source": [
        "fea_df['ply_ID']=nms_df"
      ],
      "execution_count": null,
      "outputs": []
    },
    {
      "cell_type": "code",
      "metadata": {
        "id": "IZWzxKPG45VY"
      },
      "source": [
        "fea_df.shape"
      ],
      "execution_count": null,
      "outputs": []
    },
    {
      "cell_type": "code",
      "metadata": {
        "id": "jKSFspuoMziM"
      },
      "source": [
        "fea_df.head(5)"
      ],
      "execution_count": null,
      "outputs": []
    },
    {
      "cell_type": "markdown",
      "metadata": {
        "id": "6r7DypP346xi"
      },
      "source": [
        "# Write data"
      ]
    },
    {
      "cell_type": "code",
      "metadata": {
        "id": "GYMZNTTs6AO9"
      },
      "source": [
        "#fea_df.to_csv(\"/BandStats.csv\", index=False)"
      ],
      "execution_count": null,
      "outputs": []
    },
    {
      "cell_type": "code",
      "metadata": {
        "id": "4WytLxssMr9K"
      },
      "source": [
        "fea_df.to_csv(\"/VIsStats.csv\", index=False)"
      ],
      "execution_count": null,
      "outputs": []
    }
  ]
}