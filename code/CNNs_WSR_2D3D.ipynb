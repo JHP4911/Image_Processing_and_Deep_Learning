{
  "nbformat": 4,
  "nbformat_minor": 0,
  "metadata": {
    "colab": {
      "name": "CNNs_WSR_2D3D.ipynb",
      "provenance": [],
      "collapsed_sections": [],
      "toc_visible": true,
      "authorship_tag": "ABX9TyObWLCsz+TNwUP+1GNu0obM",
      "include_colab_link": true
    },
    "kernelspec": {
      "display_name": "Python 3",
      "name": "python3"
    }
  },
  "cells": [
    {
      "cell_type": "markdown",
      "metadata": {
        "id": "view-in-github",
        "colab_type": "text"
      },
      "source": [
        "<a href=\"https://colab.research.google.com/github/wanwanliang/Image_Processing_and_Deep_Learning/blob/master/code/CNNs_WSR_2D3D.ipynb\" target=\"_parent\"><img src=\"https://colab.research.google.com/assets/colab-badge.svg\" alt=\"Open In Colab\"/></a>"
      ]
    },
    {
      "cell_type": "markdown",
      "metadata": {
        "id": "iyl3CltvCfs2"
      },
      "source": [
        " # Prepare data"
      ]
    },
    {
      "cell_type": "markdown",
      "metadata": {
        "id": "JSdCgBoYMLLQ"
      },
      "source": [
        "## install and load packages"
      ]
    },
    {
      "cell_type": "code",
      "metadata": {
        "id": "5WG8EjJGMOsY"
      },
      "source": [
        "# !pip install geopandas\r\n",
        "# !pip install rasterio"
      ],
      "execution_count": null,
      "outputs": []
    },
    {
      "cell_type": "code",
      "metadata": {
        "id": "S9TQTCuTZUUp"
      },
      "source": [
        "# import rasterio as rio\r\n",
        "# import geopandas as gpd\r\n",
        "import pandas as pd\r\n",
        "import numpy as np\r\n",
        "import os\r\n",
        "import sklearn\r\n",
        "import tensorflow as tf\r\n",
        "%matplotlib inline\r\n",
        "import matplotlib.pyplot as plt\r\n",
        "import google.colab\r\n",
        "from google.colab import drive\r\n",
        "import glob"
      ],
      "execution_count": 1,
      "outputs": []
    },
    {
      "cell_type": "code",
      "metadata": {
        "id": "l22oxr9Ob9jr",
        "colab": {
          "base_uri": "https://localhost:8080/"
        },
        "outputId": "0f485a47-aec1-429e-88a5-6ad61f8319ae"
      },
      "source": [
        "drive.mount('/content/drive')"
      ],
      "execution_count": 2,
      "outputs": [
        {
          "output_type": "stream",
          "text": [
            "Mounted at /content/drive\n"
          ],
          "name": "stdout"
        }
      ]
    },
    {
      "cell_type": "code",
      "metadata": {
        "id": "cHN7tNPAcQ48"
      },
      "source": [
        "os.chdir(\"/content/drive/My Drive/UMN_Research/Data/wsr/image_200_bb45\")"
      ],
      "execution_count": 3,
      "outputs": []
    },
    {
      "cell_type": "code",
      "metadata": {
        "id": "SwLA-kmZVjX9"
      },
      "source": [
        "from keras.layers import Input, Conv2D, Activation, BatchNormalization, GlobalAveragePooling2D, Dense, Dropout, AveragePooling2D, Flatten, ZeroPadding2D, MaxPooling2D, Add\r\n",
        "from keras.activations import relu, softmax\r\n",
        "from keras.models import Model\r\n",
        "from keras import regularizers, initializers"
      ],
      "execution_count": 4,
      "outputs": []
    },
    {
      "cell_type": "code",
      "metadata": {
        "id": "tD2REYQNbMD1"
      },
      "source": [
        "from sklearn.preprocessing import OneHotEncoder\r\n",
        "from sklearn.model_selection import train_test_split"
      ],
      "execution_count": 5,
      "outputs": []
    },
    {
      "cell_type": "markdown",
      "metadata": {
        "id": "v4KKx_4Ig6OH"
      },
      "source": [
        "# Design 3D ResNet"
      ]
    },
    {
      "cell_type": "markdown",
      "metadata": {
        "id": "5TgMmt-3hNju"
      },
      "source": [
        "## Define identity block"
      ]
    },
    {
      "cell_type": "code",
      "metadata": {
        "id": "QzPEOkoMhVwC"
      },
      "source": [
        "def identity_block3D(X,f,filters, stage, block):\r\n",
        "\r\n",
        "  # defining name basis\r\n",
        "  conv_name_base = 'res' + str(stage) + block + \"_branch\"\r\n",
        "  bn_name_base = 'bn' + str(stage) + block + \"_branch\"\r\n",
        "\r\n",
        "  F1, F2, F3 = filters\r\n",
        "\r\n",
        "  X_shortcut = X\r\n",
        "\r\n",
        "  # first component of main path\r\n",
        "  X = Conv3D(filters=F1, kernel_size=(1,1,1), strides=(1,1,1), padding='valid', name = conv_name_base + '2a', kernel_initializer=initializers.glorot_uniform(seed=0))(X)\r\n",
        "  X = BatchNormalization(axis=3, name=bn_name_base + '2a')(X)\r\n",
        "  X = Activation('relu')(X)\r\n",
        "\r\n",
        "  # second component of main path\r\n",
        "  X = Conv3D(filters=F2, kernel_size=(f,f,2), strides=(1,1,1), padding='same', name=conv_name_base + '2b', kernel_initializer=initializers.glorot_uniform(seed=0))(X)\r\n",
        "  X = BatchNormalization(axis = 3, name=bn_name_base + '2b')(X)\r\n",
        "  X =  Activation('relu')(X)\r\n",
        "\r\n",
        "  # third component of main path\r\n",
        "  X = Conv3D(filters = F3, kernel_size = (1, 1, 1), strides = (1,1,1), padding = 'valid', name = conv_name_base + '2c', kernel_initializer = initializers.glorot_uniform(seed=0))(X)\r\n",
        "  X = BatchNormalization(axis = 3, name = bn_name_base + '2c')(X)\r\n",
        "\r\n",
        "  # final step\r\n",
        "  X = Add()([X, X_shortcut])\r\n",
        "  X = Activation('relu')(X)\r\n",
        "\r\n",
        "  return X"
      ],
      "execution_count": null,
      "outputs": []
    },
    {
      "cell_type": "markdown",
      "metadata": {
        "id": "BVnv7ZglhYOX"
      },
      "source": [
        "## Define convoltion block"
      ]
    },
    {
      "cell_type": "code",
      "metadata": {
        "id": "VjBFAA6StwdD"
      },
      "source": [
        "def convolutional_block3D(X, f, filters, stage, block, s=2):\r\n",
        "\r\n",
        "  # defining name basis\r\n",
        "  conv_name_base = 'res' + str(stage) + block + \"_branch\"\r\n",
        "  bn_name_base = 'bn' + str(stage) + block + \"_branch\"\r\n",
        "\r\n",
        "  # Retrieve Filters\r\n",
        "  F1, F2, F3 = filters\r\n",
        "\r\n",
        "  X_shortcut = X\r\n",
        "\r\n",
        "  # First component of main path \r\n",
        "  X = Conv3D(F1, (1,1,1), strides = (s,s,1), name= conv_name_base + \"2a\", kernel_initializer= initializers.glorot_uniform(seed=0))(X)\r\n",
        "  X = BatchNormalization(axis=3, name=bn_name_base + '2a')(X)\r\n",
        "  X = Activation('relu')(X)\r\n",
        "\r\n",
        "  # Second component of main path \r\n",
        "  X = Conv3D(filters= F2, kernel_size=(f,f,2), strides=(1,1,1), padding='same', name=conv_name_base + '2b', kernel_initializer= initializers.glorot_uniform(seed=0))(X)\r\n",
        "  X = BatchNormalization(axis=3, name=bn_name_base + '2b')(X)\r\n",
        "  X = Activation('relu')(X)\r\n",
        "\r\n",
        "  # Third component of main path \r\n",
        "  X = Conv3D(filters = F3, kernel_size=(1,1,1), strides=(1,1,1), padding='valid', name=conv_name_base + '2c', kernel_initializer=initializers.glorot_uniform(seed=0))(X)\r\n",
        "  X = BatchNormalization(axis = 3, name = bn_name_base + '2c')(X)\r\n",
        "\r\n",
        "  ##### SHORTCUT PATH #### \r\n",
        "  X_shortcut =  Conv3D(F3, (1, 1,1), strides = (s,s,1), name = conv_name_base + '1', kernel_initializer = initializers.glorot_uniform(seed=0))(X_shortcut)\r\n",
        "  X_shortcut = BatchNormalization(axis = 3, name = bn_name_base + '1')(X_shortcut)\r\n",
        "\r\n",
        "  # Final step: Add shortcut value to main path, and pass it through a RELU activation \r\n",
        "  X = Add()([X, X_shortcut])\r\n",
        "  X = Activation('relu')(X)\r\n",
        "\r\n",
        "  return X"
      ],
      "execution_count": null,
      "outputs": []
    },
    {
      "cell_type": "markdown",
      "metadata": {
        "id": "HXWv0f9PvW3v"
      },
      "source": [
        "## Define ResNet50"
      ]
    },
    {
      "cell_type": "code",
      "metadata": {
        "id": "Z0KJGoKwvdd3"
      },
      "source": [
        "def ResNet50_3D(input_shape = (64, 64, 5,1), classes=2):\r\n",
        "\r\n",
        "  X_input = Input(input_shape)\r\n",
        "\r\n",
        "  X = ZeroPadding3D((3,3,3))(X_input)\r\n",
        "\r\n",
        "  # stage 1 \r\n",
        "  X = Conv3D(64, (3,3,3), strides=(2,2,1), name='conv1', kernel_initializer=initializers.glorot_uniform(seed=0))(X)\r\n",
        "  X = BatchNormalization(axis=3, name='bn_conv1')(X)\r\n",
        "  X = Activation('relu')(X)\r\n",
        "  X = MaxPooling3D((3,3,1), strides=(2,2,1), padding='same')(X)\r\n",
        "  \r\n",
        "  # stage 2\r\n",
        "  X = convolutional_block3D(X, f=3, filters=[64, 64, 256], stage=2, block='a', s=1)\r\n",
        "  X = identity_block3D(X, 3, [64,64,256], stage=2, block='b')\r\n",
        "  X = identity_block3D(X, 3, [64,64,256], stage=2, block='c')\r\n",
        "\r\n",
        "  # stage 3\r\n",
        "  X = convolutional_block3D(X, f=3, filters=[128, 128, 512], stage=3, block='a', s=2)\r\n",
        "  X = identity_block3D(X, 3, [128, 128, 512], stage=3, block='b')\r\n",
        "  X = identity_block3D(X, 3, [128,128,512], stage=3, block='c')\r\n",
        "  X = identity_block3D(X, 3, [128,128,512], stage=3, block='d')\r\n",
        "\r\n",
        "  # stage 4\r\n",
        "  X = convolutional_block3D(X, f=3, filters=[256,256,1024], stage=4, block='a', s=2)\r\n",
        "  X = identity_block3D(X, 3, [256, 256, 1024], stage=4, block='b')\r\n",
        "  X = identity_block3D(X, 3, [256, 256, 1024], stage=4, block='c')\r\n",
        "  X = identity_block3D(X, 3, [256, 256, 1024], stage=4, block='d')\r\n",
        "  X = identity_block3D(X, 3, [256, 256, 1024], stage=4, block='e')\r\n",
        "  X = identity_block3D(X, 3, [256, 256, 1024], stage=4, block='f')\r\n",
        "\r\n",
        "  # stage 5\r\n",
        "  X = convolutional_block3D(X, f = 3, filters = [512, 512, 2048], stage = 5, block='a', s = 2)\r\n",
        "  X = identity_block3D(X, 3, [512,512, 2048], stage=5, block='b')\r\n",
        "  X = identity_block3D(X, 3, [512, 512, 2048], stage=5, block='c')\r\n",
        "\r\n",
        "  # averge pooling\r\n",
        "  X = AveragePooling3D(name='avg_pool', padding='same')(X)\r\n",
        "\r\n",
        "  # output layer\r\n",
        "  X = Flatten()(X)\r\n",
        "  X = Dense(classes, activation='softmax', name='fc' + str(classes), kernel_initializer= initializers.glorot_uniform(seed=0))(X)\r\n",
        "\r\n",
        "  # create model\r\n",
        "  model = Model(inputs = X_input, outputs= X, name='ResNet50')\r\n",
        "\r\n",
        "  return model"
      ],
      "execution_count": null,
      "outputs": []
    },
    {
      "cell_type": "markdown",
      "metadata": {
        "id": "aE_z0c28FWxg"
      },
      "source": [
        "##Define ResNet26"
      ]
    },
    {
      "cell_type": "code",
      "metadata": {
        "id": "SDQFHsYzFbOy"
      },
      "source": [
        "def ResNet26_3D(input_shape = (64, 64, 5,1), classes=2):\r\n",
        "\r\n",
        "  X_input = Input(input_shape)\r\n",
        "\r\n",
        "  X = ZeroPadding3D((3,3,3))(X_input)\r\n",
        "\r\n",
        "  # stage 1 \r\n",
        "  X = Conv3D(64, (3,3,3), strides=(2,2,1), name='conv1', kernel_initializer=initializers.glorot_uniform(seed=0))(X)\r\n",
        "  X = BatchNormalization(axis=3, name='bn_conv1')(X)\r\n",
        "  X = Activation('relu')(X)\r\n",
        "  X = MaxPooling3D((3,3,1), strides=(2,2,1), padding='same')(X)\r\n",
        "  \r\n",
        "  # stage 2\r\n",
        "  X = convolutional_block3D(X, f=3, filters=[64, 64, 256], stage=2, block='a', s=1)\r\n",
        "  X = identity_block3D(X, 3, [64,64,256], stage=2, block='b')\r\n",
        " \r\n",
        "\r\n",
        "  # stage 3\r\n",
        "  X = convolutional_block3D(X, f=3, filters=[128, 128, 512], stage=3, block='a', s=2)\r\n",
        "  X = identity_block3D(X, 3, [128, 128, 512], stage=3, block='b')\r\n",
        "\r\n",
        "\r\n",
        "  # stage 4\r\n",
        "  X = convolutional_block3D(X, f=3, filters=[256,256,1024], stage=4, block='a', s=2)\r\n",
        "  X = identity_block3D(X, 3, [256, 256, 1024], stage=4, block='b')\r\n",
        " \r\n",
        "\r\n",
        "  # stage 5\r\n",
        "  X = convolutional_block3D(X, f = 3, filters = [512, 512, 2048], stage = 5, block='a', s = 2)\r\n",
        "  X = identity_block3D(X, 3, [512,512, 2048], stage=5, block='b')\r\n",
        " \r\n",
        "\r\n",
        "  # averge pooling\r\n",
        "  X = AveragePooling3D(name='avg_pool', padding='same')(X)\r\n",
        "\r\n",
        "  # output layer\r\n",
        "  X = Flatten()(X)\r\n",
        "  X = Dense(classes, activation='softmax', name='fc' + str(classes), kernel_initializer= initializers.glorot_uniform(seed=0))(X)\r\n",
        "\r\n",
        "  # create model\r\n",
        "  model = Model(inputs = X_input, outputs= X, name='ResNet50')\r\n",
        "\r\n",
        "  return model"
      ],
      "execution_count": null,
      "outputs": []
    },
    {
      "cell_type": "markdown",
      "metadata": {
        "id": "W8HMKKHtx1aL"
      },
      "source": [
        "## Define ResNet14"
      ]
    },
    {
      "cell_type": "code",
      "metadata": {
        "id": "5G67XFiIx5Zk"
      },
      "source": [
        "def ResNet14_3D(input_shape = (64, 64, 5,1), classes=2):\r\n",
        "\r\n",
        "  X_input = Input(input_shape)\r\n",
        "\r\n",
        "  X = ZeroPadding3D((3,3,3))(X_input)\r\n",
        "\r\n",
        "  # stage 1 \r\n",
        "  X = Conv3D(64, (3,3,3), strides=(2,2,1), name='conv1', kernel_initializer=initializers.glorot_uniform(seed=0))(X)\r\n",
        "  X = BatchNormalization(axis=3, name='bn_conv1')(X)\r\n",
        "  X = Activation('relu')(X)\r\n",
        "  X = MaxPooling3D((3,3,1), strides=(2,2,1), padding='same')(X)\r\n",
        "  \r\n",
        "  # stage 2\r\n",
        "  X = convolutional_block3D(X, f=3, filters=[64, 64, 256], stage=2, block='a', s=1)\r\n",
        "\r\n",
        " \r\n",
        "\r\n",
        "  # stage 3\r\n",
        "  X = convolutional_block3D(X, f=3, filters=[128, 128, 512], stage=3, block='a', s=2)\r\n",
        "\r\n",
        "\r\n",
        "  # stage 4\r\n",
        "  X = convolutional_block3D(X, f=3, filters=[256,256,1024], stage=4, block='a', s=2)\r\n",
        "\r\n",
        " \r\n",
        "\r\n",
        "  # stage 5\r\n",
        "  X = convolutional_block3D(X, f = 3, filters = [512, 512, 2048], stage = 5, block='a', s = 2)\r\n",
        "\r\n",
        " \r\n",
        "\r\n",
        "  # averge pooling\r\n",
        "  X = AveragePooling3D(name='avg_pool', padding='same')(X)\r\n",
        "\r\n",
        "  # output layer\r\n",
        "  X = Flatten()(X)\r\n",
        "  X = Dense(classes, activation='softmax', name='fc' + str(classes), kernel_initializer= initializers.glorot_uniform(seed=0))(X)\r\n",
        "\r\n",
        "  # create model\r\n",
        "  model = Model(inputs = X_input, outputs= X, name='ResNet50')\r\n",
        "\r\n",
        "  return model"
      ],
      "execution_count": null,
      "outputs": []
    },
    {
      "cell_type": "markdown",
      "metadata": {
        "id": "SxAHVhc3D-f-"
      },
      "source": [
        "# Design 2D ResNet"
      ]
    },
    {
      "cell_type": "markdown",
      "metadata": {
        "id": "SPxsT_w6EJGd"
      },
      "source": [
        "### Define identity block"
      ]
    },
    {
      "cell_type": "code",
      "metadata": {
        "id": "DlAj9gLpb47d"
      },
      "source": [
        "def identity_block(X,f,filters, stage, block):\r\n",
        "\r\n",
        "  # defining name basis\r\n",
        "  conv_name_base = 'res' + str(stage) + block + \"_branch\"\r\n",
        "  bn_name_base = 'bn' + str(stage) + block + \"_branch\"\r\n",
        "\r\n",
        "  F1, F2, F3 = filters\r\n",
        "\r\n",
        "  X_shortcut = X\r\n",
        "\r\n",
        "  # first component of main path\r\n",
        "  X = Conv2D(filters=F1, kernel_size=(1,1), strides=(1,1), padding='valid', name = conv_name_base + '2a', kernel_initializer=initializers.glorot_uniform(seed=0))(X)\r\n",
        "  X = BatchNormalization(axis=3, name=bn_name_base + '2a')(X)\r\n",
        "  X = Activation('relu')(X)\r\n",
        "\r\n",
        "  # second component of main path\r\n",
        "  X = Conv2D(filters=F2, kernel_size=(f,f), strides=(1,1), padding='same', name=conv_name_base + '2b', kernel_initializer=initializers.glorot_uniform(seed=0))(X)\r\n",
        "  X = BatchNormalization(axis = 3, name=bn_name_base + '2b')(X)\r\n",
        "  X =  Activation('relu')(X)\r\n",
        "\r\n",
        "  # third component of main path\r\n",
        "  X = Conv2D(filters = F3, kernel_size = (1, 1), strides = (1,1), padding = 'valid', name = conv_name_base + '2c', kernel_initializer = initializers.glorot_uniform(seed=0))(X)\r\n",
        "  X = BatchNormalization(axis = 3, name = bn_name_base + '2c')(X)\r\n",
        "\r\n",
        "  # final step\r\n",
        "  X = Add()([X, X_shortcut])\r\n",
        "  X = Activation('relu')(X)\r\n",
        "\r\n",
        "  return X"
      ],
      "execution_count": null,
      "outputs": []
    },
    {
      "cell_type": "markdown",
      "metadata": {
        "id": "wYDorHqQEOp8"
      },
      "source": [
        "### Define convolutional block"
      ]
    },
    {
      "cell_type": "code",
      "metadata": {
        "id": "ZATMgxPM5v7F"
      },
      "source": [
        "def convolutional_block(X, f, filters, stage, block, s=2):\r\n",
        "\r\n",
        "  # defining name basis\r\n",
        "  conv_name_base = 'res' + str(stage) + block + \"_branch\"\r\n",
        "  bn_name_base = 'bn' + str(stage) + block + \"_branch\"\r\n",
        "\r\n",
        "  # Retrieve Filters\r\n",
        "  F1, F2, F3 = filters\r\n",
        "\r\n",
        "  X_shortcut = X\r\n",
        "\r\n",
        "  # First component of main path \r\n",
        "  X = Conv2D(F1, (1,1), strides = (s,s), name= conv_name_base + \"2a\", kernel_initializer= initializers.glorot_uniform(seed=0))(X)\r\n",
        "  X = BatchNormalization(axis=3, name=bn_name_base + '2a')(X)\r\n",
        "  X = Activation('relu')(X)\r\n",
        "\r\n",
        "  # Second component of main path \r\n",
        "  X = Conv2D(filters= F2, kernel_size=(f,f), strides=(1,1), padding='same', name=conv_name_base + '2b', kernel_initializer= initializers.glorot_uniform(seed=0))(X)\r\n",
        "  X = BatchNormalization(axis=3, name=bn_name_base + '2b')(X)\r\n",
        "  X = Activation('relu')(X)\r\n",
        "\r\n",
        "  # Third component of main path \r\n",
        "  X = Conv2D(filters = F3, kernel_size=(1,1), strides=(1,1), padding='valid', name=conv_name_base + '2c', kernel_initializer=initializers.glorot_uniform(seed=0))(X)\r\n",
        "  X = BatchNormalization(axis = 3, name = bn_name_base + '2c')(X)\r\n",
        "\r\n",
        "  ##### SHORTCUT PATH #### \r\n",
        "  X_shortcut =  Conv2D(F3, (1, 1), strides = (s,s), name = conv_name_base + '1', kernel_initializer = initializers.glorot_uniform(seed=0))(X_shortcut)\r\n",
        "  X_shortcut = BatchNormalization(axis = 3, name = bn_name_base + '1')(X_shortcut)\r\n",
        "\r\n",
        "  # Final step: Add shortcut value to main path, and pass it through a RELU activation \r\n",
        "  X = Add()([X, X_shortcut])\r\n",
        "  X = Activation('relu')(X)\r\n",
        "\r\n",
        "  return X"
      ],
      "execution_count": null,
      "outputs": []
    },
    {
      "cell_type": "markdown",
      "metadata": {
        "id": "f8YI3pSh7l0q"
      },
      "source": [
        "### ResNet101"
      ]
    },
    {
      "cell_type": "code",
      "metadata": {
        "id": "AyHTw4ou6dla"
      },
      "source": [
        "def ResNet101(input_shape = (64, 64, 5), classes=2):\r\n",
        "\r\n",
        "  X_input = Input(input_shape)\r\n",
        "\r\n",
        "  X = ZeroPadding2D((3,3))(X_input)\r\n",
        "\r\n",
        "  # stage 1 \r\n",
        "  X = Conv2D(64, (3,3), strides=(2,2), name='conv1', kernel_initializer=initializers.glorot_uniform(seed=0))(X)\r\n",
        "  X = BatchNormalization(axis=3, name='bn_conv1')(X)\r\n",
        "  X = Activation('relu')(X)\r\n",
        "  X = MaxPooling2D((3,3), strides=(2,2), padding='same')(X)\r\n",
        "  \r\n",
        "  # stage 2\r\n",
        "  X = convolutional_block(X, f=3, filters=[64, 64, 256], stage=2, block='a', s=1)\r\n",
        "  X = identity_block(X, 3, [64,64,256], stage=2, block='b')\r\n",
        "  X = identity_block(X, 3, [64,64,256], stage=2, block='c')\r\n",
        "\r\n",
        "  # stage 3\r\n",
        "  X = convolutional_block(X, f=3, filters=[128, 128, 512], stage=3, block='a', s=2)\r\n",
        "  X = identity_block(X, 3, [128, 128, 512], stage=3, block='b')\r\n",
        "  X = identity_block(X, 3, [128,128,512], stage=3, block='c')\r\n",
        "  X = identity_block(X, 3, [128,128,512], stage=3, block='d')\r\n",
        "\r\n",
        "  # stage 4\r\n",
        "  X = convolutional_block(X, f=3, filters=[256,256,1024], stage=4, block='a', s=2)\r\n",
        "  X = identity_block(X, 3, [256, 256, 1024], stage=4, block='b')\r\n",
        "  X = identity_block(X, 3, [256, 256, 1024], stage=4, block='c')\r\n",
        "  X = identity_block(X, 3, [256, 256, 1024], stage=4, block='d')\r\n",
        "  X = identity_block(X, 3, [256, 256, 1024], stage=4, block='e')\r\n",
        "  X = identity_block(X, 3, [256, 256, 1024], stage=4, block='f')\r\n",
        "  X = identity_block(X, 3, [256, 256, 1024], stage=4, block='g')\r\n",
        "  X = identity_block(X, 3, [256, 256, 1024], stage=4, block='h')\r\n",
        "  X = identity_block(X, 3, [256, 256, 1024], stage=4, block='i')\r\n",
        "  X = identity_block(X, 3, [256, 256, 1024], stage=4, block='j')\r\n",
        "  X = identity_block(X, 3, [256, 256, 1024], stage=4, block='k')\r\n",
        "  X = identity_block(X, 3, [256, 256, 1024], stage=4, block='l')\r\n",
        "  X = identity_block(X, 3, [256, 256, 1024], stage=4, block='m')\r\n",
        "  X = identity_block(X, 3, [256, 256, 1024], stage=4, block='n')\r\n",
        "  X = identity_block(X, 3, [256, 256, 1024], stage=4, block='o')\r\n",
        "  X = identity_block(X, 3, [256, 256, 1024], stage=4, block='p')\r\n",
        "  X = identity_block(X, 3, [256, 256, 1024], stage=4, block='q')\r\n",
        "  X = identity_block(X, 3, [256, 256, 1024], stage=4, block='r')\r\n",
        "  X = identity_block(X, 3, [256, 256, 1024], stage=4, block='s')\r\n",
        "  X = identity_block(X, 3, [256, 256, 1024], stage=4, block='t')\r\n",
        "  X = identity_block(X, 3, [256, 256, 1024], stage=4, block='u')\r\n",
        "  X = identity_block(X, 3, [256, 256, 1024], stage=4, block='v')\r\n",
        "  X = identity_block(X, 3, [256, 256, 1024], stage=4, block='w')\r\n",
        "\r\n",
        "  # stage 5\r\n",
        "  X = convolutional_block(X, f = 3, filters = [512, 512, 2048], stage = 5, block='a', s = 2)\r\n",
        "  X = identity_block(X, 3, [512,512, 2048], stage=5, block='b')\r\n",
        "  X = identity_block(X, 3, [512, 512, 2048], stage=5, block='c')\r\n",
        "\r\n",
        "  # averge pooling\r\n",
        "  X = AveragePooling2D(name='avg_pool', padding='same')(X)\r\n",
        "\r\n",
        "  # output layer\r\n",
        "  X = Flatten()(X)\r\n",
        "  X = Dense(classes, activation='softmax', name='fc' + str(classes), kernel_initializer= initializers.glorot_uniform(seed=0))(X)\r\n",
        "\r\n",
        "  # create model\r\n",
        "  model = Model(inputs = X_input, outputs= X, name='ResNet50')\r\n",
        "\r\n",
        "  return model"
      ],
      "execution_count": null,
      "outputs": []
    },
    {
      "cell_type": "markdown",
      "metadata": {
        "id": "nqctzbGQiVv9"
      },
      "source": [
        "### ResNet50"
      ]
    },
    {
      "cell_type": "code",
      "metadata": {
        "id": "Q05vttJGLof1"
      },
      "source": [
        "def ResNet50(input_shape = (,64, 64, 5), classes=2):\r\n",
        "\r\n",
        "  X_input = Input(input_shape)\r\n",
        "\r\n",
        "  X = ZeroPadding2D((3,3))(X_input)\r\n",
        "\r\n",
        "  # stage 1 \r\n",
        "  X = Conv2D(64, (3,3), strides=(2,2), name='conv1', kernel_initializer=initializers.glorot_uniform(seed=0))(X)\r\n",
        "  X = BatchNormalization(axis=3, name='bn_conv1')(X)\r\n",
        "  X = Activation('relu')(X)\r\n",
        "  X = MaxPooling2D((3,3), strides=(2,2), padding='same')(X)\r\n",
        "  \r\n",
        "  # stage 2\r\n",
        "  X = convolutional_block(X, f=3, filters=[64, 64, 256], stage=2, block='a', s=1)\r\n",
        "  X = identity_block(X, 3, [64,64,256], stage=2, block='b')\r\n",
        "  X = identity_block(X, 3, [64,64,256], stage=2, block='c')\r\n",
        "\r\n",
        "  # stage 3\r\n",
        "  X = convolutional_block(X, f=3, filters=[128, 128, 512], stage=3, block='a', s=2)\r\n",
        "  X = identity_block(X, 3, [128, 128, 512], stage=3, block='b')\r\n",
        "  X = identity_block(X, 3, [128,128,512], stage=3, block='c')\r\n",
        "  X = identity_block(X, 3, [128,128,512], stage=3, block='d')\r\n",
        "\r\n",
        "  # stage 4\r\n",
        "  X = convolutional_block(X, f=3, filters=[256,256,1024], stage=4, block='a', s=2)\r\n",
        "  X = identity_block(X, 3, [256, 256, 1024], stage=4, block='b')\r\n",
        "  X = identity_block(X, 3, [256, 256, 1024], stage=4, block='c')\r\n",
        "  X = identity_block(X, 3, [256, 256, 1024], stage=4, block='d')\r\n",
        "  X = identity_block(X, 3, [256, 256, 1024], stage=4, block='e')\r\n",
        "  X = identity_block(X, 3, [256, 256, 1024], stage=4, block='f')\r\n",
        "\r\n",
        "  # stage 5\r\n",
        "  X = convolutional_block(X, f = 3, filters = [512, 512, 2048], stage = 5, block='a', s = 2)\r\n",
        "  X = identity_block(X, 3, [512,512, 2048], stage=5, block='b')\r\n",
        "  X = identity_block(X, 3, [512, 512, 2048], stage=5, block='c')\r\n",
        "\r\n",
        "  # averge pooling\r\n",
        "  X = AveragePooling2D(name='avg_pool', padding='same')(X)\r\n",
        "\r\n",
        "  # output layer\r\n",
        "  X = Flatten()(X)\r\n",
        "  X = Dense(classes, activation='softmax', name='fc' + str(classes), kernel_initializer= initializers.glorot_uniform(seed=0))(X)\r\n",
        "\r\n",
        "  # create model\r\n",
        "  model = Model(inputs = X_input, outputs= X, name='ResNet50')\r\n",
        "\r\n",
        "  return model"
      ],
      "execution_count": null,
      "outputs": []
    },
    {
      "cell_type": "markdown",
      "metadata": {
        "id": "3m8GfuU1VfZm"
      },
      "source": [
        "### ResNet26"
      ]
    },
    {
      "cell_type": "code",
      "metadata": {
        "id": "mGzO63s2o8Si"
      },
      "source": [
        "def ResNet26(input_shape = (64, 64, 5), classes=2):\r\n",
        "\r\n",
        "  X_input = Input(input_shape)\r\n",
        "\r\n",
        "  X = ZeroPadding2D((3,3))(X_input)\r\n",
        "\r\n",
        "  # stage 1 \r\n",
        "  X = Conv2D(64, (3,3), strides=(2,2), name='conv1', kernel_initializer=initializers.glorot_uniform(seed=0))(X)\r\n",
        "  X = BatchNormalization(axis=3, name='bn_conv1')(X)\r\n",
        "  X = Activation('relu')(X)\r\n",
        "  X = MaxPooling2D((3,3), strides=(1,1), padding='same')(X)\r\n",
        "  \r\n",
        "  # stage 2\r\n",
        "  X = convolutional_block(X, f=3, filters=[64, 64, 256], stage=2, block='a', s=1)\r\n",
        "  X = identity_block(X, 3, [64,64,256], stage=2, block='b')\r\n",
        "\r\n",
        "\r\n",
        "  # stage 3\r\n",
        "  X = convolutional_block(X, f=3, filters=[128, 128, 512], stage=3, block='a', s=2)\r\n",
        "  X = identity_block(X, 3, [128, 128, 512], stage=3, block='b')\r\n",
        "\r\n",
        "\r\n",
        "  # stage 4\r\n",
        "  X = convolutional_block(X, f=3, filters=[256,256,1024], stage=4, block='a', s=2)\r\n",
        "  X = identity_block(X, 3, [256, 256, 1024], stage=4, block='b')\r\n",
        "\r\n",
        "\r\n",
        "  # stage 5\r\n",
        "  X = convolutional_block(X, f = 3, filters = [512, 512, 2048], stage = 5, block='a', s = 2)\r\n",
        "  X = identity_block(X, 3, [512,512, 2048], stage=5, block='b')\r\n",
        "\r\n",
        "\r\n",
        "  # averge pooling\r\n",
        "  X = AveragePooling2D(name='avg_pool', padding='same')(X)\r\n",
        "\r\n",
        "  # output layer\r\n",
        "  X = Flatten()(X)\r\n",
        "  X = Dense(classes, activation='softmax', name='fc' + str(classes), kernel_initializer= initializers.glorot_uniform(seed=0))(X)\r\n",
        "\r\n",
        "  # create model\r\n",
        "  model = Model(inputs = X_input, outputs= X, name='ResNet50')\r\n",
        "\r\n",
        "  return model"
      ],
      "execution_count": null,
      "outputs": []
    },
    {
      "cell_type": "markdown",
      "metadata": {
        "id": "1VTFnV4npyNH"
      },
      "source": [
        "###ResNet14"
      ]
    },
    {
      "cell_type": "code",
      "metadata": {
        "id": "vcC9ORJqqFZy"
      },
      "source": [
        "def ResNet14(input_shape = (64, 64, 5), classes=2):\r\n",
        "\r\n",
        "  X_input = Input(input_shape)\r\n",
        "\r\n",
        "  X = ZeroPadding2D((3,3))(X_input)\r\n",
        "\r\n",
        "  # stage 1 \r\n",
        "  X = Conv2D(64, (3,3), strides=(2,2), name='conv1', kernel_initializer=initializers.glorot_uniform(seed=0))(X)\r\n",
        "  X = BatchNormalization(axis=3, name='bn_conv1')(X)\r\n",
        "  X = Activation('relu')(X)\r\n",
        "  X = MaxPooling2D((3,3), strides=(1,1), padding='same')(X)\r\n",
        "  \r\n",
        "  # stage 2\r\n",
        "  X = convolutional_block(X, f=3, filters=[64, 64, 256], stage=2, block='a', s=1)\r\n",
        "\r\n",
        "\r\n",
        "  # stage 3\r\n",
        "  X = convolutional_block(X, f=3, filters=[128, 128, 512], stage=3, block='a', s=2)\r\n",
        "\r\n",
        "\r\n",
        "  # stage 4\r\n",
        "  X = convolutional_block(X, f=3, filters=[256,256,1024], stage=4, block='a', s=2)\r\n",
        "\r\n",
        "\r\n",
        "  # stage 5\r\n",
        "  X = convolutional_block(X, f = 3, filters = [512, 512, 2048], stage = 5, block='a', s = 2)\r\n",
        "\r\n",
        "\r\n",
        "  # averge pooling\r\n",
        "  X = AveragePooling2D(name='avg_pool', padding='same')(X)\r\n",
        "\r\n",
        "  # output layer\r\n",
        "  X = Flatten()(X)\r\n",
        "  X = Dense(classes, activation='softmax', name='fc' + str(classes), kernel_initializer= initializers.glorot_uniform(seed=0))(X)\r\n",
        "\r\n",
        "  # create model\r\n",
        "  model = Model(inputs = X_input, outputs= X, name='ResNet50')\r\n",
        "\r\n",
        "  return model"
      ],
      "execution_count": null,
      "outputs": []
    },
    {
      "cell_type": "markdown",
      "metadata": {
        "id": "eLiZcXpqEoLP"
      },
      "source": [
        "# Load and prepare data"
      ]
    },
    {
      "cell_type": "code",
      "metadata": {
        "id": "YwhEVYRtwX22"
      },
      "source": [
        "os.chdir('/content/drive/Shared drives/WSR_data/Drone200ft/Multispectral_LargerPlotSize')"
      ],
      "execution_count": 8,
      "outputs": []
    },
    {
      "cell_type": "markdown",
      "metadata": {
        "id": "dAuj4axFP4DW"
      },
      "source": [
        "### list and order files"
      ]
    },
    {
      "cell_type": "code",
      "metadata": {
        "id": "6TU7jkQk7w82",
        "colab": {
          "base_uri": "https://localhost:8080/"
        },
        "outputId": "2c15970d-effe-4e8d-e100-94ab7afdf2e6"
      },
      "source": [
        "# import glob\r\n",
        "# t = glob.glob(\"*.tif\")\r\n",
        "# print(len(t))\r\n",
        "# t[:10]"
      ],
      "execution_count": null,
      "outputs": [
        {
          "output_type": "stream",
          "text": [
            "960\n"
          ],
          "name": "stdout"
        },
        {
          "output_type": "execute_result",
          "data": {
            "text/plain": [
              "['plot598.tif',\n",
              " 'plot482.tif',\n",
              " 'plot624.tif',\n",
              " 'plot574.tif',\n",
              " 'plot520.tif',\n",
              " 'plot560.tif',\n",
              " 'plot636.tif',\n",
              " 'plot501.tif',\n",
              " 'plot541.tif',\n",
              " 'plot587.tif']"
            ]
          },
          "metadata": {
            "tags": []
          },
          "execution_count": 29
        }
      ]
    },
    {
      "cell_type": "code",
      "metadata": {
        "id": "QDYiFUcgCW3K",
        "colab": {
          "base_uri": "https://localhost:8080/"
        },
        "outputId": "fb6ca844-1eba-4d63-b9a1-2328cac41bf6"
      },
      "source": [
        "# nbs = []\r\n",
        "# [nbs.append(int((td.split('plot')[1]).split('.')[0])) for td in t]\r\n",
        "# nbs[:10]"
      ],
      "execution_count": null,
      "outputs": [
        {
          "output_type": "execute_result",
          "data": {
            "text/plain": [
              "[598, 482, 624, 574, 520, 560, 636, 501, 541, 587]"
            ]
          },
          "metadata": {
            "tags": []
          },
          "execution_count": 30
        }
      ]
    },
    {
      "cell_type": "code",
      "metadata": {
        "id": "3lY8_rifFTOz"
      },
      "source": [
        "# all = zip(nbs, t)\r\n",
        "# sorted_all = sorted(all)"
      ],
      "execution_count": null,
      "outputs": []
    },
    {
      "cell_type": "code",
      "metadata": {
        "id": "lx-ZDCxzHkmj"
      },
      "source": [
        "# t_sorted = [x for y, x in sorted_all]\r\n",
        "# t_sorted[:10]"
      ],
      "execution_count": null,
      "outputs": []
    },
    {
      "cell_type": "markdown",
      "metadata": {
        "id": "9_wz-8zmPxt6"
      },
      "source": [
        "### load all images in one numpy array"
      ]
    },
    {
      "cell_type": "code",
      "metadata": {
        "id": "V3ul1tvPSb4e"
      },
      "source": [
        "def tif2ary(tif):\r\n",
        "\r\n",
        "  raA = rio.open(tif)\r\n",
        "  arys = raA.read()\r\n",
        "\r\n",
        "  arys= arys.astype('float32')\r\n",
        "  arys =np.moveaxis(arys, 0, -1)\r\n",
        "\r\n",
        "  \r\n",
        "  return(arys)"
      ],
      "execution_count": null,
      "outputs": []
    },
    {
      "cell_type": "code",
      "metadata": {
        "id": "xoAk0qKjTFgT"
      },
      "source": [
        "# dt = None\r\n",
        "\r\n",
        "# for tif in t_sorted:\r\n",
        "\r\n",
        "#   ary = tif2ary(tif)\r\n",
        "#   ary = ary[1:33, 1:33:,]\r\n",
        "\r\n",
        "#   # resize image array to 64*64\r\n",
        "#   ary = np.repeat(ary, 2, axis=1)\r\n",
        "#   ary = np.repeat(ary, 2, axis=0)\r\n",
        "\r\n",
        "#   ary = ary.reshape((1, 64, 64,5))\r\n",
        "\r\n",
        "#   if dt is None:\r\n",
        "#     dt = ary\r\n",
        "#   else:\r\n",
        "#     dt = np.concatenate((dt, ary), axis=0)"
      ],
      "execution_count": null,
      "outputs": []
    },
    {
      "cell_type": "code",
      "metadata": {
        "id": "VyCIN_OrVBfY",
        "colab": {
          "base_uri": "https://localhost:8080/"
        },
        "outputId": "021e9488-e920-422c-bb19-956687436afc"
      },
      "source": [
        "# dt.shape"
      ],
      "execution_count": null,
      "outputs": [
        {
          "output_type": "execute_result",
          "data": {
            "text/plain": [
              "(960, 64, 64, 5)"
            ]
          },
          "metadata": {
            "tags": []
          },
          "execution_count": 36
        }
      ]
    },
    {
      "cell_type": "code",
      "metadata": {
        "id": "HISi6_FaRv1G",
        "colab": {
          "base_uri": "https://localhost:8080/"
        },
        "outputId": "ae912e3e-999c-47e2-921e-545682a9b272"
      },
      "source": [
        "# min_val = [np.min(dt[:,:,:,i]) for i in range(5)]\r\n",
        "# print(min_val)"
      ],
      "execution_count": null,
      "outputs": [
        {
          "output_type": "stream",
          "text": [
            "[3707.8135, 3668.7615, 2762.414, 12326.874, 3777.8079]\n"
          ],
          "name": "stdout"
        }
      ]
    },
    {
      "cell_type": "code",
      "metadata": {
        "id": "cO8ZmvhXON4A",
        "colab": {
          "base_uri": "https://localhost:8080/"
        },
        "outputId": "a658f909-4a6f-4932-da68-3cf454137a20"
      },
      "source": [
        "# max_val = [np.max(dt[:,:,:,i]) for i in range(5)]\r\n",
        "# print(max_val)\r\n",
        "# dt = dt/max_val\r\n",
        "# print([np.max(dt[:,:,:,i]) for i in range(5)])"
      ],
      "execution_count": null,
      "outputs": [
        {
          "output_type": "stream",
          "text": [
            "[64268.277, 60118.1, 35737.86, 236070.98, 52668.152]\n",
            "[1.0, 1.0, 1.0, 1.0, 1.0]\n"
          ],
          "name": "stdout"
        }
      ]
    },
    {
      "cell_type": "code",
      "metadata": {
        "id": "tvcVCNHBVuT-",
        "colab": {
          "base_uri": "https://localhost:8080/",
          "height": 221
        },
        "outputId": "2c954e8d-21c0-4edb-e16e-64cee04a1438"
      },
      "source": [
        "# y = pd.read_csv(\"../labels.csv\")\r\n",
        "# print(y.shape)\r\n",
        "# y[:5]"
      ],
      "execution_count": null,
      "outputs": [
        {
          "output_type": "stream",
          "text": [
            "(960, 8)\n"
          ],
          "name": "stdout"
        },
        {
          "output_type": "execute_result",
          "data": {
            "text/html": [
              "<div>\n",
              "<style scoped>\n",
              "    .dataframe tbody tr th:only-of-type {\n",
              "        vertical-align: middle;\n",
              "    }\n",
              "\n",
              "    .dataframe tbody tr th {\n",
              "        vertical-align: top;\n",
              "    }\n",
              "\n",
              "    .dataframe thead th {\n",
              "        text-align: right;\n",
              "    }\n",
              "</style>\n",
              "<table border=\"1\" class=\"dataframe\">\n",
              "  <thead>\n",
              "    <tr style=\"text-align: right;\">\n",
              "      <th></th>\n",
              "      <th>plot_ID</th>\n",
              "      <th>binary_1</th>\n",
              "      <th>score</th>\n",
              "      <th>resistance</th>\n",
              "      <th>resistance_class_4</th>\n",
              "      <th>binary_2</th>\n",
              "      <th>block</th>\n",
              "      <th>variety</th>\n",
              "    </tr>\n",
              "  </thead>\n",
              "  <tbody>\n",
              "    <tr>\n",
              "      <th>0</th>\n",
              "      <td>1</td>\n",
              "      <td>1</td>\n",
              "      <td>50.0</td>\n",
              "      <td>S</td>\n",
              "      <td>S</td>\n",
              "      <td>S</td>\n",
              "      <td>2</td>\n",
              "      <td>DH058</td>\n",
              "    </tr>\n",
              "    <tr>\n",
              "      <th>1</th>\n",
              "      <td>2</td>\n",
              "      <td>1</td>\n",
              "      <td>5.0</td>\n",
              "      <td>RMR</td>\n",
              "      <td>MR</td>\n",
              "      <td>R</td>\n",
              "      <td>2</td>\n",
              "      <td>Faller</td>\n",
              "    </tr>\n",
              "    <tr>\n",
              "      <th>2</th>\n",
              "      <td>3</td>\n",
              "      <td>1</td>\n",
              "      <td>25.0</td>\n",
              "      <td>MSS</td>\n",
              "      <td>S</td>\n",
              "      <td>S</td>\n",
              "      <td>2</td>\n",
              "      <td>DH121</td>\n",
              "    </tr>\n",
              "    <tr>\n",
              "      <th>3</th>\n",
              "      <td>4</td>\n",
              "      <td>1</td>\n",
              "      <td>40.0</td>\n",
              "      <td>MSS</td>\n",
              "      <td>S</td>\n",
              "      <td>S</td>\n",
              "      <td>2</td>\n",
              "      <td>DH80</td>\n",
              "    </tr>\n",
              "    <tr>\n",
              "      <th>4</th>\n",
              "      <td>5</td>\n",
              "      <td>1</td>\n",
              "      <td>25.0</td>\n",
              "      <td>MSS</td>\n",
              "      <td>S</td>\n",
              "      <td>S</td>\n",
              "      <td>2</td>\n",
              "      <td>ROB</td>\n",
              "    </tr>\n",
              "  </tbody>\n",
              "</table>\n",
              "</div>"
            ],
            "text/plain": [
              "   plot_ID  binary_1  score  ... binary_2 block variety\n",
              "0        1         1   50.0  ...        S     2   DH058\n",
              "1        2         1    5.0  ...        R     2  Faller\n",
              "2        3         1   25.0  ...        S     2   DH121\n",
              "3        4         1   40.0  ...        S     2    DH80\n",
              "4        5         1   25.0  ...        S     2     ROB\n",
              "\n",
              "[5 rows x 8 columns]"
            ]
          },
          "metadata": {
            "tags": []
          },
          "execution_count": 39
        }
      ]
    },
    {
      "cell_type": "code",
      "metadata": {
        "id": "7tDxObuWZc_A",
        "colab": {
          "base_uri": "https://localhost:8080/"
        },
        "outputId": "a72a6ae0-ab23-487f-b989-844cdc59592c"
      },
      "source": [
        "# y.binary_1.value_counts()"
      ],
      "execution_count": null,
      "outputs": [
        {
          "output_type": "execute_result",
          "data": {
            "text/plain": [
              "0    483\n",
              "1    477\n",
              "Name: binary_1, dtype: int64"
            ]
          },
          "metadata": {
            "tags": []
          },
          "execution_count": 40
        }
      ]
    },
    {
      "cell_type": "code",
      "metadata": {
        "id": "vUE0Uw6TZlti",
        "colab": {
          "base_uri": "https://localhost:8080/"
        },
        "outputId": "44856713-d2cf-4ae5-b8cf-1f6af4fc09b3"
      },
      "source": [
        "# y = y['binary_1']\r\n",
        "# y = np.asarraya(y).reshape((-1,1))\r\n",
        "# y.shape"
      ],
      "execution_count": null,
      "outputs": [
        {
          "output_type": "execute_result",
          "data": {
            "text/plain": [
              "(960, 1)"
            ]
          },
          "metadata": {
            "tags": []
          },
          "execution_count": 41
        }
      ]
    },
    {
      "cell_type": "code",
      "metadata": {
        "id": "3cBzX4vrSy1c",
        "colab": {
          "base_uri": "https://localhost:8080/"
        },
        "outputId": "6ab17e96-18c2-4660-c846-53abf6959511"
      },
      "source": [
        "# from sklearn.preprocessing import LabelEncoder\r\n",
        "# encoder = LabelEncoder()\r\n",
        "# encoder.fit(y)\r\n",
        "# y = encoder.transform(y)\r\n",
        "# y.shape"
      ],
      "execution_count": null,
      "outputs": [
        {
          "output_type": "stream",
          "text": [
            "/usr/local/lib/python3.6/dist-packages/sklearn/preprocessing/_label.py:235: DataConversionWarning: A column-vector y was passed when a 1d array was expected. Please change the shape of y to (n_samples, ), for example using ravel().\n",
            "  y = column_or_1d(y, warn=True)\n",
            "/usr/local/lib/python3.6/dist-packages/sklearn/preprocessing/_label.py:268: DataConversionWarning: A column-vector y was passed when a 1d array was expected. Please change the shape of y to (n_samples, ), for example using ravel().\n",
            "  y = column_or_1d(y, warn=True)\n"
          ],
          "name": "stderr"
        },
        {
          "output_type": "execute_result",
          "data": {
            "text/plain": [
              "(960,)"
            ]
          },
          "metadata": {
            "tags": []
          },
          "execution_count": 42
        }
      ]
    },
    {
      "cell_type": "markdown",
      "metadata": {
        "id": "VlRrq7ywZI2j"
      },
      "source": [
        "## Save data"
      ]
    },
    {
      "cell_type": "code",
      "metadata": {
        "id": "a6HjpoijZMpD"
      },
      "source": [
        "# np.save('img_data', dt)\r\n",
        "# np.save('binary_label',y)"
      ],
      "execution_count": null,
      "outputs": []
    },
    {
      "cell_type": "markdown",
      "metadata": {
        "id": "owsg8dPLZXZV"
      },
      "source": [
        "## Load data"
      ]
    },
    {
      "cell_type": "code",
      "metadata": {
        "id": "DWSinqjMZZv4",
        "colab": {
          "base_uri": "https://localhost:8080/"
        },
        "outputId": "ff606ef4-b028-42ee-f781-ba48ec7d6f10"
      },
      "source": [
        "dt, y = np.load('img_data.npy'), np.load('binary_label.npy')\r\n",
        "print(dt.shape)\r\n",
        "print(y.shape)"
      ],
      "execution_count": 9,
      "outputs": [
        {
          "output_type": "stream",
          "text": [
            "(960, 64, 64, 5)\n",
            "(960,)\n"
          ],
          "name": "stdout"
        }
      ]
    },
    {
      "cell_type": "code",
      "metadata": {
        "id": "lLDOBP5LK6RR"
      },
      "source": [
        "os.chdir('/content/drive/Shared drives/WSR_data/Hyperspectral/plot')\r\n",
        "dt, y = np.load('HSIimg_data.npy'), np.load('binary_label.npy')\r\n",
        "print(dt.shape)\r\n",
        "print(y.shape)"
      ],
      "execution_count": null,
      "outputs": []
    },
    {
      "cell_type": "markdown",
      "metadata": {
        "id": "Wnv-iS78F1vD"
      },
      "source": [
        "### Training, testing, and validation data "
      ]
    },
    {
      "cell_type": "code",
      "metadata": {
        "id": "XYNyvWr_ZpNG",
        "colab": {
          "base_uri": "https://localhost:8080/"
        },
        "outputId": "40cc1ed2-adf9-4dea-e1d4-7361030ab12a"
      },
      "source": [
        "x_train, x_test, y_train, y_test = train_test_split(dt, y, random_state=16, shuffle=True, test_size=0.15)\r\n",
        "x_train, x_val, y_train, y_val = train_test_split(x_train, y_train, random_state=16, test_size=0.15)\r\n",
        "\r\n",
        "print(\"Train size is: {}\".format(x_train.shape[0]))\r\n",
        "print(\"Test size is: {}\".format(x_test.shape[0]))\r\n",
        "print(\"Validation size is: {}\".format(x_val.shape[0]))"
      ],
      "execution_count": 10,
      "outputs": [
        {
          "output_type": "stream",
          "text": [
            "Train size is: 693\n",
            "Test size is: 144\n",
            "Validation size is: 123\n"
          ],
          "name": "stdout"
        }
      ]
    },
    {
      "cell_type": "code",
      "metadata": {
        "id": "KX5gVPbe70sE"
      },
      "source": [
        "# x_train, x_test, x_val = np.reshape(x_train,(x_train.shape[0],x_train.shape[1],x_train.shape[2],x_train.shape[3],1)), np.reshape(x_test,(x_test.shape[0],x_test.shape[1],x_test.shape[2],x_test.shape[3],1)), np.reshape(x_val,(x_val.shape[0],x_val.shape[1],x_val.shape[2],x_val.shape[3],1))"
      ],
      "execution_count": null,
      "outputs": []
    },
    {
      "cell_type": "code",
      "metadata": {
        "id": "wN4PiyYvOWIj",
        "colab": {
          "base_uri": "https://localhost:8080/"
        },
        "outputId": "effdb846-0d56-480a-8d02-5f1ea1f19f6a"
      },
      "source": [
        "x_train.shape"
      ],
      "execution_count": 11,
      "outputs": [
        {
          "output_type": "execute_result",
          "data": {
            "text/plain": [
              "(693, 64, 64, 5)"
            ]
          },
          "metadata": {
            "tags": []
          },
          "execution_count": 11
        }
      ]
    },
    {
      "cell_type": "markdown",
      "metadata": {
        "id": "5xNSliCYZVgK"
      },
      "source": [
        "# 3-D ResNet Model"
      ]
    },
    {
      "cell_type": "code",
      "metadata": {
        "id": "0sZQsZMOzr3h"
      },
      "source": [
        "from tensorflow import keras\r\n",
        "from keras.models import Model\r\n",
        "from keras.layers.convolutional import Conv3D, ZeroPadding3D\r\n",
        "from keras.layers.convolutional import MaxPooling3D, AveragePooling3D\r\n",
        "from keras.layers import Dropout, Input\r\n",
        "from keras.layers import Flatten, add\r\n",
        "from keras.layers import Dense\r\n",
        "from keras.layers.normalization import BatchNormalization  # batch Normalization for managing internal covariant shift.\r\n",
        "from keras.layers import Activation\r\n",
        "from keras.utils import plot_model"
      ],
      "execution_count": null,
      "outputs": []
    },
    {
      "cell_type": "markdown",
      "metadata": {
        "id": "Y3sGHLwCcnbw"
      },
      "source": [
        "## Model Training"
      ]
    },
    {
      "cell_type": "code",
      "metadata": {
        "id": "uReZmsiFZcYp"
      },
      "source": [
        "model = ResNet50_3D(input_shape=(64, 64, 5,1), classes=2)\r\n",
        "model.compile(optimizer=tf.keras.optimizers.Adam(lr=0.005),\r\n",
        "              loss='sparse_categorical_crossentropy', \r\n",
        "              metrics='accuracy'\r\n",
        "              )"
      ],
      "execution_count": null,
      "outputs": []
    },
    {
      "cell_type": "code",
      "metadata": {
        "id": "1f8S4n0JZr57",
        "colab": {
          "base_uri": "https://localhost:8080/"
        },
        "outputId": "933c5064-a65d-4c2f-b4e5-9c0a7b5cdaed"
      },
      "source": [
        "os.chdir('/content/drive/Shared drives/WSR_data/Drone200ft/Multispectral_LargerPlotSize')\r\n",
        "my_callbacks = [\r\n",
        "    tf.keras.callbacks.EarlyStopping(monitor='val_loss', patience=50),\r\n",
        "    tf.keras.callbacks.ModelCheckpoint(filepath='./models/ResNet3D/model.{epoch:02d}.h5', save_best_only=False, monitor='val_accuracy'),\r\n",
        "    tf.keras.callbacks.TensorBoard(log_dir='./logs'),\r\n",
        "    tf.keras.callbacks.ReduceLROnPlateau(monitor='val_loss', factor=0.2, patience=20, verbose=1, epsilon=1e-4, min_lr = 0.000001, mode='auto')\r\n",
        "]"
      ],
      "execution_count": 16,
      "outputs": [
        {
          "output_type": "stream",
          "text": [
            "WARNING:tensorflow:`epsilon` argument is deprecated and will be removed, use `min_delta` instead.\n"
          ],
          "name": "stdout"
        }
      ]
    },
    {
      "cell_type": "code",
      "metadata": {
        "id": "YR5L2oaQZt4e"
      },
      "source": [
        "model_best.fit(x_train, y_train, epochs=200, batch_size=24, validation_data=(x_val, y_val), callbacks=my_callbacks)"
      ],
      "execution_count": null,
      "outputs": []
    },
    {
      "cell_type": "markdown",
      "metadata": {
        "id": "d8oUEPD_cu9t"
      },
      "source": [
        "## Model Evaluation"
      ]
    },
    {
      "cell_type": "code",
      "metadata": {
        "id": "CSB76ZWGcyRW"
      },
      "source": [
        "print(\"Testing accuracy: {}\".format(model.evaluate(x_test, y_test)[1]))\r\n",
        "print(\"Training accuracy: {}\".format(model.evaluate(x_train, y_train)[1]))\r\n",
        "print(\"Validation accuracy: {}\".format(model.evaluate(x_val, y_val)[1]))"
      ],
      "execution_count": null,
      "outputs": []
    },
    {
      "cell_type": "markdown",
      "metadata": {
        "id": "Z02rmNEJc7tP"
      },
      "source": [
        "## Save model"
      ]
    },
    {
      "cell_type": "code",
      "metadata": {
        "id": "OIY10_DSc7tR"
      },
      "source": [
        "from tensorflow import keras\r\n",
        "keras.models.save_model(model,\"ResNet50_3D.h5\")"
      ],
      "execution_count": null,
      "outputs": []
    },
    {
      "cell_type": "markdown",
      "metadata": {
        "id": "Ic7UDHwBc7tS"
      },
      "source": [
        "## Load model"
      ]
    },
    {
      "cell_type": "code",
      "metadata": {
        "id": "12bmdIi7c7tT"
      },
      "source": [
        "os.chdir('/content/drive/Shared drives/WSR_data/Drone200ft/Multispectral_LargerPlotSize/models/ResNet3D/')\r\n",
        "trained_model = './model.03.h5'\r\n",
        "model_best = tf.keras.models.load_model(trained_model)"
      ],
      "execution_count": 20,
      "outputs": []
    },
    {
      "cell_type": "code",
      "metadata": {
        "colab": {
          "base_uri": "https://localhost:8080/"
        },
        "id": "3pQUbfdWc7tU",
        "outputId": "89044384-38cd-4657-be6a-052ec6926fbc"
      },
      "source": [
        "print(\"Testing accuracy: {}\".format(model_best.evaluate(x_test, y_test)[1]))\r\n",
        "print(\"Training accuracy: {}\".format(model_best.evaluate(x_train, y_train)[1]))\r\n",
        "print(\"Validation accuracy: {}\".format(model_best.evaluate(x_val, y_val)[1]))"
      ],
      "execution_count": null,
      "outputs": [
        {
          "output_type": "stream",
          "text": [
            "5/5 [==============================] - 37s 7s/step - loss: 0.3850 - accuracy: 0.8611\n",
            "Testing accuracy: 0.8611111044883728\n",
            "11/22 [==============>...............] - ETA: 1:24 - loss: 0.0710 - accuracy: 0.9716"
          ],
          "name": "stdout"
        }
      ]
    },
    {
      "cell_type": "markdown",
      "metadata": {
        "id": "CdkxLraRVVf_"
      },
      "source": [
        "\r\n",
        "# 2-D ResNet Model "
      ]
    },
    {
      "cell_type": "markdown",
      "metadata": {
        "id": "TULDayWH6m7R"
      },
      "source": [
        "## Model Training"
      ]
    },
    {
      "cell_type": "code",
      "metadata": {
        "id": "rOFPNNRlTB4X"
      },
      "source": [
        "#model = ResNet101(input_shape=(64, 64, 5), classes=2)\r\n",
        "#model = ResNet50(input_shape=(64, 64, 5), classes=2)\r\n",
        "model = ResNet14(input_shape=(64, 64, 5), classes=2)"
      ],
      "execution_count": null,
      "outputs": []
    },
    {
      "cell_type": "code",
      "metadata": {
        "id": "fl-SjJtZRIqR"
      },
      "source": [
        "model.compile(optimizer= tf.keras.optimizers.Adam(lr=0.005),loss='sparse_categorical_crossentropy', metrics=['accuracy'])"
      ],
      "execution_count": null,
      "outputs": []
    },
    {
      "cell_type": "code",
      "metadata": {
        "id": "7cefLlmQin_G",
        "colab": {
          "base_uri": "https://localhost:8080/"
        },
        "outputId": "32c90dad-ebe5-4b9a-98ce-979c0ae5677b"
      },
      "source": [
        "os.chdir('/content/drive/Shared drives/WSR_data/Drone200ft/Multispectral_LargerPlotSize')\r\n",
        "my_callbacks = [\r\n",
        "    tf.keras.callbacks.EarlyStopping(monitor='val_loss', patience=50),\r\n",
        "    tf.keras.callbacks.ModelCheckpoint(filepath='./models/ResNet14/model.{epoch:02d}.h5', save_best_only=False, monitor='val_accuracy'),\r\n",
        "    tf.keras.callbacks.TensorBoard(log_dir='./logs'),\r\n",
        "    tf.keras.callbacks.ReduceLROnPlateau(monitor='val_loss', factor=0.2, patience=20, verbose=1, epsilon=1e-4, min_lr = 0.000001, mode='auto')\r\n",
        "]"
      ],
      "execution_count": null,
      "outputs": [
        {
          "output_type": "stream",
          "text": [
            "WARNING:tensorflow:`epsilon` argument is deprecated and will be removed, use `min_delta` instead.\n"
          ],
          "name": "stdout"
        }
      ]
    },
    {
      "cell_type": "code",
      "metadata": {
        "id": "19sRiZXKZ2lp",
        "colab": {
          "base_uri": "https://localhost:8080/"
        },
        "outputId": "78d0b071-df1d-495e-b833-c8c13ea360a1"
      },
      "source": [
        "model.fit(x_train, y_train, epochs=200, batch_size=24, validation_data=(x_val, y_val), callbacks=my_callbacks)"
      ],
      "execution_count": null,
      "outputs": [
        {
          "output_type": "stream",
          "text": [
            "Epoch 1/200\n",
            "29/29 [==============================] - 73s 2s/step - loss: 15.3438 - accuracy: 0.5351 - val_loss: 86.3602 - val_accuracy: 0.6260\n",
            "Epoch 2/200\n",
            "24/29 [=======================>......] - ETA: 11s - loss: 2.2610 - accuracy: 0.5967"
          ],
          "name": "stdout"
        }
      ]
    },
    {
      "cell_type": "markdown",
      "metadata": {
        "id": "KA8rJrdqLBxi"
      },
      "source": [
        "## Model Evaluation"
      ]
    },
    {
      "cell_type": "code",
      "metadata": {
        "id": "eYQTh6C9KIuY",
        "colab": {
          "base_uri": "https://localhost:8080/"
        },
        "outputId": "f5b29e6f-52a0-4e22-fa27-90998bb9b9ca"
      },
      "source": [
        "print(\"Testing accuracy: {}\".format(model.evaluate(x_test, y_test)[1]))\r\n",
        "print(\"Training accuracy: {}\".format(model.evaluate(x_train, y_train)[1]))\r\n",
        "print(\"Validation accuracy: {}\".format(model.evaluate(x_val, y_val)[1]))"
      ],
      "execution_count": null,
      "outputs": [
        {
          "output_type": "stream",
          "text": [
            "5/5 [==============================] - 3s 568ms/step - loss: 0.2048 - accuracy: 0.9167\n",
            "Testing accuracy: 0.9166666865348816\n",
            "22/22 [==============================] - 14s 619ms/step - loss: 0.0137 - accuracy: 0.9971\n",
            "Training accuracy: 0.9971140027046204\n",
            "4/4 [==============================] - 3s 617ms/step - loss: 0.1480 - accuracy: 0.9187\n",
            "Validation accuracy: 0.9186992049217224\n"
          ],
          "name": "stdout"
        }
      ]
    },
    {
      "cell_type": "markdown",
      "metadata": {
        "id": "BFt2X_mMRQXH"
      },
      "source": [
        "## Save model"
      ]
    },
    {
      "cell_type": "code",
      "metadata": {
        "id": "PGsJeqeLRVmC"
      },
      "source": [
        "from tensorflow import keras\r\n",
        "keras.models.save_model(model,\"ResNet18.h5\")"
      ],
      "execution_count": null,
      "outputs": []
    },
    {
      "cell_type": "markdown",
      "metadata": {
        "id": "9GvM2yhzSpjp"
      },
      "source": [
        "## Load model"
      ]
    },
    {
      "cell_type": "code",
      "metadata": {
        "id": "5eDaSF-JSsx_"
      },
      "source": [
        "os.chdir('/content/drive/Shared drives/WSR_data/Drone200ft/Multispectral_LargerPlotSize/models/ResNet50/models/ResNet50')\r\n",
        "trained_model = './model.76.h5'\r\n",
        "model_best = tf.keras.models.load_model(trained_model)"
      ],
      "execution_count": null,
      "outputs": []
    },
    {
      "cell_type": "code",
      "metadata": {
        "id": "ybKdp1aTS9vY",
        "colab": {
          "base_uri": "https://localhost:8080/"
        },
        "outputId": "4a016aee-3de4-48a1-d101-507d665dbca2"
      },
      "source": [
        "print(\"Testing accuracy: {}\".format(model_best.evaluate(x_test, y_test)[1]))\r\n",
        "print(\"Training accuracy: {}\".format(model_best.evaluate(x_train, y_train)[1]))\r\n",
        "print(\"Validation accuracy: {}\".format(model_best.evaluate(x_val, y_val)[1]))"
      ],
      "execution_count": null,
      "outputs": [
        {
          "output_type": "stream",
          "text": [
            "5/5 [==============================] - 4s 552ms/step - loss: 0.1674 - accuracy: 0.9375\n",
            "Testing accuracy: 0.9375\n",
            "22/22 [==============================] - 14s 618ms/step - loss: 0.0177 - accuracy: 0.9942\n",
            "Training accuracy: 0.9942280054092407\n",
            "4/4 [==============================] - 2s 594ms/step - loss: 0.1112 - accuracy: 0.9675\n",
            "Validation accuracy: 0.9674796462059021\n"
          ],
          "name": "stdout"
        }
      ]
    },
    {
      "cell_type": "markdown",
      "metadata": {
        "id": "NohaMANrQlya"
      },
      "source": [
        "# ML Models"
      ]
    },
    {
      "cell_type": "code",
      "metadata": {
        "id": "qkjmgmMFES_k"
      },
      "source": [
        "from sklearn.ensemble import BaggingClassifier as bc\r\n",
        "from sklearn.tree import DecisionTreeClassifier as dtc\r\n",
        "from sklearn.model_selection import train_test_split\r\n",
        "from sklearn.datasets import make_moons\r\n",
        "from sklearn.ensemble import RandomForestClassifier as rfc\r\n",
        "from sklearn.ensemble import VotingClassifier as vc\r\n",
        "from sklearn.linear_model import LogisticRegression as lrc\r\n",
        "from sklearn.svm import SVC as svc\r\n",
        "from sklearn.preprocessing import StandardScaler\r\n",
        "from sklearn.pipeline import Pipeline"
      ],
      "execution_count": null,
      "outputs": []
    },
    {
      "cell_type": "markdown",
      "metadata": {
        "id": "HrO0XSFBQoSt"
      },
      "source": [
        "## Read data"
      ]
    },
    {
      "cell_type": "code",
      "metadata": {
        "id": "3Idx3eGCQrc5"
      },
      "source": [
        "os.chdir(\"/content/drive/My Drive/UMN_Research/Data/wsr\")\r\n",
        "dt = pd.read_csv('data.csv')\r\n",
        "print(dt.shape)\r\n",
        "dt.head(5)"
      ],
      "execution_count": null,
      "outputs": []
    },
    {
      "cell_type": "markdown",
      "metadata": {
        "id": "_Aexz2aWC02D"
      },
      "source": [
        "## Data Clearning"
      ]
    },
    {
      "cell_type": "code",
      "metadata": {
        "id": "X5ncNWMTC7Jg"
      },
      "source": [
        "dt2=dt\r\n",
        "dt2 = dt2.drop(['plotID'],axis=1)\r\n",
        "dt2.shape\r\n",
        "\r\n",
        "dt2['class2']=0\r\n",
        "dt2['class2'].iloc[(dt2.block==2)|(dt2.block==3)|(dt2.block==6)]=1\r\n",
        "\r\n",
        "dt2['class2'].value_counts()"
      ],
      "execution_count": null,
      "outputs": []
    },
    {
      "cell_type": "code",
      "metadata": {
        "id": "yWVT1DmrDHvx"
      },
      "source": [
        "dt3 = dt2\r\n",
        "dt3 = dt3.drop(['score','resistance_class_4','binary_2','block'],axis=1)\r\n",
        "print(dt3.shape)\r\n",
        "dt3.head(5)"
      ],
      "execution_count": null,
      "outputs": []
    },
    {
      "cell_type": "markdown",
      "metadata": {
        "id": "fChuCC14DITq"
      },
      "source": [
        "### Check and remove NaN"
      ]
    },
    {
      "cell_type": "code",
      "metadata": {
        "id": "hEpcGC6MDMXx"
      },
      "source": [
        "pd.isnull(dt3).any(axis=0)"
      ],
      "execution_count": null,
      "outputs": []
    },
    {
      "cell_type": "code",
      "metadata": {
        "id": "5JxtV4edDQrG"
      },
      "source": [
        "pd.isnull(dt3).sum(axis=0)"
      ],
      "execution_count": null,
      "outputs": []
    },
    {
      "cell_type": "code",
      "metadata": {
        "id": "hmdUnm7mHQbW"
      },
      "source": [
        "dt3.loc[pd.isnull(dt3).any(axis=1)]"
      ],
      "execution_count": null,
      "outputs": []
    },
    {
      "cell_type": "code",
      "metadata": {
        "id": "KScYUtSnHoxG"
      },
      "source": [
        "dt3 = dt3.replace('#NAME?', np.NaN)"
      ],
      "execution_count": null,
      "outputs": []
    },
    {
      "cell_type": "code",
      "metadata": {
        "id": "4ppogcylH872"
      },
      "source": [
        "dt3.loc[pd.isnull(dt3).any(axis=1)]"
      ],
      "execution_count": null,
      "outputs": []
    },
    {
      "cell_type": "code",
      "metadata": {
        "id": "kCnkP5GrVFkP"
      },
      "source": [
        "dt4 = dt3.fillna(method='ffill')\r\n",
        "\r\n",
        "print(pd.isnull(dt4).sum(axis=0))\r\n",
        "dt4 = dt4.astype('float')\r\n",
        "print(dt4.dtypes)"
      ],
      "execution_count": null,
      "outputs": []
    },
    {
      "cell_type": "markdown",
      "metadata": {
        "id": "L5M5zxLvDnIV"
      },
      "source": [
        "## Generate training, validation, and testing data"
      ]
    },
    {
      "cell_type": "code",
      "metadata": {
        "id": "u2h_uXAdDZhx"
      },
      "source": [
        "x, y = dt4.drop(['class2'], axis=1), dt4['class2']\r\n",
        "x = StandardScaler().fit_transform(x)\r\n",
        "x.shape"
      ],
      "execution_count": null,
      "outputs": []
    },
    {
      "cell_type": "code",
      "metadata": {
        "id": "wSIfkh48DfSZ"
      },
      "source": [
        "x_train, x_test, y_train, y_test = train_test_split(x, y, random_state=16, shuffle=True, test_size=0.15)\r\n",
        "x_train, x_val, y_train, y_val = train_test_split(x_train, y_train, random_state=16, test_size=0.2)\r\n",
        "\r\n",
        "print(\"Train size is: {}\".format(x_train.shape[0]))\r\n",
        "print(\"Test size is: {}\".format(x_test.shape[0]))\r\n",
        "print(\"Validation size is: {}\".format(x_val.shape[0]))"
      ],
      "execution_count": null,
      "outputs": []
    },
    {
      "cell_type": "markdown",
      "metadata": {
        "id": "-PrxKBmmUhv-"
      },
      "source": [
        "## RF and SVM Models"
      ]
    },
    {
      "cell_type": "code",
      "metadata": {
        "id": "DSxCVoyEMTDb"
      },
      "source": [
        "rf_clf = rfc(n_estimators=500, random_state=6) \r\n",
        "svm_clf = svc(gamma='scale', random_state=6)\r\n",
        "\r\n",
        "rf_clf.fit(x_train, y_train)\r\n",
        "svm_clf.fit(x_train, y_train)"
      ],
      "execution_count": null,
      "outputs": []
    },
    {
      "cell_type": "code",
      "metadata": {
        "id": "0Eh9Z0kfOFhK"
      },
      "source": [
        "y_pred_rf = rf_clf.predict(x_test)\r\n",
        "y_pred_svm = svm_clf.predict(x_test)"
      ],
      "execution_count": null,
      "outputs": []
    },
    {
      "cell_type": "code",
      "metadata": {
        "id": "yRyqXgRBOIr3"
      },
      "source": [
        "from sklearn.metrics import accuracy_score\r\n",
        "\r\n",
        "print(\"Test Accuracy by RF: {}\".format(accuracy_score(y_test, y_pred_rf)))\r\n",
        "print(\"Test Accuracy by SVM: {}\".format(accuracy_score(y_test, y_pred_svm)))"
      ],
      "execution_count": null,
      "outputs": []
    },
    {
      "cell_type": "code",
      "metadata": {
        "id": "8zaWlfIwOLkz"
      },
      "source": [
        "from sklearn.metrics import confusion_matrix\r\n",
        "print(\"Confusion matrix by RF:\")\r\n",
        "print(confusion_matrix(y_test, y_pred_rf))\r\n",
        "\r\n",
        "print(\"\")\r\n",
        "print(\"Confusion matrix by SVM:\")\r\n",
        "print(confusion_matrix(y_test, y_pred_svm))"
      ],
      "execution_count": null,
      "outputs": []
    },
    {
      "cell_type": "markdown",
      "metadata": {
        "id": "okRTv3t7OOgt"
      },
      "source": [
        "## MLP Model"
      ]
    },
    {
      "cell_type": "code",
      "metadata": {
        "id": "wWyQD5OQOtNV"
      },
      "source": [
        "import tensorflow as tf\r\n",
        "from tensorflow import keras"
      ],
      "execution_count": null,
      "outputs": []
    },
    {
      "cell_type": "code",
      "metadata": {
        "id": "Na051_UrOvNO"
      },
      "source": [
        "mlp_model = keras.models.Sequential()\r\n",
        "mlp_model.add(Dense(30, input_dim = 26, activation='relu'))\r\n",
        "mlp_model.add(Dense(30, activation='relu'))\r\n",
        "mlp_model.add(Dense(2, activation='sigmoid'))"
      ],
      "execution_count": null,
      "outputs": []
    },
    {
      "cell_type": "code",
      "metadata": {
        "id": "lEKs8ky-Pxar"
      },
      "source": [
        "mlp_model.compile(loss='sparse_categorical_crossentropy',\r\n",
        "                  optimizer = keras.optimizers.Adam(learning_rate=0.01),\r\n",
        "                  metrics=['accuracy'])"
      ],
      "execution_count": null,
      "outputs": []
    },
    {
      "cell_type": "code",
      "metadata": {
        "id": "h59NH8x_VMxw"
      },
      "source": [
        "my_callbacks = [\r\n",
        "    tf.keras.callbacks.EarlyStopping(monitor='val_loss', patience=100),\r\n",
        "    tf.keras.callbacks.ModelCheckpoint(filepath='./MLP/model.{epoch:02d}-{val_loss:.2f}.h5', save_best_only=True, monitor='val_accuracy'),\r\n",
        "    tf.keras.callbacks.ReduceLROnPlateau(monitor='val_loss', factor=0.2, patience=10, verbose=1, epsilon=1e-4, min_lr = 0.000001, mode='auto')\r\n",
        "]"
      ],
      "execution_count": null,
      "outputs": []
    },
    {
      "cell_type": "code",
      "metadata": {
        "id": "hoYH6FusQLPl"
      },
      "source": [
        "fit_history = mlp_model.fit(x_train, y_train, epochs=200,batch_size=16, verbose=1, validation_data=(x_val, y_val), callbacks=my_callbacks)"
      ],
      "execution_count": null,
      "outputs": []
    },
    {
      "cell_type": "code",
      "metadata": {
        "id": "aNIKgMy3QQ1E"
      },
      "source": [
        "pd.DataFrame(fit_history.history).plot(figsize=(10,6))\r\n",
        "plt.grid(True)\r\n",
        "plt.gca().set_ylim(0,1)\r\n",
        "plt.show()"
      ],
      "execution_count": null,
      "outputs": []
    },
    {
      "cell_type": "code",
      "metadata": {
        "id": "jGH4-ofcQUDf"
      },
      "source": [
        "y_pred_mlp = mlp_model.predict_classes(x_test)\r\n",
        "print(\"Test Accuracy by MLP: {}\".format(accuracy_score(y_test, y_pred_mlp)))\r\n",
        "\r\n",
        "print(\"Confusion matrix by MLP:\")\r\n",
        "print(confusion_matrix(y_test, y_pred_mlp))"
      ],
      "execution_count": null,
      "outputs": []
    },
    {
      "cell_type": "code",
      "metadata": {
        "id": "GHfz08W8VaVg"
      },
      "source": [
        "y_pred_mlp = mlp_model.predict_classes(x_train)\r\n",
        "print(\"Train Accuracy by Final MLP: {}\".format(accuracy_score(y_train, y_pred_mlp)))\r\n",
        "\r\n",
        "print(\"Confusion matrix by Final MLP:\")\r\n",
        "print(confusion_matrix(y_train, y_pred_mlp))"
      ],
      "execution_count": null,
      "outputs": []
    },
    {
      "cell_type": "markdown",
      "metadata": {
        "id": "G2PKKhXaTzSl"
      },
      "source": [
        "### Load best model"
      ]
    },
    {
      "cell_type": "code",
      "metadata": {
        "id": "MID52wnsUefO"
      },
      "source": [
        "os.chdir(\"/content/drive/My Drive/UMN_Research/Data/wsr\")\r\n",
        "trained_model = './MLP/model.27-0.53.h5'\r\n",
        "model_best = keras.models.load_model(trained_model)"
      ],
      "execution_count": null,
      "outputs": []
    },
    {
      "cell_type": "code",
      "metadata": {
        "id": "JiF33k7SUs8y"
      },
      "source": [
        "y_pred_mlp = model_best.predict_classes(x_test)\r\n",
        "print(\"Test Accuracy by Best MLP: {}\".format(accuracy_score(y_test, y_pred_mlp)))\r\n",
        "\r\n",
        "print(\"Confusion matrix by Best MLP:\")\r\n",
        "print(confusion_matrix(y_test, y_pred_mlp))"
      ],
      "execution_count": null,
      "outputs": []
    },
    {
      "cell_type": "code",
      "metadata": {
        "id": "xEEU_RsVLDYs"
      },
      "source": [
        "y_pred_mlp = model_best.predict_classes(x_train)\r\n",
        "print(\"Train Accuracy by Best MLP: {}\".format(accuracy_score(y_train, y_pred_mlp)))\r\n",
        "\r\n",
        "print(\"Confusion matrix by Best MLP:\")\r\n",
        "print(confusion_matrix(y_train, y_pred_mlp))"
      ],
      "execution_count": null,
      "outputs": []
    }
  ]
}