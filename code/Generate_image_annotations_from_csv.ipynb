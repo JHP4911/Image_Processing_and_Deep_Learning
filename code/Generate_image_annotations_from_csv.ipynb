{
 "cells": [
  {
   "cell_type": "code",
   "execution_count": 1,
   "metadata": {},
   "outputs": [],
   "source": [
    "import pandas as pd\n",
    "import numpy as np\n",
    "from lxml import etree\n",
    "from pascal_voc_writer import Writer\n",
    "import os"
   ]
  },
  {
   "cell_type": "code",
   "execution_count": 2,
   "metadata": {},
   "outputs": [],
   "source": [
    "os.chdir(\"C:/Users/liang/Desktop/idTrees/Data2020/DL_nv/retinanet\")"
   ]
  },
  {
   "cell_type": "code",
   "execution_count": 3,
   "metadata": {},
   "outputs": [
    {
     "name": "stdout",
     "output_type": "stream",
     "text": [
      "(1188, 10)\n"
     ]
    },
    {
     "data": {
      "text/html": [
       "<div>\n",
       "<style scoped>\n",
       "    .dataframe tbody tr th:only-of-type {\n",
       "        vertical-align: middle;\n",
       "    }\n",
       "\n",
       "    .dataframe tbody tr th {\n",
       "        vertical-align: top;\n",
       "    }\n",
       "\n",
       "    .dataframe thead th {\n",
       "        text-align: right;\n",
       "    }\n",
       "</style>\n",
       "<table border=\"1\" class=\"dataframe\">\n",
       "  <thead>\n",
       "    <tr style=\"text-align: right;\">\n",
       "      <th></th>\n",
       "      <th>imageID</th>\n",
       "      <th>xmin</th>\n",
       "      <th>ymin</th>\n",
       "      <th>xmax</th>\n",
       "      <th>ymax</th>\n",
       "      <th>TreeID</th>\n",
       "      <th>IndvdID</th>\n",
       "      <th>path</th>\n",
       "      <th>image</th>\n",
       "      <th>image_path</th>\n",
       "    </tr>\n",
       "  </thead>\n",
       "  <tbody>\n",
       "    <tr>\n",
       "      <th>0</th>\n",
       "      <td>MLBS_1.tif</td>\n",
       "      <td>16.186834</td>\n",
       "      <td>181.926559</td>\n",
       "      <td>198.969940</td>\n",
       "      <td>0.000000</td>\n",
       "      <td>57</td>\n",
       "      <td>439</td>\n",
       "      <td>./</td>\n",
       "      <td>MLBS_1.png</td>\n",
       "      <td>./MLBS_1.png</td>\n",
       "    </tr>\n",
       "    <tr>\n",
       "      <th>1</th>\n",
       "      <td>MLBS_1.tif</td>\n",
       "      <td>0.000000</td>\n",
       "      <td>183.624011</td>\n",
       "      <td>182.995294</td>\n",
       "      <td>0.207245</td>\n",
       "      <td>45</td>\n",
       "      <td>438</td>\n",
       "      <td>./</td>\n",
       "      <td>MLBS_1.png</td>\n",
       "      <td>./MLBS_1.png</td>\n",
       "    </tr>\n",
       "    <tr>\n",
       "      <th>2</th>\n",
       "      <td>MLBS_1.tif</td>\n",
       "      <td>5.169555</td>\n",
       "      <td>184.617804</td>\n",
       "      <td>188.969398</td>\n",
       "      <td>1.345944</td>\n",
       "      <td>49</td>\n",
       "      <td>435</td>\n",
       "      <td>./</td>\n",
       "      <td>MLBS_1.png</td>\n",
       "      <td>./MLBS_1.png</td>\n",
       "    </tr>\n",
       "    <tr>\n",
       "      <th>3</th>\n",
       "      <td>MLBS_1.tif</td>\n",
       "      <td>2.701672</td>\n",
       "      <td>186.373466</td>\n",
       "      <td>185.088781</td>\n",
       "      <td>3.552642</td>\n",
       "      <td>63</td>\n",
       "      <td>437</td>\n",
       "      <td>./</td>\n",
       "      <td>MLBS_1.png</td>\n",
       "      <td>./MLBS_1.png</td>\n",
       "    </tr>\n",
       "    <tr>\n",
       "      <th>4</th>\n",
       "      <td>MLBS_1.tif</td>\n",
       "      <td>6.068128</td>\n",
       "      <td>186.807181</td>\n",
       "      <td>193.577248</td>\n",
       "      <td>1.921925</td>\n",
       "      <td>50</td>\n",
       "      <td>436</td>\n",
       "      <td>./</td>\n",
       "      <td>MLBS_1.png</td>\n",
       "      <td>./MLBS_1.png</td>\n",
       "    </tr>\n",
       "  </tbody>\n",
       "</table>\n",
       "</div>"
      ],
      "text/plain": [
       "      imageID       xmin        ymin        xmax      ymax  TreeID  IndvdID  \\\n",
       "0  MLBS_1.tif  16.186834  181.926559  198.969940  0.000000      57      439   \n",
       "1  MLBS_1.tif   0.000000  183.624011  182.995294  0.207245      45      438   \n",
       "2  MLBS_1.tif   5.169555  184.617804  188.969398  1.345944      49      435   \n",
       "3  MLBS_1.tif   2.701672  186.373466  185.088781  3.552642      63      437   \n",
       "4  MLBS_1.tif   6.068128  186.807181  193.577248  1.921925      50      436   \n",
       "\n",
       "  path       image    image_path  \n",
       "0   ./  MLBS_1.png  ./MLBS_1.png  \n",
       "1   ./  MLBS_1.png  ./MLBS_1.png  \n",
       "2   ./  MLBS_1.png  ./MLBS_1.png  \n",
       "3   ./  MLBS_1.png  ./MLBS_1.png  \n",
       "4   ./  MLBS_1.png  ./MLBS_1.png  "
      ]
     },
     "execution_count": 3,
     "metadata": {},
     "output_type": "execute_result"
    }
   ],
   "source": [
    "df = pd.read_csv(\"annotations.csv\")\n",
    "sh = df.shape\n",
    "print(sh)\n",
    "df.head(5)"
   ]
  },
  {
   "cell_type": "code",
   "execution_count": 4,
   "metadata": {},
   "outputs": [
    {
     "data": {
      "text/plain": [
       "84"
      ]
     },
     "execution_count": 4,
     "metadata": {},
     "output_type": "execute_result"
    }
   ],
   "source": [
    "imgs = df['imageID'].unique()\n",
    "len(imgs)"
   ]
  },
  {
   "cell_type": "code",
   "execution_count": 5,
   "metadata": {},
   "outputs": [],
   "source": [
    "for i in range(len(imgs)):\n",
    "    \n",
    "    dfsb = df[df.imageID.eq(imgs[i])]\n",
    "    dfsb = dfsb.reset_index()\n",
    "    shape = dfsb.shape\n",
    "    \n",
    "    nm = \"./\" + dfsb['image'][0]\n",
    "    writer = Writer(nm, 200, 200)\n",
    "    \n",
    "    for j in range(shape[0]):\n",
    "        \n",
    "        xmin = dfsb['xmin'][j]\n",
    "        xmax = dfsb['xmax'][j]\n",
    "        ymin = dfsb['ymin'][j]\n",
    "        ymax = dfsb['ymax'][j]\n",
    "        \n",
    "        writer.addObject(dfsb['IndvdID'][j],xmin, ymin, xmax, ymax)\n",
    "    \n",
    "    nm2 = \"./\" + dfsb['image'][1][0:-3] + 'xml'\n",
    "    writer.save(nm2)"
   ]
  }
 ],
 "metadata": {
  "kernelspec": {
   "display_name": "Python 3",
   "language": "python",
   "name": "python3"
  },
  "language_info": {
   "codemirror_mode": {
    "name": "ipython",
    "version": 3
   },
   "file_extension": ".py",
   "mimetype": "text/x-python",
   "name": "python",
   "nbconvert_exporter": "python",
   "pygments_lexer": "ipython3",
   "version": "3.6.10"
  }
 },
 "nbformat": 4,
 "nbformat_minor": 4
}
