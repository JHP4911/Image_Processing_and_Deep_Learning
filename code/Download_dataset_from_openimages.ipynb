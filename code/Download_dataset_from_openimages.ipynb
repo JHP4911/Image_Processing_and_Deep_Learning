{
 "cells": [
  {
   "cell_type": "code",
   "execution_count": 12,
   "metadata": {},
   "outputs": [],
   "source": [
    "import awscli\n",
    "import wget\n",
    "import os\n",
    "import openimages as oi\n",
    "from openimages.download import download_dataset"
   ]
  },
  {
   "cell_type": "code",
   "execution_count": 7,
   "metadata": {},
   "outputs": [],
   "source": [
    "os.chdir(\"C:/Users/liang/Desktop/idTrees/oi\")"
   ]
  },
  {
   "cell_type": "code",
   "execution_count": null,
   "metadata": {},
   "outputs": [
    {
     "name": "stderr",
     "output_type": "stream",
     "text": [
      "2020-06-26  08:17:45 INFO Downloading 20000 train images for class 'tree'\n",
      " 30%|███████████████████████▍                                                     | 6097/20000 [02:03<05:20, 43.44it/s]"
     ]
    }
   ],
   "source": [
    "download_dataset(\"./\",['Tree',],annotation_format=\"darknet\",limit = 20000)"
   ]
  }
 ],
 "metadata": {
  "kernelspec": {
   "display_name": "Python 3",
   "language": "python",
   "name": "python3"
  },
  "language_info": {
   "codemirror_mode": {
    "name": "ipython",
    "version": 3
   },
   "file_extension": ".py",
   "mimetype": "text/x-python",
   "name": "python",
   "nbconvert_exporter": "python",
   "pygments_lexer": "ipython3",
   "version": "3.6.10"
  }
 },
 "nbformat": 4,
 "nbformat_minor": 4
}
