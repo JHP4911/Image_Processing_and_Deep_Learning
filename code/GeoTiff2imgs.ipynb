{
 "cells": [
  {
   "cell_type": "code",
   "execution_count": 1,
   "metadata": {},
   "outputs": [],
   "source": [
    "import pandas as pd\n",
    "import numpy as np\n",
    "import sklearn\n",
    "from skimage.segmentation import felzenszwalb, slic, quickshift, watershed\n",
    "from skimage.filters import gaussian \n",
    "from skimage import filters, io\n",
    "import os, shutil\n",
    "import rasterio as rio\n",
    "from rasterio.plot import show\n",
    "import matplotlib.pyplot as plt\n",
    "import geopandas as gpd\n",
    "from osgeo import ogr, gdal, osr\n",
    "import cv2"
   ]
  },
  {
   "cell_type": "code",
   "execution_count": 7,
   "metadata": {},
   "outputs": [
    {
     "name": "stdout",
     "output_type": "stream",
     "text": [
      "['MLBS_1.tif', 'MLBS_10.tif', 'MLBS_11.tif', 'MLBS_12.tif', 'MLBS_13.tif']\n"
     ]
    },
    {
     "data": {
      "text/plain": [
       "85"
      ]
     },
     "execution_count": 7,
     "metadata": {},
     "output_type": "execute_result"
    }
   ],
   "source": [
    "os.chdir(\"C:/Users/liang/Desktop/idTrees/Data2020/DL_nv/rhc\")\n",
    "\n",
    "files = os.listdir()\n",
    "tifs = [i for i in files if i.endswith('.tif')]\n",
    "print(tifs[0:5])\n",
    "len(tifs)"
   ]
  },
  {
   "cell_type": "code",
   "execution_count": 8,
   "metadata": {},
   "outputs": [],
   "source": [
    "for img in tifs:\n",
    "    ra = rio.open(img)\n",
    "    arys = ra.read()\n",
    "    arys = arys.astype('uint8')\n",
    "    arys2 = np.moveaxis(arys, 0, -1)\n",
    "    \n",
    "    nm = img[0:-3] + 'jpg'\n",
    "    io.imsave(nm, arys2)"
   ]
  }
 ],
 "metadata": {
  "kernelspec": {
   "display_name": "Python 3",
   "language": "python",
   "name": "python3"
  },
  "language_info": {
   "codemirror_mode": {
    "name": "ipython",
    "version": 3
   },
   "file_extension": ".py",
   "mimetype": "text/x-python",
   "name": "python",
   "nbconvert_exporter": "python",
   "pygments_lexer": "ipython3",
   "version": "3.6.10"
  }
 },
 "nbformat": 4,
 "nbformat_minor": 4
}
